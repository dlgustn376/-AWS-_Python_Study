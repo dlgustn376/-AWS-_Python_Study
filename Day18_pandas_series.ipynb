{
 "cells": [
  {
   "cell_type": "code",
   "execution_count": 2,
   "id": "62a8d566",
   "metadata": {
    "scrolled": true
   },
   "outputs": [
    {
     "name": "stdout",
     "output_type": "stream",
     "text": [
      "Requirement already satisfied: pandas in c:\\users\\itps\\appdata\\local\\programs\\python\\python310\\lib\\site-packages (1.5.3)Note: you may need to restart the kernel to use updated packages.\n",
      "\n",
      "Requirement already satisfied: python-dateutil>=2.8.1 in c:\\users\\itps\\appdata\\local\\programs\\python\\python310\\lib\\site-packages (from pandas) (2.8.2)\n",
      "Requirement already satisfied: pytz>=2020.1 in c:\\users\\itps\\appdata\\local\\programs\\python\\python310\\lib\\site-packages (from pandas) (2022.7.1)\n",
      "Requirement already satisfied: numpy>=1.21.0 in c:\\users\\itps\\appdata\\local\\programs\\python\\python310\\lib\\site-packages (from pandas) (1.24.1)\n",
      "Requirement already satisfied: six>=1.5 in c:\\users\\itps\\appdata\\local\\programs\\python\\python310\\lib\\site-packages (from python-dateutil>=2.8.1->pandas) (1.16.0)\n"
     ]
    }
   ],
   "source": [
    "pip install pandas"
   ]
  },
  {
   "cell_type": "code",
   "execution_count": 4,
   "id": "d046f198",
   "metadata": {},
   "outputs": [
    {
     "name": "stdout",
     "output_type": "stream",
     "text": [
      "       0    1    2    3               4\n",
      "0    5.1  3.5  1.4  0.2     Iris-setosa\n",
      "1    4.9  3.0  1.4  0.2     Iris-setosa\n",
      "2    4.7  3.2  1.3  0.2     Iris-setosa\n",
      "3    4.6  3.1  1.5  0.2     Iris-setosa\n",
      "4    5.0  3.6  1.4  0.2     Iris-setosa\n",
      "..   ...  ...  ...  ...             ...\n",
      "145  6.7  3.0  5.2  2.3  Iris-virginica\n",
      "146  6.3  2.5  5.0  1.9  Iris-virginica\n",
      "147  6.5  3.0  5.2  2.0  Iris-virginica\n",
      "148  6.2  3.4  5.4  2.3  Iris-virginica\n",
      "149  5.9  3.0  5.1  1.8  Iris-virginica\n",
      "\n",
      "[150 rows x 5 columns]\n"
     ]
    }
   ],
   "source": [
    "import numpy as np\n",
    "import pandas as pd\n",
    "import requests\n",
    "\n",
    "# iris_data_str = requests.get('https://archive.ics.uci.edu/ml/machine-learning-databases/iris/iris.data')\n",
    "# 파일이름만 주고 받아옴.\n",
    "# 형태는 csv형태\n",
    "# columns 하나가 series이고 이것들의 집합이 pandas.dataframe\n",
    "iris_df = pd.read_csv('iris.data', header=None)\n",
    "print(iris_df)"
   ]
  },
  {
   "cell_type": "code",
   "execution_count": 6,
   "id": "7f7d3f73",
   "metadata": {},
   "outputs": [
    {
     "name": "stdout",
     "output_type": "stream",
     "text": [
      "0    a\n",
      "1    b\n",
      "2    c\n",
      "3    d\n",
      "4    e\n",
      "dtype: object\n",
      "<class 'pandas.core.frame.DataFrame'> <class 'pandas.core.series.Series'>\n"
     ]
    }
   ],
   "source": [
    "s1 = pd.Series(list('abcde'))\n",
    "print(s1)\n",
    "print(type(iris_df), type(s1))"
   ]
  },
  {
   "cell_type": "code",
   "execution_count": 17,
   "id": "0c9b7a37",
   "metadata": {},
   "outputs": [
    {
     "name": "stdout",
     "output_type": "stream",
     "text": [
      "6    16\n",
      "7    17\n",
      "8    18\n",
      "9    19\n",
      "dtype: int64\n"
     ]
    }
   ],
   "source": [
    "# 하나의 데이터 타입으로 취급하는데 현재 정해지지 않았다.\n",
    "# 그래서 문자열로 타입을 잡고 있다.\n",
    "s2 = pd.Series([1,1.0,'a'])\n",
    "s3 = pd.Series([x for x in range(10,20)])\n",
    "# print(s2)\n",
    "# print(s3)\n",
    "# print(s3[3])\n",
    "# print(s3[3:8:2])\n",
    "# print(s3[[3,7,9]])\n",
    "print(s3[s3>15])"
   ]
  },
  {
   "cell_type": "code",
   "execution_count": 20,
   "id": "c3d85ff7",
   "metadata": {},
   "outputs": [
    {
     "name": "stdout",
     "output_type": "stream",
     "text": [
      "1\n",
      "int64\n",
      "(10,)\n",
      "0    10.0\n",
      "1    11.0\n",
      "2    12.0\n",
      "3    13.0\n",
      "4    14.0\n",
      "5    15.0\n",
      "6    16.0\n",
      "7    17.0\n",
      "8    18.0\n",
      "9    19.0\n",
      "dtype: float64\n"
     ]
    }
   ],
   "source": [
    "print(s3.ndim)\n",
    "print(s3.dtype)\n",
    "print(s3.shape)\n",
    "\n",
    "s3_f = s3.astype(np.float64)\n",
    "print(s3_f)"
   ]
  },
  {
   "cell_type": "code",
   "execution_count": 22,
   "id": "95d4cb75",
   "metadata": {},
   "outputs": [
    {
     "name": "stdout",
     "output_type": "stream",
     "text": [
      "[10 11 12 13 14 15 16 17 18 19] <class 'numpy.ndarray'>\n"
     ]
    }
   ],
   "source": [
    "s3_np = s3.to_numpy()\n",
    "print(s3_np, type(s3_np))"
   ]
  },
  {
   "cell_type": "code",
   "execution_count": 23,
   "id": "52af6978",
   "metadata": {},
   "outputs": [
    {
     "name": "stdout",
     "output_type": "stream",
     "text": [
      "0    30\n",
      "1    33\n",
      "2    36\n",
      "3    39\n",
      "4    42\n",
      "5    45\n",
      "6    48\n",
      "7    51\n",
      "8    54\n",
      "9    57\n",
      "dtype: int64\n"
     ]
    }
   ],
   "source": [
    "# 브로드 캐스팅\n",
    "\n",
    "print(s3*3)"
   ]
  },
  {
   "cell_type": "code",
   "execution_count": 39,
   "id": "ef634e97",
   "metadata": {},
   "outputs": [
    {
     "name": "stdout",
     "output_type": "stream",
     "text": [
      "      a    b  c\n",
      "0  10.0  100  a\n",
      "1  11.0  101  d\n",
      "2  12.0  102  s\n",
      "3  13.0  103  a\n",
      "4  14.0  104  f\n"
     ]
    }
   ],
   "source": [
    "### df\n",
    "s1 = pd.Series([x for x in range(10,20)])\n",
    "s2 = pd.Series([x for x in range(100,120)])\n",
    "s3 = pd.Series(list('adsafqwrrfwqlksd'))\n",
    "df1 = pd.DataFrame({'a':s1,'b': s2,'c': s3}) \n",
    "# print(df1)\n",
    "# print(df1['b'])\n",
    "# print(df1['a','b'])\n",
    "# print(df1[2:5]['a'])\n",
    "print(df1[:5])"
   ]
  },
  {
   "cell_type": "code",
   "execution_count": 43,
   "id": "fe1f38db",
   "metadata": {},
   "outputs": [
    {
     "name": "stdout",
     "output_type": "stream",
     "text": [
      "Empty DataFrame\n",
      "Columns: [a, b, c]\n",
      "Index: []\n"
     ]
    }
   ],
   "source": [
    "print(df1.head(0))"
   ]
  },
  {
   "cell_type": "code",
   "execution_count": 46,
   "id": "b4123701",
   "metadata": {
    "scrolled": true
   },
   "outputs": [
    {
     "name": "stdout",
     "output_type": "stream",
     "text": [
      "       a    b    c\n",
      "0   10.0  100    a\n",
      "1   11.0  101    d\n",
      "2   12.0  102    s\n",
      "3   13.0  103    a\n",
      "4   14.0  104    f\n",
      "5   15.0  105    q\n",
      "6   16.0  106    w\n",
      "7   17.0  107    r\n",
      "8   18.0  108    r\n",
      "9   19.0  109    f\n",
      "10   NaN  110    w\n",
      "11   NaN  111    q\n",
      "12   NaN  112    l\n",
      "13   NaN  113    k\n",
      "14   NaN  114    s\n",
      "15   NaN  115    d\n",
      "16   NaN  116  NaN\n",
      "17   NaN  117  NaN\n",
      "18   NaN  118  NaN\n",
      "19   NaN  119  NaN\n",
      "       a    b    c\n",
      "0   10.0  100    a\n",
      "1   11.0  101    d\n",
      "2   12.0  102    s\n",
      "3   13.0  103    a\n",
      "4   14.0  104    f\n",
      "5   15.0  105    q\n",
      "6   16.0  106    w\n",
      "7   17.0  107    r\n",
      "8   18.0  108    r\n",
      "9   19.0  109    f\n",
      "10   NaN  110    w\n",
      "11   NaN  111    q\n",
      "12   NaN  112    l\n",
      "13   NaN  113    k\n",
      "14   NaN  114    s\n",
      "15   NaN  115    d\n",
      "16   NaN  116  NaN\n",
      "17   NaN  117  NaN\n",
      "18   NaN  118  NaN\n",
      "19   NaN  119  NaN\n"
     ]
    }
   ],
   "source": [
    "print(df1)\n",
    "print(df1.loc[:'a'])"
   ]
  },
  {
   "cell_type": "code",
   "execution_count": null,
   "id": "fc88d9ec",
   "metadata": {},
   "outputs": [],
   "source": []
  },
  {
   "cell_type": "code",
   "execution_count": 54,
   "id": "fb26660c",
   "metadata": {},
   "outputs": [
    {
     "name": "stdout",
     "output_type": "stream",
     "text": [
      "       a    b\n",
      "3   13.0  103\n",
      "4   14.0  104\n",
      "5   15.0  105\n",
      "6   16.0  106\n",
      "7   17.0  107\n",
      "8   18.0  108\n",
      "9   19.0  109\n",
      "10   NaN  110\n",
      "      a  c\n",
      "3  13.0  a\n",
      "4  14.0  f\n",
      "5  15.0  q\n",
      "6  16.0  w\n",
      "7  17.0  r\n",
      "8  18.0  r\n",
      "9  19.0  f\n"
     ]
    }
   ],
   "source": [
    "# 빈 값의 타입은?\n",
    "print(df1.loc[3:10,['a', 'b']])\n",
    "print(df1.iloc[3:10,[0,2]])"
   ]
  }
 ],
 "metadata": {
  "kernelspec": {
   "display_name": "Python 3 (ipykernel)",
   "language": "python",
   "name": "python3"
  },
  "language_info": {
   "codemirror_mode": {
    "name": "ipython",
    "version": 3
   },
   "file_extension": ".py",
   "mimetype": "text/x-python",
   "name": "python",
   "nbconvert_exporter": "python",
   "pygments_lexer": "ipython3",
   "version": "3.10.9"
  }
 },
 "nbformat": 4,
 "nbformat_minor": 5
}
