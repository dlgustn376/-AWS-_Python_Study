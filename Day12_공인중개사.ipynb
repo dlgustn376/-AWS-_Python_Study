{
 "cells": [
  {
   "cell_type": "markdown",
   "id": "8256224d",
   "metadata": {},
   "source": [
    "## 전국공인중개사사무소표준데이터\n",
    "* 공인중개사 / 개업공인중개서 비율\n",
    "* 공제미가입 중개사 count, 전체 대비 비율\n",
    "* 00공인중개... 중 흔한 상호명\n",
    "* 00공인중개... 가 아닌것은 따로 저장"
   ]
  },
  {
   "cell_type": "code",
   "execution_count": 1,
   "id": "71f07db4",
   "metadata": {},
   "outputs": [
    {
     "ename": "FileNotFoundError",
     "evalue": "[Errno 2] No such file or directory: '전국공인중개사사무소표준데이터.csv'",
     "output_type": "error",
     "traceback": [
      "\u001b[1;31m---------------------------------------------------------------------------\u001b[0m",
      "\u001b[1;31mFileNotFoundError\u001b[0m                         Traceback (most recent call last)",
      "Cell \u001b[1;32mIn[1], line 34\u001b[0m\n\u001b[0;32m     31\u001b[0m     \u001b[38;5;28;01mreturn\u001b[39;00m \u001b[38;5;28mset\u001b[39m(len_list)\n\u001b[0;32m     33\u001b[0m raw_data\u001b[38;5;241m=\u001b[39m[]\n\u001b[1;32m---> 34\u001b[0m \u001b[38;5;28;01mwith\u001b[39;00m \u001b[38;5;28;43mopen\u001b[39;49m\u001b[43m(\u001b[49m\u001b[38;5;124;43m'\u001b[39;49m\u001b[38;5;124;43m전국공인중개사사무소표준데이터.csv\u001b[39;49m\u001b[38;5;124;43m'\u001b[39;49m\u001b[43m)\u001b[49m \u001b[38;5;28;01mas\u001b[39;00m f:\n\u001b[0;32m     35\u001b[0m     \u001b[38;5;28;01mfor\u001b[39;00m line \u001b[38;5;129;01min\u001b[39;00m f:\n\u001b[0;32m     36\u001b[0m         raw_data\u001b[38;5;241m.\u001b[39mappend(my_split(line[:\u001b[38;5;241m-\u001b[39m\u001b[38;5;241m1\u001b[39m]))\n",
      "File \u001b[1;32m~\\AppData\\Local\\Programs\\Python\\Python310\\lib\\site-packages\\IPython\\core\\interactiveshell.py:282\u001b[0m, in \u001b[0;36m_modified_open\u001b[1;34m(file, *args, **kwargs)\u001b[0m\n\u001b[0;32m    275\u001b[0m \u001b[38;5;28;01mif\u001b[39;00m file \u001b[38;5;129;01min\u001b[39;00m {\u001b[38;5;241m0\u001b[39m, \u001b[38;5;241m1\u001b[39m, \u001b[38;5;241m2\u001b[39m}:\n\u001b[0;32m    276\u001b[0m     \u001b[38;5;28;01mraise\u001b[39;00m \u001b[38;5;167;01mValueError\u001b[39;00m(\n\u001b[0;32m    277\u001b[0m         \u001b[38;5;124mf\u001b[39m\u001b[38;5;124m\"\u001b[39m\u001b[38;5;124mIPython won\u001b[39m\u001b[38;5;124m'\u001b[39m\u001b[38;5;124mt let you open fd=\u001b[39m\u001b[38;5;132;01m{\u001b[39;00mfile\u001b[38;5;132;01m}\u001b[39;00m\u001b[38;5;124m by default \u001b[39m\u001b[38;5;124m\"\u001b[39m\n\u001b[0;32m    278\u001b[0m         \u001b[38;5;124m\"\u001b[39m\u001b[38;5;124mas it is likely to crash IPython. If you know what you are doing, \u001b[39m\u001b[38;5;124m\"\u001b[39m\n\u001b[0;32m    279\u001b[0m         \u001b[38;5;124m\"\u001b[39m\u001b[38;5;124myou can use builtins\u001b[39m\u001b[38;5;124m'\u001b[39m\u001b[38;5;124m open.\u001b[39m\u001b[38;5;124m\"\u001b[39m\n\u001b[0;32m    280\u001b[0m     )\n\u001b[1;32m--> 282\u001b[0m \u001b[38;5;28;01mreturn\u001b[39;00m io_open(file, \u001b[38;5;241m*\u001b[39margs, \u001b[38;5;241m*\u001b[39m\u001b[38;5;241m*\u001b[39mkwargs)\n",
      "\u001b[1;31mFileNotFoundError\u001b[0m: [Errno 2] No such file or directory: '전국공인중개사사무소표준데이터.csv'"
     ]
    }
   ],
   "source": [
    "import numpy as np\n",
    "import math\n",
    "\n",
    "def my_split(s):\n",
    "    block_start = False\n",
    "    start_index = 0\n",
    "    ret_list=[]\n",
    "    for i, c in enumerate(s):\n",
    "        if block_start==False:\n",
    "            if c==',':\n",
    "                ret_list.append(s[start_index:i])\n",
    "                start_index=i+1\n",
    "            elif c=='\"':\n",
    "                block_start=True\n",
    "                start_index = i\n",
    "        else:\n",
    "            if c=='\"':\n",
    "                block_start=False\n",
    "    if s[-1]!=',':\n",
    "        ret_list.append(s[start_index:])\n",
    "    return ret_list\n",
    "\n",
    "def split_len(data_list):\n",
    "    len_list=[]\n",
    "    for e in data_list:\n",
    "        len_list.append(len(e))\n",
    "    print(set(len_list))\n",
    "    if len(set(len_list)) > 1:\n",
    "        for i in set(len_list):\n",
    "            print(i, len_list.count(i))\n",
    "    return set(len_list)\n",
    "            \n",
    "raw_data=[]\n",
    "with open('전국공인중개사사무소표준데이터.csv') as f:\n",
    "    for line in f:\n",
    "        raw_data.append(my_split(line[:-1]))\n",
    "# print(raw_data[:3])\n",
    "# my_split(raw_data[:1])\n",
    "split_len(raw_data)"
   ]
  },
  {
   "cell_type": "code",
   "execution_count": null,
   "id": "2ac0290b",
   "metadata": {},
   "outputs": [],
   "source": [
    "for e in enumerate(raw_data[0]):\n",
    "    print(e)"
   ]
  },
  {
   "cell_type": "code",
   "execution_count": null,
   "id": "8039fef3",
   "metadata": {},
   "outputs": [],
   "source": [
    "np_data = np.array(raw_data)\n",
    "#print(np_data)\n",
    "office_name_data = np_data[:, 0]\n",
    "class_data = np_data[:,2]\n",
    "deduc_data = np_data[:,7]\n",
    "# print(name_data.shape)\n",
    "# print(class_data.shape)\n",
    "# print(deduc_data.shape)\n",
    "\n",
    "# for e in [name_data, class_data, deduc_data]:\n",
    "#     e = np.expand_dims(e, 1)\n",
    "# print(name_data.shape)\n",
    "# print(class_data.shape)\n",
    "# print(deduc_data.shape)\n",
    "\n",
    "\n",
    "office_name_data = office_name_data[:, np.newaxis]\n",
    "class_data = class_data[:, np.newaxis]\n",
    "deduc_data = deduc_data[:, np.newaxis]\n",
    "\n",
    "\n",
    "print(office_name_data.shape)\n",
    "print(class_data.shape)\n",
    "print(deduc_data.shape)\n",
    "\n",
    "# print(len(office_name_data))\n",
    "\n",
    "np_data1 = np.concatenate((office_name_data,class_data), axis = 1)\n",
    "np_data1 = np.concatenate((np_data1,deduc_data), axis = 1)\n",
    "\n",
    "# print(np_data1.shape)\n",
    "# print(np_data1[:])\n",
    "\n",
    "# print(name_data[0])\n",
    "# print(class_data[0])\n",
    "# print(deduc_data[0])"
   ]
  },
  {
   "cell_type": "code",
   "execution_count": null,
   "id": "145214d2",
   "metadata": {},
   "outputs": [],
   "source": [
    "def find_individual(s_list):\n",
    "    r = 0\n",
    "    for s in s_list:    \n",
    "        if '개업' in s :\n",
    "            r = r + 1\n",
    "        else:\n",
    "            pass\n",
    "    return r\n",
    "    \n",
    "def find_deductible_subscription(s_list):\n",
    "    r = 0\n",
    "    for s in s_list:\n",
    "        if 'Y' not in s:\n",
    "            r = r + 1\n",
    "        else:\n",
    "            pass\n",
    "    return r\n",
    "\n",
    "def find_office_name(s_list):\n",
    "    n_list = []\n",
    "    for s in s_list:\n",
    "        if '공인중개사' in s:\n",
    "            n_list.append(s[0:s.index('공인중개사')])\n",
    "    return n_list\n",
    "\n",
    "def count_mode(mode_list):\n",
    "    count_mode = {}\n",
    "    for i in mode_list:\n",
    "        if i in count_mode:\n",
    "            count_mode[i] += 1\n",
    "        else:\n",
    "            count_mode[i] = 1\n",
    "    return count_mode"
   ]
  },
  {
   "cell_type": "code",
   "execution_count": null,
   "id": "f3899dad",
   "metadata": {},
   "outputs": [],
   "source": [
    "office_name_list = []\n",
    "class_list=[]\n",
    "deduc_sub_list =[]\n",
    "new_office_name_list = []\n",
    "for i in np_data1[1:]:\n",
    "    t = i[0]\n",
    "    office_name_list.append(t)\n",
    "\n",
    "for i in np_data1[1:]:\n",
    "    t = i[1]\n",
    "    class_list.append(t)\n",
    "\n",
    "for i in np_data1[1:]:\n",
    "    t = i[2]\n",
    "    deduc_sub_list.append(t)\n",
    "# print(office_name_list)\n",
    "# print(class_list)\n",
    "# print(deduc_sub_list)\n",
    "\n",
    "# for s in office_name_list:\n",
    "#     if '공인중개사' in s:\n",
    "#         new_office_name_list.append(s[0:s.index('공인중개사')])\n",
    "# print(new_office_name_list[:3])\n",
    "\n",
    "# print(find_individual(class_list))\n",
    "# print(find_office_name(office_name_list))\n",
    "# print(find_deductible_subscription(deduc_sub_list))\n",
    "# print(process_office_names(office_name_list))"
   ]
  },
  {
   "cell_type": "code",
   "execution_count": null,
   "id": "7e259077",
   "metadata": {},
   "outputs": [],
   "source": [
    "dict1 = count_mode(find_office_name(office_name_list))\n",
    "name_list1 = []\n",
    "name_list2 = []\n",
    "for i in dict1:\n",
    "    v = int (dict1[i])\n",
    "    if v > 3:\n",
    "        name_list1.append(i)\n",
    "    else:\n",
    "        name_list2.append(i)"
   ]
  },
  {
   "cell_type": "code",
   "execution_count": null,
   "id": "2acf4db9",
   "metadata": {},
   "outputs": [],
   "source": [
    "print('흔한 중개사 이름:',name_list1)"
   ]
  },
  {
   "cell_type": "code",
   "execution_count": null,
   "id": "7bfbe457",
   "metadata": {},
   "outputs": [],
   "source": [
    "print('흔하지 않은 중개사 이름:',name_list2)"
   ]
  },
  {
   "cell_type": "code",
   "execution_count": null,
   "id": "7cc9f1dd",
   "metadata": {},
   "outputs": [],
   "source": [
    "count_1 = len(class_data) - 1\n",
    "class_ratio1 = find_individual(class_list) / count_1 * 100.0\n",
    "print('개업공인 비율:',class_ratio1)"
   ]
  },
  {
   "cell_type": "code",
   "execution_count": null,
   "id": "f224c8c5",
   "metadata": {},
   "outputs": [],
   "source": [
    "count_2 = len(deduc_data) - 1\n",
    "class_ratio2 = find_deductible_subscription(deduc_data) / count_2 * 100.0\n",
    "print('공제미가입 비율:', class_ratio2)"
   ]
  }
 ],
 "metadata": {
  "kernelspec": {
   "display_name": "Python 3 (ipykernel)",
   "language": "python",
   "name": "python3"
  },
  "language_info": {
   "codemirror_mode": {
    "name": "ipython",
    "version": 3
   },
   "file_extension": ".py",
   "mimetype": "text/x-python",
   "name": "python",
   "nbconvert_exporter": "python",
   "pygments_lexer": "ipython3",
   "version": "3.10.9"
  }
 },
 "nbformat": 4,
 "nbformat_minor": 5
}
