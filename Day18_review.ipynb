{
 "cells": [
  {
   "cell_type": "code",
   "execution_count": 1,
   "id": "18991315",
   "metadata": {},
   "outputs": [
    {
     "name": "stdout",
     "output_type": "stream",
     "text": [
      "[]\n",
      "['a']\n"
     ]
    }
   ],
   "source": [
    "# python list\n",
    "\n",
    "lista=[]\n",
    "print(lista)\n",
    "\n",
    "lista.append('a')\n",
    "print(lista)\n"
   ]
  },
  {
   "cell_type": "code",
   "execution_count": 8,
   "id": "d6fcbb1b",
   "metadata": {},
   "outputs": [
    {
     "name": "stdout",
     "output_type": "stream",
     "text": [
      "['a'] <class 'numpy.ndarray'>\n",
      "[0 1 2 3 4]\n",
      "[1 4]\n",
      "[0 2 4]\n",
      "[3 4]\n"
     ]
    }
   ],
   "source": [
    "# numpu ndarray\n",
    "import numpy as np\n",
    "\n",
    "array1 = np.array(lista)\n",
    "array2 = np.array([1,2,3,4])\n",
    "array3 = np.array([x for x in range(5)])\n",
    "\n",
    "# array1.a('c')\n",
    "print(array1, type(array1))\n",
    "print(array3)\n",
    "\n",
    "print(array3[[1,4]])\n",
    "print(array3[array3%2==0])\n",
    "print(array3[array3>2])"
   ]
  },
  {
   "cell_type": "code",
   "execution_count": 13,
   "id": "40e6555b",
   "metadata": {},
   "outputs": [
    {
     "name": "stdout",
     "output_type": "stream",
     "text": [
      "3\n",
      "4\n",
      "[3 4]\n"
     ]
    }
   ],
   "source": [
    "# for, if\n",
    "\n",
    "# for i in array3:\n",
    "#     print(i)\n",
    "\n",
    "for i in range(5):     # np.arange(5)\n",
    "    if i > 2:\n",
    "        print(i)\n",
    "\n",
    "print(array3[array3>2])"
   ]
  },
  {
   "cell_type": "code",
   "execution_count": 34,
   "id": "94741761",
   "metadata": {},
   "outputs": [
    {
     "name": "stdout",
     "output_type": "stream",
     "text": [
      "return_vlalue: 200\n"
     ]
    }
   ],
   "source": [
    "# function\n",
    "\n",
    "def function_name(n):\n",
    "    return n*10\n",
    "\n",
    "return_vlalue = function_name(20)\n",
    "print('return_vlalue:', return_vlalue)\n",
    "\n",
    "assert function_name(100) == 1000"
   ]
  },
  {
   "cell_type": "code",
   "execution_count": 36,
   "id": "f81dc0ba",
   "metadata": {},
   "outputs": [
    {
     "name": "stdout",
     "output_type": "stream",
     "text": [
      "[50, 24, 42, 23, 80, 1, 67, 98, 89, 1]\n",
      "[50, 24, 42, 23, 80, 1, 67, 98, 89, 1]\n",
      "[80 67 98 89]\n",
      "4\n"
     ]
    }
   ],
   "source": [
    "import random\n",
    "\n",
    "random.seed(88)\n",
    "\n",
    "listb =[]\n",
    "for i in range(10):\n",
    "    listb.append(random.randint(0,100))\n",
    "print(listb)\n",
    "    \n",
    "listc = [random.randint(0,100) for _ in range(10)]\n",
    "print(listb)\n",
    "listb_np = [random.randint(0,100) for _ in range(10)]\n",
    "\n",
    "\n",
    "# lisb에서 50보다 큰값.\n",
    "\n",
    "listb_np = np.array(listb)\n",
    "print(listb_np[listb_np>50])\n",
    "print(len(listb_np[listb_np>50]))"
   ]
  },
  {
   "cell_type": "code",
   "execution_count": null,
   "id": "2a7bb21d",
   "metadata": {},
   "outputs": [],
   "source": []
  }
 ],
 "metadata": {
  "kernelspec": {
   "display_name": "Python 3 (ipykernel)",
   "language": "python",
   "name": "python3"
  },
  "language_info": {
   "codemirror_mode": {
    "name": "ipython",
    "version": 3
   },
   "file_extension": ".py",
   "mimetype": "text/x-python",
   "name": "python",
   "nbconvert_exporter": "python",
   "pygments_lexer": "ipython3",
   "version": "3.10.9"
  }
 },
 "nbformat": 4,
 "nbformat_minor": 5
}
