{
 "cells": [
  {
   "cell_type": "markdown",
   "id": "f40c1d1a",
   "metadata": {},
   "source": [
    "# 소개\n",
    "\n",
    "1. URL\n",
    " - https://www.kaggle.com/c/titanic (Titanic: Machine Learning from Disaster)\n",
    "\n",
    "2. 설명\n",
    " - 인공지능 기법을 사용하여 타이타닉 난파선에서 살아남은 승객을 예측하는 모델을 만듭니다.\n",
    " - 생존과 관련된 여러 요소가 있지만 일부 사람들은 다른 사람들보다 생존 할 가능성이 더 높은 것으로 보입니다.\n",
    " - 이 대회에서 우리는 “어떤 종류의 사람들이 살아남을 가능성이 더 높습니까?”라는 질문에 대답하는 예측 모델을 구축하여야 합니다\n",
    "\n",
    "3. 평가방법\n",
    " - 승객 데이터 (예 : 이름, 연령, 성별, 사회 경제적 클래스 등) 사용하여 승객이 타이타닉 침몰에서 살아남았는지 예측하는 것이 임무입니다.\n",
    " - 테스트 세트의 각각에 대해 변수의 0 또는 1 값을 예측해야 합니다."
   ]
  },
  {
   "cell_type": "markdown",
   "id": "d3d609c9",
   "metadata": {},
   "source": [
    "# 데이터"
   ]
  },
  {
   "cell_type": "markdown",
   "id": "50bda848",
   "metadata": {},
   "source": [
    "- survival - 생존여부 ( 0 = No, 1 = Yes )\n",
    "- pclass - 티켓 등급 ( 1 = 1st, 2 = 2nd, 3 = 3rd )\n",
    "- sex - 성별\n",
    "- Age - 나이\n",
    "- sibsp - 타이타닉에 승선한 형제자매 또는 배우자의 수\n",
    "- parch - 타이타닉에 승선한 부모 - 자식의 수\n",
    "- ticket - 티켓 번호\n",
    "- fare - 승선 요금\n",
    "- cabin - 선실 번호\n",
    "- embarked - 승선 항구 이름 ( C = Cherbourg, Q = Queenstown, S = Southampton )"
   ]
  },
  {
   "cell_type": "markdown",
   "id": "07351aa8",
   "metadata": {},
   "source": [
    "# 데이터 전처리"
   ]
  },
  {
   "cell_type": "markdown",
   "id": "e5721599",
   "metadata": {},
   "source": [
    "## 데이터프레임 로드하기"
   ]
  },
  {
   "cell_type": "markdown",
   "id": "8b313a23",
   "metadata": {},
   "source": [
    "[ 설명 ] pandas의 read_csv 메소드를 호출하여 train.csv 파일을 읽어오면, dataframe 형태로 반환합니다."
   ]
  },
  {
   "cell_type": "code",
   "execution_count": 4,
   "id": "2cb476ba",
   "metadata": {},
   "outputs": [],
   "source": [
    "import numpy as np\n",
    "import pandas as pd\n",
    "import matplotlib.pyplot as plt\n",
    "import matplotlib\n",
    "import seaborn as sns\n",
    "\n",
    "df1 = pd.read_csv('train.csv', encoding='cp949')"
   ]
  },
  {
   "cell_type": "code",
   "execution_count": 5,
   "id": "38ee1a09",
   "metadata": {},
   "outputs": [
    {
     "name": "stdout",
     "output_type": "stream",
     "text": [
      "     PassengerId  Survived  Pclass  \\\n",
      "0              1         0       3   \n",
      "1              2         1       1   \n",
      "2              3         1       3   \n",
      "3              4         1       1   \n",
      "4              5         0       3   \n",
      "..           ...       ...     ...   \n",
      "886          887         0       2   \n",
      "887          888         1       1   \n",
      "888          889         0       3   \n",
      "889          890         1       1   \n",
      "890          891         0       3   \n",
      "\n",
      "                                                  Name     Sex   Age  SibSp  \\\n",
      "0                              Braund, Mr. Owen Harris    male  22.0      1   \n",
      "1    Cumings, Mrs. John Bradley (Florence Briggs Th...  female  38.0      1   \n",
      "2                               Heikkinen, Miss. Laina  female  26.0      0   \n",
      "3         Futrelle, Mrs. Jacques Heath (Lily May Peel)  female  35.0      1   \n",
      "4                             Allen, Mr. William Henry    male  35.0      0   \n",
      "..                                                 ...     ...   ...    ...   \n",
      "886                              Montvila, Rev. Juozas    male  27.0      0   \n",
      "887                       Graham, Miss. Margaret Edith  female  19.0      0   \n",
      "888           Johnston, Miss. Catherine Helen \"Carrie\"  female   NaN      1   \n",
      "889                              Behr, Mr. Karl Howell    male  26.0      0   \n",
      "890                                Dooley, Mr. Patrick    male  32.0      0   \n",
      "\n",
      "     Parch            Ticket     Fare Cabin Embarked  \n",
      "0        0         A/5 21171   7.2500   NaN        S  \n",
      "1        0          PC 17599  71.2833   C85        C  \n",
      "2        0  STON/O2. 3101282   7.9250   NaN        S  \n",
      "3        0            113803  53.1000  C123        S  \n",
      "4        0            373450   8.0500   NaN        S  \n",
      "..     ...               ...      ...   ...      ...  \n",
      "886      0            211536  13.0000   NaN        S  \n",
      "887      0            112053  30.0000   B42        S  \n",
      "888      2        W./C. 6607  23.4500   NaN        S  \n",
      "889      0            111369  30.0000  C148        C  \n",
      "890      0            370376   7.7500   NaN        Q  \n",
      "\n",
      "[891 rows x 12 columns]\n"
     ]
    }
   ],
   "source": [
    "print(df1)"
   ]
  },
  {
   "cell_type": "markdown",
   "id": "a9d12a02",
   "metadata": {},
   "source": [
    "## 데이터셋 결측치 확인"
   ]
  },
  {
   "cell_type": "markdown",
   "id": "d8a9963c",
   "metadata": {},
   "source": [
    "[ 설명 ] pandas의 isnull(), sum() 메소드를 호출하여 dataframe에 컬럼별 결측치 개수를 구한다. ( 0 -> 결측치 없음, 상수 -> 총 결측치 개수)"
   ]
  },
  {
   "cell_type": "code",
   "execution_count": 7,
   "id": "a606260b",
   "metadata": {},
   "outputs": [
    {
     "name": "stdout",
     "output_type": "stream",
     "text": [
      "PassengerId      0\n",
      "Survived         0\n",
      "Pclass           0\n",
      "Name             0\n",
      "Sex              0\n",
      "Age            177\n",
      "SibSp            0\n",
      "Parch            0\n",
      "Ticket           0\n",
      "Fare             0\n",
      "Cabin          687\n",
      "Embarked         2\n",
      "dtype: int64\n"
     ]
    }
   ],
   "source": [
    "num_missing_values = df1.isnull().sum()\n",
    "print(num_missing_values)"
   ]
  },
  {
   "cell_type": "markdown",
   "id": "3731236e",
   "metadata": {},
   "source": [
    "## 학습 데이터셋 상위 5개 항목 출력"
   ]
  },
  {
   "cell_type": "markdown",
   "id": "3bfd30ea",
   "metadata": {},
   "source": [
    "[ 설명 ] pandas의 head(n) 메소드를 사용하여 n개의 레코드를 출력한다."
   ]
  },
  {
   "cell_type": "code",
   "execution_count": 10,
   "id": "29e11e56",
   "metadata": {},
   "outputs": [
    {
     "data": {
      "text/html": [
       "<div>\n",
       "<style scoped>\n",
       "    .dataframe tbody tr th:only-of-type {\n",
       "        vertical-align: middle;\n",
       "    }\n",
       "\n",
       "    .dataframe tbody tr th {\n",
       "        vertical-align: top;\n",
       "    }\n",
       "\n",
       "    .dataframe thead th {\n",
       "        text-align: right;\n",
       "    }\n",
       "</style>\n",
       "<table border=\"1\" class=\"dataframe\">\n",
       "  <thead>\n",
       "    <tr style=\"text-align: right;\">\n",
       "      <th></th>\n",
       "      <th>PassengerId</th>\n",
       "      <th>Survived</th>\n",
       "      <th>Pclass</th>\n",
       "      <th>Name</th>\n",
       "      <th>Sex</th>\n",
       "      <th>Age</th>\n",
       "      <th>SibSp</th>\n",
       "      <th>Parch</th>\n",
       "      <th>Ticket</th>\n",
       "      <th>Fare</th>\n",
       "      <th>Cabin</th>\n",
       "      <th>Embarked</th>\n",
       "    </tr>\n",
       "  </thead>\n",
       "  <tbody>\n",
       "    <tr>\n",
       "      <th>0</th>\n",
       "      <td>1</td>\n",
       "      <td>0</td>\n",
       "      <td>3</td>\n",
       "      <td>Braund, Mr. Owen Harris</td>\n",
       "      <td>male</td>\n",
       "      <td>22.0</td>\n",
       "      <td>1</td>\n",
       "      <td>0</td>\n",
       "      <td>A/5 21171</td>\n",
       "      <td>7.2500</td>\n",
       "      <td>NaN</td>\n",
       "      <td>S</td>\n",
       "    </tr>\n",
       "    <tr>\n",
       "      <th>1</th>\n",
       "      <td>2</td>\n",
       "      <td>1</td>\n",
       "      <td>1</td>\n",
       "      <td>Cumings, Mrs. John Bradley (Florence Briggs Th...</td>\n",
       "      <td>female</td>\n",
       "      <td>38.0</td>\n",
       "      <td>1</td>\n",
       "      <td>0</td>\n",
       "      <td>PC 17599</td>\n",
       "      <td>71.2833</td>\n",
       "      <td>C85</td>\n",
       "      <td>C</td>\n",
       "    </tr>\n",
       "    <tr>\n",
       "      <th>2</th>\n",
       "      <td>3</td>\n",
       "      <td>1</td>\n",
       "      <td>3</td>\n",
       "      <td>Heikkinen, Miss. Laina</td>\n",
       "      <td>female</td>\n",
       "      <td>26.0</td>\n",
       "      <td>0</td>\n",
       "      <td>0</td>\n",
       "      <td>STON/O2. 3101282</td>\n",
       "      <td>7.9250</td>\n",
       "      <td>NaN</td>\n",
       "      <td>S</td>\n",
       "    </tr>\n",
       "    <tr>\n",
       "      <th>3</th>\n",
       "      <td>4</td>\n",
       "      <td>1</td>\n",
       "      <td>1</td>\n",
       "      <td>Futrelle, Mrs. Jacques Heath (Lily May Peel)</td>\n",
       "      <td>female</td>\n",
       "      <td>35.0</td>\n",
       "      <td>1</td>\n",
       "      <td>0</td>\n",
       "      <td>113803</td>\n",
       "      <td>53.1000</td>\n",
       "      <td>C123</td>\n",
       "      <td>S</td>\n",
       "    </tr>\n",
       "    <tr>\n",
       "      <th>4</th>\n",
       "      <td>5</td>\n",
       "      <td>0</td>\n",
       "      <td>3</td>\n",
       "      <td>Allen, Mr. William Henry</td>\n",
       "      <td>male</td>\n",
       "      <td>35.0</td>\n",
       "      <td>0</td>\n",
       "      <td>0</td>\n",
       "      <td>373450</td>\n",
       "      <td>8.0500</td>\n",
       "      <td>NaN</td>\n",
       "      <td>S</td>\n",
       "    </tr>\n",
       "  </tbody>\n",
       "</table>\n",
       "</div>"
      ],
      "text/plain": [
       "   PassengerId  Survived  Pclass  \\\n",
       "0            1         0       3   \n",
       "1            2         1       1   \n",
       "2            3         1       3   \n",
       "3            4         1       1   \n",
       "4            5         0       3   \n",
       "\n",
       "                                                Name     Sex   Age  SibSp  \\\n",
       "0                            Braund, Mr. Owen Harris    male  22.0      1   \n",
       "1  Cumings, Mrs. John Bradley (Florence Briggs Th...  female  38.0      1   \n",
       "2                             Heikkinen, Miss. Laina  female  26.0      0   \n",
       "3       Futrelle, Mrs. Jacques Heath (Lily May Peel)  female  35.0      1   \n",
       "4                           Allen, Mr. William Henry    male  35.0      0   \n",
       "\n",
       "   Parch            Ticket     Fare Cabin Embarked  \n",
       "0      0         A/5 21171   7.2500   NaN        S  \n",
       "1      0          PC 17599  71.2833   C85        C  \n",
       "2      0  STON/O2. 3101282   7.9250   NaN        S  \n",
       "3      0            113803  53.1000  C123        S  \n",
       "4      0            373450   8.0500   NaN        S  "
      ]
     },
     "execution_count": 10,
     "metadata": {},
     "output_type": "execute_result"
    }
   ],
   "source": [
    "df1.head()"
   ]
  },
  {
   "cell_type": "markdown",
   "id": "cc474060",
   "metadata": {},
   "source": [
    "## 학습 데이터셋 데이터 분포 확인"
   ]
  },
  {
   "cell_type": "markdown",
   "id": "02fc476c",
   "metadata": {},
   "source": [
    "[ 설명 ] pandas의 describe메소드를 사용하여 레코드의 총 개수, 평균, 최소값, 최대값 등을 출력한다."
   ]
  },
  {
   "cell_type": "code",
   "execution_count": 4,
   "id": "95365c4c",
   "metadata": {},
   "outputs": [
    {
     "data": {
      "text/html": [
       "<div>\n",
       "<style scoped>\n",
       "    .dataframe tbody tr th:only-of-type {\n",
       "        vertical-align: middle;\n",
       "    }\n",
       "\n",
       "    .dataframe tbody tr th {\n",
       "        vertical-align: top;\n",
       "    }\n",
       "\n",
       "    .dataframe thead th {\n",
       "        text-align: right;\n",
       "    }\n",
       "</style>\n",
       "<table border=\"1\" class=\"dataframe\">\n",
       "  <thead>\n",
       "    <tr style=\"text-align: right;\">\n",
       "      <th></th>\n",
       "      <th>PassengerId</th>\n",
       "      <th>Survived</th>\n",
       "      <th>Pclass</th>\n",
       "      <th>Age</th>\n",
       "      <th>SibSp</th>\n",
       "      <th>Parch</th>\n",
       "      <th>Fare</th>\n",
       "    </tr>\n",
       "  </thead>\n",
       "  <tbody>\n",
       "    <tr>\n",
       "      <th>count</th>\n",
       "      <td>891.000000</td>\n",
       "      <td>891.000000</td>\n",
       "      <td>891.000000</td>\n",
       "      <td>714.000000</td>\n",
       "      <td>891.000000</td>\n",
       "      <td>891.000000</td>\n",
       "      <td>891.000000</td>\n",
       "    </tr>\n",
       "    <tr>\n",
       "      <th>mean</th>\n",
       "      <td>446.000000</td>\n",
       "      <td>0.383838</td>\n",
       "      <td>2.308642</td>\n",
       "      <td>29.699118</td>\n",
       "      <td>0.523008</td>\n",
       "      <td>0.381594</td>\n",
       "      <td>32.204208</td>\n",
       "    </tr>\n",
       "    <tr>\n",
       "      <th>std</th>\n",
       "      <td>257.353842</td>\n",
       "      <td>0.486592</td>\n",
       "      <td>0.836071</td>\n",
       "      <td>14.526497</td>\n",
       "      <td>1.102743</td>\n",
       "      <td>0.806057</td>\n",
       "      <td>49.693429</td>\n",
       "    </tr>\n",
       "    <tr>\n",
       "      <th>min</th>\n",
       "      <td>1.000000</td>\n",
       "      <td>0.000000</td>\n",
       "      <td>1.000000</td>\n",
       "      <td>0.420000</td>\n",
       "      <td>0.000000</td>\n",
       "      <td>0.000000</td>\n",
       "      <td>0.000000</td>\n",
       "    </tr>\n",
       "    <tr>\n",
       "      <th>25%</th>\n",
       "      <td>223.500000</td>\n",
       "      <td>0.000000</td>\n",
       "      <td>2.000000</td>\n",
       "      <td>20.125000</td>\n",
       "      <td>0.000000</td>\n",
       "      <td>0.000000</td>\n",
       "      <td>7.910400</td>\n",
       "    </tr>\n",
       "    <tr>\n",
       "      <th>50%</th>\n",
       "      <td>446.000000</td>\n",
       "      <td>0.000000</td>\n",
       "      <td>3.000000</td>\n",
       "      <td>28.000000</td>\n",
       "      <td>0.000000</td>\n",
       "      <td>0.000000</td>\n",
       "      <td>14.454200</td>\n",
       "    </tr>\n",
       "    <tr>\n",
       "      <th>75%</th>\n",
       "      <td>668.500000</td>\n",
       "      <td>1.000000</td>\n",
       "      <td>3.000000</td>\n",
       "      <td>38.000000</td>\n",
       "      <td>1.000000</td>\n",
       "      <td>0.000000</td>\n",
       "      <td>31.000000</td>\n",
       "    </tr>\n",
       "    <tr>\n",
       "      <th>max</th>\n",
       "      <td>891.000000</td>\n",
       "      <td>1.000000</td>\n",
       "      <td>3.000000</td>\n",
       "      <td>80.000000</td>\n",
       "      <td>8.000000</td>\n",
       "      <td>6.000000</td>\n",
       "      <td>512.329200</td>\n",
       "    </tr>\n",
       "  </tbody>\n",
       "</table>\n",
       "</div>"
      ],
      "text/plain": [
       "       PassengerId    Survived      Pclass         Age       SibSp  \\\n",
       "count   891.000000  891.000000  891.000000  714.000000  891.000000   \n",
       "mean    446.000000    0.383838    2.308642   29.699118    0.523008   \n",
       "std     257.353842    0.486592    0.836071   14.526497    1.102743   \n",
       "min       1.000000    0.000000    1.000000    0.420000    0.000000   \n",
       "25%     223.500000    0.000000    2.000000   20.125000    0.000000   \n",
       "50%     446.000000    0.000000    3.000000   28.000000    0.000000   \n",
       "75%     668.500000    1.000000    3.000000   38.000000    1.000000   \n",
       "max     891.000000    1.000000    3.000000   80.000000    8.000000   \n",
       "\n",
       "            Parch        Fare  \n",
       "count  891.000000  891.000000  \n",
       "mean     0.381594   32.204208  \n",
       "std      0.806057   49.693429  \n",
       "min      0.000000    0.000000  \n",
       "25%      0.000000    7.910400  \n",
       "50%      0.000000   14.454200  \n",
       "75%      0.000000   31.000000  \n",
       "max      6.000000  512.329200  "
      ]
     },
     "execution_count": 4,
     "metadata": {},
     "output_type": "execute_result"
    }
   ],
   "source": []
  },
  {
   "cell_type": "markdown",
   "id": "333adcf9",
   "metadata": {},
   "source": [
    "## 데이터 타입 확인"
   ]
  },
  {
   "cell_type": "markdown",
   "id": "b692ea15",
   "metadata": {},
   "source": [
    "[ 설명 ] pandas의 dtypes 메소드를 사용하여 dataframe내의 컬럼 별 데이터 타입을 확인한다."
   ]
  },
  {
   "cell_type": "code",
   "execution_count": 5,
   "id": "7ae799f3",
   "metadata": {},
   "outputs": [
    {
     "data": {
      "text/plain": [
       "PassengerId      int64\n",
       "Survived         int64\n",
       "Pclass           int64\n",
       "Name            object\n",
       "Sex             object\n",
       "Age            float64\n",
       "SibSp            int64\n",
       "Parch            int64\n",
       "Ticket          object\n",
       "Fare           float64\n",
       "Cabin           object\n",
       "Embarked        object\n",
       "dtype: object"
      ]
     },
     "execution_count": 5,
     "metadata": {},
     "output_type": "execute_result"
    }
   ],
   "source": []
  },
  {
   "cell_type": "markdown",
   "id": "e70f8ef9",
   "metadata": {},
   "source": [
    "## 'Cabin', 'Embarked' 데이터 확인"
   ]
  },
  {
   "cell_type": "markdown",
   "id": "816f4481",
   "metadata": {},
   "source": [
    "[ 설명 ] pandas의 unique 메소드를 사용하여 Series에 어떤 단일값들이 있는지 확인한다."
   ]
  },
  {
   "cell_type": "code",
   "execution_count": 6,
   "id": "6b4a3812",
   "metadata": {},
   "outputs": [
    {
     "name": "stdout",
     "output_type": "stream",
     "text": [
      "[nan 'C85' 'C123' 'E46' 'G6' 'C103' 'D56' 'A6' 'C23 C25 C27' 'B78' 'D33'\n",
      " 'B30' 'C52' 'B28' 'C83' 'F33' 'F G73' 'E31' 'A5' 'D10 D12' 'D26' 'C110'\n",
      " 'B58 B60' 'E101' 'F E69' 'D47' 'B86' 'F2' 'C2' 'E33' 'B19' 'A7' 'C49'\n",
      " 'F4' 'A32' 'B4' 'B80' 'A31' 'D36' 'D15' 'C93' 'C78' 'D35' 'C87' 'B77'\n",
      " 'E67' 'B94' 'C125' 'C99' 'C118' 'D7' 'A19' 'B49' 'D' 'C22 C26' 'C106'\n",
      " 'C65' 'E36' 'C54' 'B57 B59 B63 B66' 'C7' 'E34' 'C32' 'B18' 'C124' 'C91'\n",
      " 'E40' 'T' 'C128' 'D37' 'B35' 'E50' 'C82' 'B96 B98' 'E10' 'E44' 'A34'\n",
      " 'C104' 'C111' 'C92' 'E38' 'D21' 'E12' 'E63' 'A14' 'B37' 'C30' 'D20' 'B79'\n",
      " 'E25' 'D46' 'B73' 'C95' 'B38' 'B39' 'B22' 'C86' 'C70' 'A16' 'C101' 'C68'\n",
      " 'A10' 'E68' 'B41' 'A20' 'D19' 'D50' 'D9' 'A23' 'B50' 'A26' 'D48' 'E58'\n",
      " 'C126' 'B71' 'B51 B53 B55' 'D49' 'B5' 'B20' 'F G63' 'C62 C64' 'E24' 'C90'\n",
      " 'C45' 'E8' 'B101' 'D45' 'C46' 'D30' 'E121' 'D11' 'E77' 'F38' 'B3' 'D6'\n",
      " 'B82 B84' 'D17' 'A36' 'B102' 'B69' 'E49' 'C47' 'D28' 'E17' 'A24' 'C50'\n",
      " 'B42' 'C148']\n",
      "['S' 'C' 'Q' nan]\n"
     ]
    }
   ],
   "source": []
  },
  {
   "cell_type": "markdown",
   "id": "cee1ee54",
   "metadata": {},
   "source": [
    "## 생존한 사람과 사망한 사람의 수 확인"
   ]
  },
  {
   "cell_type": "markdown",
   "id": "80f17888",
   "metadata": {},
   "source": [
    "[ 설명 ] pandas의 sum() 메서드 사용하여 Survival컬럼 값의 합으로 생존자의 수를 구하고 train의 전체 레코드 수에서 survival의 값을 빼어 사망한 사람의 수를 구한다."
   ]
  },
  {
   "cell_type": "code",
   "execution_count": 7,
   "id": "97e283fe",
   "metadata": {},
   "outputs": [],
   "source": []
  },
  {
   "cell_type": "markdown",
   "id": "0f7591bf",
   "metadata": {},
   "source": [
    "## 승객 클래스별 탑승객 분포 확인"
   ]
  },
  {
   "cell_type": "markdown",
   "id": "b496d840",
   "metadata": {},
   "source": [
    "[ 설명 ] pandas의 value_count()메소드를 사용하여 승객의 지위(Pclass)별 분포를 확인한다."
   ]
  },
  {
   "cell_type": "code",
   "execution_count": 8,
   "id": "1db2ff74",
   "metadata": {},
   "outputs": [
    {
     "data": {
      "text/plain": [
       "3    491\n",
       "1    216\n",
       "2    184\n",
       "Name: Pclass, dtype: int64"
      ]
     },
     "execution_count": 8,
     "metadata": {},
     "output_type": "execute_result"
    }
   ],
   "source": []
  },
  {
   "cell_type": "markdown",
   "id": "347b9d7a",
   "metadata": {},
   "source": [
    "## 성별 탑승객 분포 확인"
   ]
  },
  {
   "cell_type": "markdown",
   "id": "18d422cb",
   "metadata": {},
   "source": [
    "[ 설명 ] pandas의 value_count()메소드를 사용하여 승객의 성(Sex)별 분포를 확인한다."
   ]
  },
  {
   "cell_type": "code",
   "execution_count": 9,
   "id": "71d10b6f",
   "metadata": {},
   "outputs": [
    {
     "data": {
      "text/plain": [
       "male      577\n",
       "female    314\n",
       "Name: Sex, dtype: int64"
      ]
     },
     "execution_count": 9,
     "metadata": {},
     "output_type": "execute_result"
    }
   ],
   "source": []
  },
  {
   "cell_type": "markdown",
   "id": "bb9cdaf1",
   "metadata": {},
   "source": [
    "## 'Embarked' 필드 결측치는 값이 가장 많은 'S'로 할당"
   ]
  },
  {
   "cell_type": "markdown",
   "id": "2497ec10",
   "metadata": {},
   "source": [
    "[ 설명 ] pandas의 fillna()함수를 사용하여 결측치 값을 'S'로 바꾼다."
   ]
  },
  {
   "cell_type": "code",
   "execution_count": 10,
   "id": "d99c1c6a",
   "metadata": {},
   "outputs": [],
   "source": []
  },
  {
   "cell_type": "markdown",
   "id": "d5ac4d58",
   "metadata": {},
   "source": [
    "## 'Age' 필드 결측치는 중앙값으로 할당"
   ]
  },
  {
   "cell_type": "markdown",
   "id": "58a7f2c0",
   "metadata": {},
   "source": [
    "[ 설명 ] pandas의 median()메소드로 'Age'필드의 중간값을 가져와서 fillna()함수를 사용하여 'Age'필드의 중간값으로 'Age'필드의 결측치를 바꾼다."
   ]
  },
  {
   "cell_type": "code",
   "execution_count": 11,
   "id": "45d782e1",
   "metadata": {},
   "outputs": [],
   "source": []
  },
  {
   "cell_type": "markdown",
   "id": "7d2331ce",
   "metadata": {},
   "source": [
    "## 'Name' 필드에서 신분을 나타내는 단어를 뽑아 'Title' 필드에 할당"
   ]
  },
  {
   "cell_type": "markdown",
   "id": "721276ba",
   "metadata": {},
   "source": [
    "[ 설명 ] pandas의 extract()메소드에 인자값으로 정규식을 전달해주면 해당되는 문자열을 추출해낸다."
   ]
  },
  {
   "cell_type": "code",
   "execution_count": 12,
   "id": "bfe51fc1",
   "metadata": {},
   "outputs": [],
   "source": []
  },
  {
   "cell_type": "markdown",
   "id": "be6a05ab",
   "metadata": {},
   "source": [
    "## 'Title' 필드 카테고리를 6개 항목으로 변경"
   ]
  },
  {
   "cell_type": "markdown",
   "id": "ea277718",
   "metadata": {},
   "source": [
    "[ 설명 ] replace()메소를 사용하여 첫번째 인자에 해당하는 문자열을 두 번째 인자 문자열로 치환한다.\n",
    " - 'Capt', 'Col', 'Major', 'Dr', 'Rev' => Officer\n",
    " - 'Jonkheer', 'Master' => Master\n",
    " - 'Don', 'Sir', 'the Countess', 'Lady', 'Dona' => Royalty\n",
    " - 'Mme', 'Ms', 'Mrs' => Mrs\n",
    " - 'Mlle', 'Miss' => Miss\n",
    " - 'Mr' => Mr"
   ]
  },
  {
   "cell_type": "code",
   "execution_count": 13,
   "id": "c9f572fa",
   "metadata": {},
   "outputs": [],
   "source": []
  },
  {
   "cell_type": "markdown",
   "id": "7ad7d62b",
   "metadata": {},
   "source": [
    "## 변수 y를 선언해서 학습할 목표변수인 'Survived' 데이터 할당"
   ]
  },
  {
   "cell_type": "markdown",
   "id": "d73e754e",
   "metadata": {},
   "source": [
    "[ 설명 ] 변수 y에 Survived컬럼을 할당한다."
   ]
  },
  {
   "cell_type": "code",
   "execution_count": 14,
   "id": "c542f756",
   "metadata": {},
   "outputs": [],
   "source": []
  },
  {
   "cell_type": "markdown",
   "id": "f58ef794",
   "metadata": {},
   "source": [
    "## 나이('Age') 필드를 그룹핑하여 'AgeGroup' 필드를 생성하여 할당"
   ]
  },
  {
   "cell_type": "markdown",
   "id": "a53787f1",
   "metadata": {},
   "source": [
    "[ 설명 ] AgeGroup컬럼의 값들을 bin에 맞게 잘라서 각 bin을 group_names와 1대1 매칭시켜 분류한다.\n",
    "- 0~18세: Baby\n",
    "- 19~25세: Youth\n",
    "- 26~35세: YoungAdult\n",
    "- 36~60세: MiddleAged\n",
    "- 61~100세: Senior "
   ]
  },
  {
   "cell_type": "code",
   "execution_count": 15,
   "id": "3769a40e",
   "metadata": {},
   "outputs": [
    {
     "data": {
      "text/plain": [
       "YoungAdult    373\n",
       "MiddleAged    195\n",
       "Youth         162\n",
       "Baby          139\n",
       "Senior         22\n",
       "Name: AgeGroup, dtype: int64"
      ]
     },
     "execution_count": 15,
     "metadata": {},
     "output_type": "execute_result"
    }
   ],
   "source": []
  },
  {
   "cell_type": "markdown",
   "id": "b95d9cc7",
   "metadata": {},
   "source": [
    "# 데이터 시각화"
   ]
  },
  {
   "cell_type": "markdown",
   "id": "50963461",
   "metadata": {},
   "source": [
    "## 라이브러리 호출"
   ]
  },
  {
   "cell_type": "markdown",
   "id": "3359b518",
   "metadata": {},
   "source": [
    "[ 설명 ] matplotlib의 pyplot, seaborn을 import한다."
   ]
  },
  {
   "cell_type": "code",
   "execution_count": 16,
   "id": "fda15de8",
   "metadata": {},
   "outputs": [],
   "source": []
  },
  {
   "cell_type": "markdown",
   "id": "b7be08bd",
   "metadata": {},
   "source": [
    "## 성별의 생존여부 데이터 분포 확인(barplot)"
   ]
  },
  {
   "cell_type": "markdown",
   "id": "e0fb2305",
   "metadata": {},
   "source": [
    "[ 설명 ] seaborn의 barplot메소드를 호출하여 X축에는 성별, Y축에는 생존비율로 각각 지정하여 성별 별 생존자 분포를 확인한다."
   ]
  },
  {
   "cell_type": "code",
   "execution_count": 18,
   "id": "2f5fbb74",
   "metadata": {},
   "outputs": [
    {
     "data": {
      "image/png": "[encoded data removed]",
      "text/plain": [
       "<Figure size 640x480 with 1 Axes>"
      ]
     },
     "metadata": {},
     "output_type": "display_data"
    }
   ],
   "source": []
  },
  {
   "cell_type": "markdown",
   "id": "94cd5844",
   "metadata": {},
   "source": [
    "## 승객 클래스('Pclass')별 성별 생존여부 데이터 분포 확인(barplot)"
   ]
  },
  {
   "cell_type": "markdown",
   "id": "056607c9",
   "metadata": {},
   "source": [
    "[ 설명 ] seaborn의 barplot메소드를 호출하여 각 Pclass내의 성별 별 생존률 분포를 확인한다."
   ]
  },
  {
   "cell_type": "code",
   "execution_count": 19,
   "id": "11d9d7ad",
   "metadata": {},
   "outputs": [
    {
     "data": {
      "image/png": "[encoded data removed]",
      "text/plain": [
       "<Figure size 640x480 with 1 Axes>"
      ]
     },
     "metadata": {},
     "output_type": "display_data"
    }
   ],
   "source": []
  },
  {
   "cell_type": "markdown",
   "id": "1f14fd9a",
   "metadata": {},
   "source": [
    "## 전체 변수의 correlation 히트맵 확인"
   ]
  },
  {
   "cell_type": "markdown",
   "id": "b7e218e3",
   "metadata": {},
   "source": [
    "[ 설명 ] seaborn의 heatmap메소드에 train데이터의 상관계수를 인자로 넘겨주면 train데이터의 전체 상관관계에 대한 히트맵을 반환한다."
   ]
  },
  {
   "cell_type": "code",
   "execution_count": 20,
   "id": "51f7e5c7",
   "metadata": {},
   "outputs": [
    {
     "data": {
      "image/png": "[encoded data removed]",
      "text/plain": [
       "<Figure size 800x600 with 2 Axes>"
      ]
     },
     "metadata": {},
     "output_type": "display_data"
    }
   ],
   "source": []
  },
  {
   "cell_type": "markdown",
   "id": "d44dae99",
   "metadata": {},
   "source": [
    "## 연령분포('AgeGroup')별 클래스별 생존여부 데이터 분포 확인"
   ]
  },
  {
   "cell_type": "markdown",
   "id": "4137b40d",
   "metadata": {},
   "source": [
    "[ 설명 ] seaborn의 barplot메소드를 호출하여 각 AgeGroup 내의 성별 별 생존률 분포를 확인한다."
   ]
  },
  {
   "cell_type": "code",
   "execution_count": 21,
   "id": "a8a8345e",
   "metadata": {},
   "outputs": [
    {
     "data": {
      "image/png": "[encoded data removed]",
      "text/plain": [
       "<Figure size 640x480 with 1 Axes>"
      ]
     },
     "metadata": {},
     "output_type": "display_data"
    }
   ],
   "source": []
  },
  {
   "cell_type": "markdown",
   "id": "2eceebeb",
   "metadata": {},
   "source": [
    "## 형제/자매('SibSp')별 클래스별 생존여부 확인"
   ]
  },
  {
   "cell_type": "markdown",
   "id": "a35588c7",
   "metadata": {},
   "source": [
    "[ 설명 ] seaborn의 barplot메소드를 호출하여 각 형재/자매 수 컬럼 내의 성별 별 생존률 분포를 확인한다."
   ]
  },
  {
   "cell_type": "code",
   "execution_count": 22,
   "id": "74894bcf",
   "metadata": {},
   "outputs": [
    {
     "data": {
      "image/png": "[encoded data removed]",
      "text/plain": [
       "<Figure size 640x480 with 1 Axes>"
      ]
     },
     "metadata": {},
     "output_type": "display_data"
    }
   ],
   "source": []
  },
  {
   "cell_type": "markdown",
   "id": "7e344489",
   "metadata": {},
   "source": [
    "# 모델 생성"
   ]
  },
  {
   "cell_type": "markdown",
   "id": "79c06294",
   "metadata": {},
   "source": [
    "## 라이브러리 호출"
   ]
  },
  {
   "cell_type": "markdown",
   "id": "520e085c",
   "metadata": {},
   "source": [
    "[ 설명 ] scikit-learn의 LabelEncoder 모듈 import"
   ]
  },
  {
   "cell_type": "code",
   "execution_count": 23,
   "id": "5bd61f98",
   "metadata": {},
   "outputs": [],
   "source": []
  },
  {
   "cell_type": "markdown",
   "id": "81348e3c",
   "metadata": {},
   "source": [
    "## 학습 데이터 준비 (Name, Ticket, SibSp, Parch, Cabin 컬럼 삭제)"
   ]
  },
  {
   "cell_type": "markdown",
   "id": "16cd4558",
   "metadata": {},
   "source": [
    "[ 설명 ] drop메소드를 호출하여 Name, Ticket, SibSp, Parch, Cabin컬럼을 데이터프레임에서 삭제한다."
   ]
  },
  {
   "cell_type": "code",
   "execution_count": 24,
   "id": "9b363cc6",
   "metadata": {},
   "outputs": [],
   "source": []
  },
  {
   "cell_type": "markdown",
   "id": "84887c73",
   "metadata": {},
   "source": [
    "## 모델링에 사용할 변수의 타입을 수치형으로 변환"
   ]
  },
  {
   "cell_type": "markdown",
   "id": "ade839ee",
   "metadata": {},
   "source": [
    "[ 설명 ] 'Sex'컬럼값의 타입을 확인해보면 object타입인 걸 알 수 있다. LabelEncoder로 정수형 타입으로 바로 캐스팅이 불가능하기 때문에 우선 \"String\"타입으로 전환해준다. LabelEncoder객체를 label 인스턴스로 생성하여 특정 컬럼의 타입을 정수형으로 변환해줄 준비를 한다. 'Sex', 'Embarked', 'Title', 'AgeGroup' 네 개의 컬럼값들을 반복문을 통해 모두 정수형으로 변환해준다."
   ]
  },
  {
   "cell_type": "code",
   "execution_count": 25,
   "id": "f6df83db",
   "metadata": {},
   "outputs": [],
   "source": []
  },
  {
   "cell_type": "markdown",
   "id": "1be94bae",
   "metadata": {},
   "source": [
    "## 학습시킬 변수와 Label 분리"
   ]
  },
  {
   "cell_type": "markdown",
   "id": "92cbe5eb",
   "metadata": {},
   "source": [
    "[ 설명 ] X_train과 Y_train에 학습시킬 변수와 Label변수를 각각 분리한다."
   ]
  },
  {
   "cell_type": "code",
   "execution_count": 26,
   "id": "f2619261",
   "metadata": {},
   "outputs": [],
   "source": []
  },
  {
   "cell_type": "markdown",
   "id": "5408d485",
   "metadata": {},
   "source": [
    "## Train Dataset과 Survived 컬럼과 다른 변수들 간의 상관관계 확인"
   ]
  },
  {
   "cell_type": "markdown",
   "id": "e49335f5",
   "metadata": {},
   "source": [
    "[ 설명 ] corr()['컬럼명']을 호출하게 되면 해당 컬럼명과 다른 컬럼들 간의 상관관계를 리턴한다."
   ]
  },
  {
   "cell_type": "code",
   "execution_count": 27,
   "id": "4df0c728",
   "metadata": {},
   "outputs": [
    {
     "data": {
      "text/plain": [
       "PassengerId   -0.005007\n",
       "Survived       1.000000\n",
       "Pclass        -0.338481\n",
       "Sex           -0.543351\n",
       "Age           -0.064910\n",
       "Fare           0.257307\n",
       "Embarked      -0.167675\n",
       "Title         -0.068432\n",
       "AgeGroup      -0.101416\n",
       "Name: Survived, dtype: float64"
      ]
     },
     "execution_count": 27,
     "metadata": {},
     "output_type": "execute_result"
    }
   ],
   "source": []
  },
  {
   "cell_type": "markdown",
   "id": "da9eceec",
   "metadata": {},
   "source": [
    "## Logistic regression 라이브러리 호출"
   ]
  },
  {
   "cell_type": "markdown",
   "id": "88b44304",
   "metadata": {},
   "source": [
    "[ 설명 ] Logistic Regression 모델을 사용하기 위해 해당 모델 모듈을 Import 하였으며 LogisticRegression 객체를 생성하였다."
   ]
  },
  {
   "cell_type": "code",
   "execution_count": 28,
   "id": "22ae2be7",
   "metadata": {},
   "outputs": [],
   "source": []
  },
  {
   "cell_type": "markdown",
   "id": "9b77e724",
   "metadata": {},
   "source": [
    "## Test Dataset 로드"
   ]
  },
  {
   "cell_type": "markdown",
   "id": "adea5c59",
   "metadata": {},
   "source": [
    "[ 설명 ] test dataset을 load한다."
   ]
  },
  {
   "cell_type": "code",
   "execution_count": 29,
   "id": "b9f67f00",
   "metadata": {},
   "outputs": [],
   "source": []
  },
  {
   "cell_type": "markdown",
   "id": "02e2f66f",
   "metadata": {},
   "source": [
    "## Test Dataset 결측치 확인 및 처리하기"
   ]
  },
  {
   "cell_type": "markdown",
   "id": "342e4ba0",
   "metadata": {},
   "source": [
    "[ 설명 ] test dataset의 Null값 유무를 확인한다."
   ]
  },
  {
   "cell_type": "code",
   "execution_count": 30,
   "id": "c53f2fbf",
   "metadata": {},
   "outputs": [
    {
     "data": {
      "text/plain": [
       "PassengerId      0\n",
       "Pclass           0\n",
       "Name             0\n",
       "Sex              0\n",
       "Age             86\n",
       "SibSp            0\n",
       "Parch            0\n",
       "Ticket           0\n",
       "Fare             1\n",
       "Cabin          327\n",
       "Embarked         0\n",
       "dtype: int64"
      ]
     },
     "execution_count": 30,
     "metadata": {},
     "output_type": "execute_result"
    }
   ],
   "source": []
  },
  {
   "cell_type": "markdown",
   "id": "674d61b8",
   "metadata": {},
   "source": [
    "[ 설명 ] 'Age'컬럼의 null값들을 Age컬럼의 중앙값으로 대체한다. 'Fare'컬럼의 null값들을 Fare컬럼의 평균으로 대체한다."
   ]
  },
  {
   "cell_type": "code",
   "execution_count": 31,
   "id": "7b6e2446",
   "metadata": {},
   "outputs": [],
   "source": []
  },
  {
   "cell_type": "markdown",
   "id": "69ef728a",
   "metadata": {},
   "source": [
    "## Train 데이터셋 차원 맞추기"
   ]
  },
  {
   "cell_type": "markdown",
   "id": "b6a52aa8",
   "metadata": {},
   "source": [
    "[ 설명 ] Train dataset과 동일한 컬럼들을 생성해준다. (Title, AgeGroup)"
   ]
  },
  {
   "cell_type": "code",
   "execution_count": 32,
   "id": "36590f37",
   "metadata": {},
   "outputs": [
    {
     "data": {
      "text/plain": [
       "YoungAdult    175\n",
       "MiddleAged     85\n",
       "Youth          83\n",
       "Baby           66\n",
       "Senior          9\n",
       "Name: AgeGroup, dtype: int64"
      ]
     },
     "execution_count": 32,
     "metadata": {},
     "output_type": "execute_result"
    }
   ],
   "source": []
  },
  {
   "cell_type": "markdown",
   "id": "cd4c685d",
   "metadata": {},
   "source": [
    "[ 설명 ] Sex, Embarked, Title, AgeGroup LabelEncoder 적용"
   ]
  },
  {
   "cell_type": "code",
   "execution_count": 33,
   "id": "55b34eec",
   "metadata": {},
   "outputs": [],
   "source": []
  },
  {
   "cell_type": "markdown",
   "id": "6e5c648b",
   "metadata": {},
   "source": [
    "[ 설명 ] Train dataset과 동일한 컬럼만 나두고 나머지 컬럼을 모두 Drop시킨다."
   ]
  },
  {
   "cell_type": "code",
   "execution_count": 34,
   "id": "1fd84035",
   "metadata": {},
   "outputs": [],
   "source": []
  },
  {
   "cell_type": "markdown",
   "id": "c1690b96",
   "metadata": {},
   "source": [
    "## Logistic Regression 모델을 통해 예측"
   ]
  },
  {
   "cell_type": "markdown",
   "id": "64d8c8c8",
   "metadata": {},
   "source": [
    "[ 설명 ] lr.fit 함수를 통해 모델 학습"
   ]
  },
  {
   "cell_type": "code",
   "execution_count": 35,
   "id": "2a7abb9b",
   "metadata": {},
   "outputs": [
    {
     "data": {
      "text/html": [
       "<style>#sk-container-id-1 {color: black;background-color: white;}#sk-container-id-1 pre{padding: 0;}#sk-container-id-1 div.sk-toggleable {background-color: white;}#sk-container-id-1 label.sk-toggleable__label {cursor: pointer;display: block;width: 100%;margin-bottom: 0;padding: 0.3em;box-sizing: border-box;text-align: center;}#sk-container-id-1 label.sk-toggleable__label-arrow:before {content: \"▸\";float: left;margin-right: 0.25em;color: #696969;}#sk-container-id-1 label.sk-toggleable__label-arrow:hover:before {color: black;}#sk-container-id-1 div.sk-estimator:hover label.sk-toggleable__label-arrow:before {color: black;}#sk-container-id-1 div.sk-toggleable__content {max-height: 0;max-width: 0;overflow: hidden;text-align: left;background-color: #f0f8ff;}#sk-container-id-1 div.sk-toggleable__content pre {margin: 0.2em;color: black;border-radius: 0.25em;background-color: #f0f8ff;}#sk-container-id-1 input.sk-toggleable__control:checked~div.sk-toggleable__content {max-height: 200px;max-width: 100%;overflow: auto;}#sk-container-id-1 input.sk-toggleable__control:checked~label.sk-toggleable__label-arrow:before {content: \"▾\";}#sk-container-id-1 div.sk-estimator input.sk-toggleable__control:checked~label.sk-toggleable__label {background-color: #d4ebff;}#sk-container-id-1 div.sk-label input.sk-toggleable__control:checked~label.sk-toggleable__label {background-color: #d4ebff;}#sk-container-id-1 input.sk-hidden--visually {border: 0;clip: rect(1px 1px 1px 1px);clip: rect(1px, 1px, 1px, 1px);height: 1px;margin: -1px;overflow: hidden;padding: 0;position: absolute;width: 1px;}#sk-container-id-1 div.sk-estimator {font-family: monospace;background-color: #f0f8ff;border: 1px dotted black;border-radius: 0.25em;box-sizing: border-box;margin-bottom: 0.5em;}#sk-container-id-1 div.sk-estimator:hover {background-color: #d4ebff;}#sk-container-id-1 div.sk-parallel-item::after {content: \"\";width: 100%;border-bottom: 1px solid gray;flex-grow: 1;}#sk-container-id-1 div.sk-label:hover label.sk-toggleable__label {background-color: #d4ebff;}#sk-container-id-1 div.sk-serial::before {content: \"\";position: absolute;border-left: 1px solid gray;box-sizing: border-box;top: 0;bottom: 0;left: 50%;z-index: 0;}#sk-container-id-1 div.sk-serial {display: flex;flex-direction: column;align-items: center;background-color: white;padding-right: 0.2em;padding-left: 0.2em;position: relative;}#sk-container-id-1 div.sk-item {position: relative;z-index: 1;}#sk-container-id-1 div.sk-parallel {display: flex;align-items: stretch;justify-content: center;background-color: white;position: relative;}#sk-container-id-1 div.sk-item::before, #sk-container-id-1 div.sk-parallel-item::before {content: \"\";position: absolute;border-left: 1px solid gray;box-sizing: border-box;top: 0;bottom: 0;left: 50%;z-index: -1;}#sk-container-id-1 div.sk-parallel-item {display: flex;flex-direction: column;z-index: 1;position: relative;background-color: white;}#sk-container-id-1 div.sk-parallel-item:first-child::after {align-self: flex-end;width: 50%;}#sk-container-id-1 div.sk-parallel-item:last-child::after {align-self: flex-start;width: 50%;}#sk-container-id-1 div.sk-parallel-item:only-child::after {width: 0;}#sk-container-id-1 div.sk-dashed-wrapped {border: 1px dashed gray;margin: 0 0.4em 0.5em 0.4em;box-sizing: border-box;padding-bottom: 0.4em;background-color: white;}#sk-container-id-1 div.sk-label label {font-family: monospace;font-weight: bold;display: inline-block;line-height: 1.2em;}#sk-container-id-1 div.sk-label-container {text-align: center;}#sk-container-id-1 div.sk-container {/* jupyter's `normalize.less` sets `[hidden] { display: none; }` but bootstrap.min.css set `[hidden] { display: none !important; }` so we also need the `!important` here to be able to override the default hidden behavior on the sphinx rendered scikit-learn.org. See: https://github.com/scikit-learn/scikit-learn/issues/21755 */display: inline-block !important;position: relative;}#sk-container-id-1 div.sk-text-repr-fallback {display: none;}</style><div id=\"sk-container-id-1\" class=\"sk-top-container\"><div class=\"sk-text-repr-fallback\"><pre>LogisticRegression()</pre><b>In a Jupyter environment, please rerun this cell to show the HTML representation or trust the notebook. <br />On GitHub, the HTML representation is unable to render, please try loading this page with nbviewer.org.</b></div><div class=\"sk-container\" hidden><div class=\"sk-item\"><div class=\"sk-estimator sk-toggleable\"><input class=\"sk-toggleable__control sk-hidden--visually\" id=\"sk-estimator-id-1\" type=\"checkbox\" checked><label for=\"sk-estimator-id-1\" class=\"sk-toggleable__label sk-toggleable__label-arrow\">LogisticRegression</label><div class=\"sk-toggleable__content\"><pre>LogisticRegression()</pre></div></div></div></div></div>"
      ],
      "text/plain": [
       "LogisticRegression()"
      ]
     },
     "execution_count": 35,
     "metadata": {},
     "output_type": "execute_result"
    }
   ],
   "source": []
  },
  {
   "cell_type": "markdown",
   "id": "4ef486f1",
   "metadata": {},
   "source": [
    "[ 설명 ] 테스트 데이터 셋에 대한 예측을 수행"
   ]
  },
  {
   "cell_type": "code",
   "execution_count": 36,
   "id": "5fc3d329",
   "metadata": {},
   "outputs": [],
   "source": []
  },
  {
   "cell_type": "markdown",
   "id": "ff4cc7b7",
   "metadata": {},
   "source": [
    "## Submission 파일 로드"
   ]
  },
  {
   "cell_type": "markdown",
   "id": "a276bddc",
   "metadata": {},
   "source": [
    "[ 설명 ] gender_submission파일을 로드한다."
   ]
  },
  {
   "cell_type": "code",
   "execution_count": 38,
   "id": "1f25b108",
   "metadata": {},
   "outputs": [],
   "source": []
  },
  {
   "cell_type": "markdown",
   "id": "a209defd",
   "metadata": {},
   "source": [
    "## Submission 데이터 프레임의 Survived 컬럼을 예측값으로 바꾸기"
   ]
  },
  {
   "cell_type": "markdown",
   "id": "a73dd3a7",
   "metadata": {},
   "source": [
    "[ 설명 ] 예측값이 들어있는 pred변수를 submission의 Survived컬럼에 할당해준다."
   ]
  },
  {
   "cell_type": "code",
   "execution_count": 40,
   "id": "cd3c1d48",
   "metadata": {},
   "outputs": [],
   "source": []
  },
  {
   "cell_type": "markdown",
   "id": "ae0b4430",
   "metadata": {},
   "source": [
    "## 예측값을 적용한 Gender Submission 파일 write"
   ]
  },
  {
   "cell_type": "markdown",
   "id": "15d22791",
   "metadata": {},
   "source": [
    "[ 설명 ] 예측값이 적용된 gender_submission파일을 적절한 디렉토리에 저장하여 채점을 진행한다."
   ]
  },
  {
   "cell_type": "code",
   "execution_count": 41,
   "id": "389ee475",
   "metadata": {},
   "outputs": [],
   "source": []
  }
 ],
 "metadata": {
  "kernelspec": {
   "display_name": "Python 3 (ipykernel)",
   "language": "python",
   "name": "python3"
  },
  "language_info": {
   "codemirror_mode": {
    "name": "ipython",
    "version": 3
   },
   "file_extension": ".py",
   "mimetype": "text/x-python",
   "name": "python",
   "nbconvert_exporter": "python",
   "pygments_lexer": "ipython3",
   "version": "3.9.6"
  },
  "toc": {
   "base_numbering": 1,
   "nav_menu": {},
   "number_sections": true,
   "sideBar": true,
   "skip_h1_title": false,
   "title_cell": "Table of Contents",
   "title_sidebar": "Contents",
   "toc_cell": false,
   "toc_position": {},
   "toc_section_display": true,
   "toc_window_display": false
  }
 },
 "nbformat": 4,
 "nbformat_minor": 5
}
