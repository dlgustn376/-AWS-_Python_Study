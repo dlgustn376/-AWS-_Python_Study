{
 "cells": [
  {
   "cell_type": "code",
   "execution_count": 10,
   "id": "23b7c90e",
   "metadata": {},
   "outputs": [],
   "source": [
    "\n",
    "# 함수 my_sq_prod 의 요구사항\n",
    "\n",
    "# * 매개변수: python list\n",
    "\n",
    "# * 반환값: 입력된 리스트의 각 element 값을 제곱한 값의 곱을 반환\n",
    "\n",
    " \n",
    "\n",
    "def my_sq_prod(number_list):\n",
    "\n",
    "    return_value = 1\n",
    "\n",
    "    for number in number_list:\n",
    "\n",
    "        return_value = return_value * number**2\n",
    "\n",
    "    return return_value\n",
    "\n",
    " \n",
    "\n",
    "assert my_sq_prod([1,2,3]) == 36\n",
    "\n",
    " \n",
    "\n",
    "# * assertion error가 발생하지 않도록 수정하시오"
   ]
  },
  {
   "cell_type": "code",
   "execution_count": 4,
   "id": "728c00d9",
   "metadata": {},
   "outputs": [],
   "source": [
    "import math\n",
    "\n",
    "def my_sq_prod(number_list):\n",
    "    return_list = [number**2 for number in number_list]\n",
    "    return math.prod(return_list)\n",
    "\n",
    "assert my_sq_prod([1,2,3]) == 36"
   ]
  },
  {
   "cell_type": "code",
   "execution_count": 5,
   "id": "aac6a2c1",
   "metadata": {},
   "outputs": [],
   "source": [
    "import numpy as np\n",
    "\n",
    "def my_sq_prod3(arr):\n",
    "    return np.prod(arr**2)\n",
    "\n",
    "assert my_sq_prod3(np.array([4, 5, 6])) == 14400"
   ]
  },
  {
   "cell_type": "code",
   "execution_count": 2,
   "id": "701f6b79",
   "metadata": {},
   "outputs": [],
   "source": [
    "# * 제출 파일명: 성명.py\n",
    "\n",
    "# * 요구사항:\n",
    "\n",
    "# - python 성명.py 명령어로 스크립트를 실행하였을 때, 아래 함수가 실행되도록 하시오.\n",
    "\n",
    "from my_functions import my_sq_prod\n",
    "\n",
    "def score_check():\n",
    "    score = 0\n",
    "    if my_sq_prod([1,2,3])==36:\n",
    "        score += 30\n",
    "    print(score)\n",
    "\n",
    "if __name__ == '__main__':\n",
    "    score_check()"
   ]
  }
 ],
 "metadata": {
  "kernelspec": {
   "display_name": "Python 3 (ipykernel)",
   "language": "python",
   "name": "python3"
  },
  "language_info": {
   "codemirror_mode": {
    "name": "ipython",
    "version": 3
   },
   "file_extension": ".py",
   "mimetype": "text/x-python",
   "name": "python",
   "nbconvert_exporter": "python",
   "pygments_lexer": "ipython3",
   "version": "3.10.9"
  }
 },
 "nbformat": 4,
 "nbformat_minor": 5
}
