{
 "cells": [
  {
   "cell_type": "markdown",
   "id": "955d9e9c",
   "metadata": {},
   "source": [
    "### 문서를 작성하는 스크랩트 (또 다른 언어 같은 느낌)\n",
    "\n",
    "# Heading1\n",
    "\n",
    "## Heading2\n",
    "\n",
    "### Heading3\n",
    "\n",
    "heading1\n",
    "========\n",
    "\n",
    "heading2\n",
    "--------------"
   ]
  },
  {
   "cell_type": "markdown",
   "id": "7846d7a6",
   "metadata": {},
   "source": [
    "문장1 문장2 문장3\n",
    "\n",
    "문장4\n",
    "\n",
    "문단x\n",
    "\n",
    "1. First\n",
    "1. Second\n",
    "1. Third\n",
    "1. Fourth\n",
    "\n",
    "- hi\n",
    "- hello\n",
    "\n",
    "**bold text**\n",
    "\n",
    "*italicized text*\n",
    "\n",
    ">block quote\n",
    "\n",
    "`code`\n",
    "\n",
    "---\n",
    "\n",
    "[title](https://www.google.com)\n",
    "\n",
    "![alt text](image.jpg)\n"
   ]
  },
  {
   "cell_type": "markdown",
   "id": "a9ba3100",
   "metadata": {},
   "source": [
    "* mathjax 표현식\n",
    "\n",
    "$$\n",
    "    \\hat y = x_{i} + \\sum3 -\\sqrt2\n",
    "$$\n",
    "\n",
    "\n"
   ]
  },
  {
   "cell_type": "code",
   "execution_count": null,
   "id": "d48dacfb",
   "metadata": {},
   "outputs": [],
   "source": [
    "lista = [[1,2,3,4],[10,20,30,40]]\n",
    "\n",
    "list_flat = []\n"
   ]
  }
 ],
 "metadata": {
  "kernelspec": {
   "display_name": "Python 3 (ipykernel)",
   "language": "python",
   "name": "python3"
  },
  "language_info": {
   "codemirror_mode": {
    "name": "ipython",
    "version": 3
   },
   "file_extension": ".py",
   "mimetype": "text/x-python",
   "name": "python",
   "nbconvert_exporter": "python",
   "pygments_lexer": "ipython3",
   "version": "3.10.9"
  }
 },
 "nbformat": 4,
 "nbformat_minor": 5
}
