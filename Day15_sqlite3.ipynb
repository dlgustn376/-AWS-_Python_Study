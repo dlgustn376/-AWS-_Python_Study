{
 "cells": [
  {
   "cell_type": "code",
   "execution_count": 8,
   "id": "37b458d7",
   "metadata": {},
   "outputs": [],
   "source": [
    "import sqlite3\n",
    "con = sqlite3.connect(\"test.db\")\n",
    "cur = con.cursor()\n",
    "cur.execute(\"CREATE TABLE abalone(length real, diameter real)\")\n",
    "cur.execute(\"INSERT INTO abalone(length, diameter) values(10.0, 20.0)\")\n",
    "con.commit()\n",
    "con.close()"
   ]
  },
  {
   "cell_type": "code",
   "execution_count": 10,
   "id": "341ed25b",
   "metadata": {},
   "outputs": [
    {
     "name": "stdout",
     "output_type": "stream",
     "text": [
      "[(10.0, 20.0)]\n"
     ]
    }
   ],
   "source": [
    "con = sqlite3.connect(\"test.db\")\n",
    "cur = con.cursor()\n",
    "res = cur.execute(\"SELECT * from abalone\")\n",
    "print(res.fetchall())"
   ]
  },
  {
   "cell_type": "code",
   "execution_count": null,
   "id": "4cbe9639",
   "metadata": {},
   "outputs": [],
   "source": []
  }
 ],
 "metadata": {
  "kernelspec": {
   "display_name": "Python 3 (ipykernel)",
   "language": "python",
   "name": "python3"
  },
  "language_info": {
   "codemirror_mode": {
    "name": "ipython",
    "version": 3
   },
   "file_extension": ".py",
   "mimetype": "text/x-python",
   "name": "python",
   "nbconvert_exporter": "python",
   "pygments_lexer": "ipython3",
   "version": "3.10.9"
  }
 },
 "nbformat": 4,
 "nbformat_minor": 5
}
