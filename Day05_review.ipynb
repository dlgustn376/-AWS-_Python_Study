{
 "cells": [
  {
   "cell_type": "code",
   "execution_count": 6,
   "id": "18f3706a",
   "metadata": {},
   "outputs": [
    {
     "name": "stdout",
     "output_type": "stream",
     "text": [
      "10.5\n",
      "datatype:str\n"
     ]
    }
   ],
   "source": [
    "#int(), float(), bool(), str()\n",
    "try:\n",
    "    a = [20.5,'10.5']\n",
    "    for i in a:\n",
    "        int(i)\n",
    "except:\n",
    "    print(i)\n",
    "\n",
    "# 하나의 분석 코드가 범용으로 처리되면 사용\n",
    "#a = [20.5,'10.5']\n",
    "a = 'String'\n",
    "if isinstance(a,type([])):\n",
    "    print('datatype:list')\n",
    "elif isinstance(a, type('')):\n",
    "    print('datatype:str')\n",
    "    \n",
    "#list, tuple, set, dictionary"
   ]
  },
  {
   "cell_type": "code",
   "execution_count": 25,
   "id": "8dc172e4",
   "metadata": {},
   "outputs": [
    {
     "name": "stdout",
     "output_type": "stream",
     "text": [
      "{'x': 10, 'y': 20, 'z': 30}\n",
      "10\n",
      "10\n",
      "{'x': 10, 'y': 50, 'z': 30}\n",
      "dict_keys(['x', 'y', 'z', 'newkey'])\n",
      "dict_values([10, 50, 30, 1234])\n",
      "dict_items([('x', 10), ('y', 50), ('z', 30), ('newkey', 1234)])\n",
      "x 10\n",
      "y 50\n",
      "z 30\n",
      "newkey 1234\n"
     ]
    }
   ],
   "source": [
    "# dictionary : key - value\n",
    "dict1 = {'a': 1, 'b':2, 'c':3}\n",
    "key_list = list('xyz')\n",
    "value_list = [10, 20, 30] \n",
    "\n",
    "x = zip(key_list, value_list) #[('x',10),('y',20),('z',30)]\n",
    "dict2 = dict(x)\n",
    "print(dict2)\n",
    "\n",
    "print(dict2['x'])\n",
    "\n",
    "\n",
    "\n",
    "#print(dict2['x'])\n",
    "print(dict2.get('x'))\n",
    "\n",
    "dict2['y'] = 50\n",
    "print(dict2)\n",
    "\n",
    "dict2['newkey'] = 1234\n",
    "# dict 분리 가능\n",
    "klist = dict2.keys()\n",
    "vlist = dict2.values()\n",
    "print(klist)\n",
    "print(vlist)\n",
    "print(dict2.items())\n",
    "\n",
    "for e in dict2:\n",
    "    print(e,dict2[e])"
   ]
  },
  {
   "cell_type": "code",
   "execution_count": 9,
   "id": "f37d30e8",
   "metadata": {},
   "outputs": [
    {
     "name": "stdout",
     "output_type": "stream",
     "text": [
      "False\n"
     ]
    }
   ],
   "source": [
    "# if: - else:\n",
    "# if: - elif: - else:\n",
    "\n",
    "if []:\n",
    "    print('True')\n",
    "else:\n",
    "    print('False') # 0, 비어있는 문자열 / list"
   ]
  },
  {
   "cell_type": "code",
   "execution_count": 18,
   "id": "e80b2c54",
   "metadata": {},
   "outputs": [
    {
     "name": "stdout",
     "output_type": "stream",
     "text": [
      "0 a\n",
      "1 b\n",
      "2 c\n",
      "3 d\n",
      "4 e\n",
      "['a']\n"
     ]
    }
   ],
   "source": [
    "#for - range() / list; enumerate() : 인데스와 list내용을 튜플로 매칭, 같이 받음.\n",
    "lista = list('abcde')\n",
    "for i, c in enumerate(lista):\n",
    "    print(i, c)\n",
    "    \n",
    "#while - 조건 / 조건에 맞게 반복구문을 동작 \n",
    "while len(lista)>1:\n",
    "    lista.remove(lista[-1]) # 뒤에서부터 제거\n",
    "print(lista)\n"
   ]
  },
  {
   "cell_type": "code",
   "execution_count": 2,
   "id": "4ccbf192",
   "metadata": {},
   "outputs": [
    {
     "name": "stdout",
     "output_type": "stream",
     "text": [
      "const\n",
      "========\n",
      "myclass2\n",
      "========\n",
      "dest\n"
     ]
    }
   ],
   "source": [
    "# 함수, 클래스\n",
    "def myfunction1(n):\n",
    "    print('myfunction1', n)\n",
    "    return n*5\n",
    "\n",
    "# 상속은 (부모 클래스)\n",
    "class myclass:\n",
    "    def mymethod1(self):\n",
    "        print('mymethod1')\n",
    "        \n",
    "class myclass2(myclass):\n",
    "    def __init__(self):\n",
    "        print('const')\n",
    "    def __del__(self):\n",
    "        print('dest')\n",
    "    def __str__(self):\n",
    "        return 'myclass2'\n",
    "    \n",
    "x = myclass2()\n",
    "print('========')\n",
    "print(x)\n",
    "print('========')\n",
    "del(x)"
   ]
  },
  {
   "cell_type": "code",
   "execution_count": 6,
   "id": "0d376d31",
   "metadata": {},
   "outputs": [],
   "source": [
    "# 파일 입출력\n",
    "\n",
    "with open('lott.csv') as f:\n",
    "    for line in f:\n",
    "        pass\n",
    "        #print(line)\n",
    "\n",
    "# file write\n",
    "with open('text.txt', 'w') as f:       #'w': mode : 'w'irte / 'r'ead, 'b'inary\n",
    "    for i in range(3,10):              # 'wb': write binary\n",
    "        f.write('test string {}\\n'.format(i))"
   ]
  },
  {
   "cell_type": "code",
   "execution_count": 10,
   "id": "3bd89e75",
   "metadata": {},
   "outputs": [
    {
     "name": "stdout",
     "output_type": "stream",
     "text": [
      "['a', 'b', 'c', 'd']\n"
     ]
    }
   ],
   "source": [
    "import pickle\n",
    "\n",
    "lista = list('abcd')\n",
    "\n",
    "#write\n",
    "with open ('pickle_test,pickle','wb') as f:\n",
    "    pickle.dump(lista, f)\n",
    "    \n",
    "# read\n",
    "with open ('pickle_test,pickle','rb') as f:\n",
    "    listb = pickle.load(f)\n",
    "print(listb)"
   ]
  },
  {
   "cell_type": "code",
   "execution_count": 19,
   "id": "eb46ad30",
   "metadata": {},
   "outputs": [
    {
     "name": "stdout",
     "output_type": "stream",
     "text": [
      "[1.0, 2.0, 4.0, 5.5]\n"
     ]
    }
   ],
   "source": [
    "def process_data(data):\n",
    "    processed_data = []\n",
    "    for i in range(len(data)):\n",
    "        try:\n",
    "            # Convert values to float\n",
    "            value = float(data[i])\n",
    "            # Keep only positive values\n",
    "            if value > 0:\n",
    "                processed_data.append(value)\n",
    "        except:\n",
    "            # Skip values that cannot be converted to float\n",
    "            continue\n",
    "    return processed_data\n",
    "\n",
    "data = [1, 2, \"NaN\", 4, \"5.5\", -3]\n",
    "processed_data = process_data(data)\n",
    "print(processed_data)\n",
    "\n",
    "# Output:\n",
    "# [1.0, 2.0, 4.0, 5.5]"
   ]
  }
 ],
 "metadata": {
  "kernelspec": {
   "display_name": "Python 3 (ipykernel)",
   "language": "python",
   "name": "python3"
  },
  "language_info": {
   "codemirror_mode": {
    "name": "ipython",
    "version": 3
   },
   "file_extension": ".py",
   "mimetype": "text/x-python",
   "name": "python",
   "nbconvert_exporter": "python",
   "pygments_lexer": "ipython3",
   "version": "3.10.9"
  }
 },
 "nbformat": 4,
 "nbformat_minor": 5
}
