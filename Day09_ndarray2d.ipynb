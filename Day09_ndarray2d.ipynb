{
 "cells": [
  {
   "cell_type": "code",
   "execution_count": 3,
   "id": "3145ff92",
   "metadata": {},
   "outputs": [
    {
     "name": "stdout",
     "output_type": "stream",
     "text": [
      "[[ 1  2  3]\n",
      " [10 20 30]]\n",
      "2\n",
      "(2, 3)\n",
      "6\n"
     ]
    }
   ],
   "source": [
    "import numpy as np\n",
    "\n",
    "a1 = np.array([[1,2,3],[10,20,30]])\n",
    "\n",
    "print(a1)\n",
    "print(a1.ndim)\n",
    "print(a1.shape)      #(2, 3) -> (행, 열)\n",
    "print(a1.size)"
   ]
  },
  {
   "cell_type": "code",
   "execution_count": 8,
   "id": "a6f95f62",
   "metadata": {},
   "outputs": [
    {
     "name": "stdout",
     "output_type": "stream",
     "text": [
      "[[ 0  1  2  3  4]\n",
      " [ 5  6  7  8  9]\n",
      " [10 11 12 13 14]\n",
      " [15 16 17 18 19]]\n",
      "(4, 5)\n"
     ]
    }
   ],
   "source": [
    "a2 = np.arange(20).reshape(4,5)\n",
    "print(a2)\n",
    "print(a2.shape)  #(20,)"
   ]
  },
  {
   "cell_type": "code",
   "execution_count": 21,
   "id": "d4d08288",
   "metadata": {},
   "outputs": [
    {
     "name": "stdout",
     "output_type": "stream",
     "text": [
      "[  0   1   2 100   4   5   6   7   8   9  10  11  12  13  14  15  16  17\n",
      "  18  19]\n",
      "[[ 0  1  2  3  4]\n",
      " [ 5  6  7  8  9]\n",
      " [10 11 12 13 14]\n",
      " [15 16 17 18 19]]\n"
     ]
    }
   ],
   "source": [
    "a3 = a2.flatten()\n",
    "a3[3] = 100\n",
    "print(a3)\n",
    "print(a2)\n",
    "#1회성"
   ]
  },
  {
   "cell_type": "code",
   "execution_count": 22,
   "id": "f518324d",
   "metadata": {},
   "outputs": [
    {
     "name": "stdout",
     "output_type": "stream",
     "text": [
      "[  0   1   2 200   4   5   6   7   8   9  10  11  12  13  14  15  16  17\n",
      "  18  19]\n",
      "[[  0   1   2 200   4]\n",
      " [  5   6   7   8   9]\n",
      " [ 10  11  12  13  14]\n",
      " [ 15  16  17  18  19]]\n"
     ]
    }
   ],
   "source": [
    "a4 = a2.ravel()\n",
    "a4[3] = 200\n",
    "print(a4)\n",
    "print(a2)"
   ]
  },
  {
   "cell_type": "code",
   "execution_count": 34,
   "id": "30fbf106",
   "metadata": {},
   "outputs": [
    {
     "name": "stdout",
     "output_type": "stream",
     "text": [
      "[[ 0  1  2  3  4]\n",
      " [ 5  6  7  8  9]\n",
      " [10 11 12 13 14]\n",
      " [15 16 17 18 19]]\n",
      "[[ 1  2  3]\n",
      " [11 12 13]]\n"
     ]
    }
   ],
   "source": [
    "a2 =np.arange(20).reshape(4,5)\n",
    "print(a2)\n",
    "#print(a2[1, 3])\n",
    "#print(a2[ : , 1])   # 모든 행에서 1번 인덱스만\n",
    "#print(a2[ : , 1:4])  # 모든 행에서 1~3번 인덱스만 나옴\n",
    "#print(a2[ : , 1:4:2])# 샘플안에서 스탭도 적용이 됨. 1, 3\n",
    "#print(a2[1,:])\n",
    "#print(a2[1:3, :])\n",
    "#print(a2[::2, :])\n",
    "print(a2[::2, 1:4])"
   ]
  },
  {
   "cell_type": "code",
   "execution_count": 41,
   "id": "4bb7cde8",
   "metadata": {},
   "outputs": [
    {
     "name": "stdout",
     "output_type": "stream",
     "text": [
      "[[ 0  1  2  3  4]\n",
      " [ 5  6  7  8  9]\n",
      " [10 11 12 13 14]\n",
      " [15 16 17 18 19]]\n",
      "[10 35 60 85]\n"
     ]
    }
   ],
   "source": [
    "print(a2)\n",
    "#print(a2.shape)  #axis  축\n",
    "#print(a2.sum())\n",
    "#print(a2.sum(axis=0))   # [ 0  1  2  3  4] 기준 아래로 인덱싱\n",
    "print(a2.sum(axis=1))    # [ 0  1  2  3  4] 기준 오른쪽으로 인덱싱"
   ]
  },
  {
   "cell_type": "code",
   "execution_count": 45,
   "id": "14c5835f",
   "metadata": {},
   "outputs": [
    {
     "name": "stdout",
     "output_type": "stream",
     "text": [
      "[[ 0  1  2  3  4]\n",
      " [ 5  6  7  8  9]\n",
      " [10 11 12 13 14]\n",
      " [15 16 17 18 19]] (4, 5)\n",
      "[[ 0  5 10 15]\n",
      " [ 1  6 11 16]\n",
      " [ 2  7 12 17]\n",
      " [ 3  8 13 18]\n",
      " [ 4  9 14 19]] (5, 4)\n"
     ]
    }
   ],
   "source": [
    "print(a2, a2.shape)\n",
    "a3 = a2.T\n",
    "print(a3, a3.shape)"
   ]
  },
  {
   "cell_type": "code",
   "execution_count": 50,
   "id": "b1f1d55c",
   "metadata": {},
   "outputs": [
    {
     "name": "stdout",
     "output_type": "stream",
     "text": [
      "[[ 0  1  2  3  4]\n",
      " [ 5  6  7  8  9]\n",
      " [10 11 12 13 14]\n",
      " [15 16 17 18 19]] (4, 5)\n",
      "[[ 0  5 10 15]\n",
      " [ 1  6 11 16]\n",
      " [ 2  7 12 17]\n",
      " [ 3  8 13 18]\n",
      " [ 4  9 14 19]] (5, 4)\n"
     ]
    }
   ],
   "source": [
    "print(a2, a2.shape)\n",
    "\n",
    "a3 = np.moveaxis(a2, [0], [1])\n",
    "\n",
    "print(a3, a3.shape)"
   ]
  },
  {
   "cell_type": "code",
   "execution_count": 63,
   "id": "4fdb6130",
   "metadata": {},
   "outputs": [
    {
     "name": "stdout",
     "output_type": "stream",
     "text": [
      "[[ 5  6  7  8  9]\n",
      " [10 11 12 13 14]\n",
      " [15 16 17 18 19]]\n",
      "(3, 5)\n",
      "[[ 7  8]\n",
      " [12 13]\n",
      " [17 18]]\n",
      "[36 39]\n",
      "[12. 13.]\n"
     ]
    }
   ],
   "source": [
    "#a10 = np.arange(5,20)\n",
    "#print(len(a10))\n",
    "\n",
    "# shape (3 , 5)의 2ckdnjs ndarray로 만들기\n",
    "a10 = np.arange(5,20).reshape(3,5)\n",
    "print(a10)\n",
    "print(a10.shape)\n",
    "\n",
    "a11 = a10[:,2:4]\n",
    "print(a11)\n",
    "print(a11.sum(axis=0))\n",
    "\n",
    "print(np.mean(a11, axis=0))"
   ]
  },
  {
   "cell_type": "code",
   "execution_count": 75,
   "id": "70455f29",
   "metadata": {},
   "outputs": [
    {
     "name": "stdout",
     "output_type": "stream",
     "text": [
      "[[0 1 2 3 4]\n",
      " [5 6 7 8 9]]\n",
      "[[100 101 102 103 104]\n",
      " [105 106 107 108 109]]\n",
      "[[  0   1   2   3   4 100 101 102 103 104]\n",
      " [  5   6   7   8   9 105 106 107 108 109]]\n",
      "[[  0   1   2   3   4 100 101 102 103 104]\n",
      " [  5   6   7   8   9 105 106 107 108 109]]\n",
      "[[  0   1   2   3   4]\n",
      " [  5   6   7   8   9]\n",
      " [100 101 102 103 104]\n",
      " [105 106 107 108 109]]\n"
     ]
    }
   ],
   "source": [
    "a1 = np.arange(0,10).reshape(2,5)\n",
    "a2 = np.arange(100,110).reshape(2,5)\n",
    "\n",
    "print(a1)\n",
    "print(a2)\n",
    "\n",
    "a3 = np.concatenate((a1,a2), axis = 1)\n",
    "print(a3)\n",
    "\n",
    "a4 = np.hstack((a1,a2))\n",
    "print(a4)\n",
    "\n",
    "a5 = np.vstack((a1,a2))\n",
    "print(a5)"
   ]
  },
  {
   "cell_type": "code",
   "execution_count": 83,
   "id": "be864b62",
   "metadata": {},
   "outputs": [
    {
     "name": "stdout",
     "output_type": "stream",
     "text": [
      "[[  0   1   2   3   4 100 101 102 103 104]\n",
      " [  5   6   7   8   9 105 106 107 108 109]]\n",
      "[array([[0, 1],\n",
      "       [5, 6]]), array([[2, 3],\n",
      "       [7, 8]]), array([[  4, 100],\n",
      "       [  9, 105]]), array([[101, 102],\n",
      "       [106, 107]]), array([[103, 104],\n",
      "       [108, 109]])]\n"
     ]
    }
   ],
   "source": [
    "print(a4)\n",
    "a6 =np.hsplit(a4,5)\n",
    "print(a6)"
   ]
  },
  {
   "cell_type": "code",
   "execution_count": 88,
   "id": "45f6c633",
   "metadata": {},
   "outputs": [
    {
     "name": "stdout",
     "output_type": "stream",
     "text": [
      "[[  0   1   2   3   4 100 101 102 103 104]\n",
      " [  5   6   7   8   9 105 106 107 108 109]]\n",
      "[[  0   5]\n",
      " [  1   6]\n",
      " [  2   7]\n",
      " [  3   8]\n",
      " [  4   9]\n",
      " [100 105]\n",
      " [101 106]\n",
      " [102 107]\n",
      " [103 108]\n",
      " [104 109]]\n",
      "[array([[0, 5],\n",
      "       [1, 6]]), array([[2, 7],\n",
      "       [3, 8]]), array([[  4,   9],\n",
      "       [100, 105]]), array([[101, 106],\n",
      "       [102, 107]]), array([[103, 108],\n",
      "       [104, 109]])]\n"
     ]
    }
   ],
   "source": [
    "print(a4)\n",
    "a7 = a4.T\n",
    "print(a7)\n",
    "a8 = np.vsplit(a7,5)\n",
    "print(a8)"
   ]
  },
  {
   "cell_type": "code",
   "execution_count": 95,
   "id": "11c59a2e",
   "metadata": {},
   "outputs": [
    {
     "name": "stdout",
     "output_type": "stream",
     "text": [
      "[[ 0  1  2  3  4]\n",
      " [ 5  6  7  8  9]\n",
      " [10 11 12 13 14]\n",
      " [15 16 17 18 19]\n",
      " [20 21 22 23 24]\n",
      " [25 26 27 28 29]\n",
      " [30 31 32 33 34]\n",
      " [35 36 37 38 39]]\n",
      "[[ 5  6  7  8  9]\n",
      " [15 16 17 18 19]\n",
      " [25 26 27 28 29]\n",
      " [35 36 37 38 39]]\n"
     ]
    }
   ],
   "source": [
    "a2 = np.arange(40).reshape(8,5)\n",
    "print(a2)\n",
    "fitter1 = (a2[:,0]%10 == 5)\n",
    "print(a2[fitter1])"
   ]
  }
 ],
 "metadata": {
  "kernelspec": {
   "display_name": "Python 3 (ipykernel)",
   "language": "python",
   "name": "python3"
  },
  "language_info": {
   "codemirror_mode": {
    "name": "ipython",
    "version": 3
   },
   "file_extension": ".py",
   "mimetype": "text/x-python",
   "name": "python",
   "nbconvert_exporter": "python",
   "pygments_lexer": "ipython3",
   "version": "3.10.9"
  }
 },
 "nbformat": 4,
 "nbformat_minor": 5
}
