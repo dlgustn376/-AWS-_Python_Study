{
 "cells": [
  {
   "cell_type": "code",
   "execution_count": 4,
   "id": "962df7d5",
   "metadata": {
    "scrolled": true
   },
   "outputs": [
    {
     "name": "stdout",
     "output_type": "stream",
     "text": [
      "[['건강증진센터명', '건강증진센터구분', '소재지도로명주소', '소재지지번주소', '위도', '경도', '건강증진업무내용', '운영시작시각', '운영종료시각', '휴무일정보', '건물면적', '의사수', '간호사수', '사회복지사수', '영양사수', '기타인력현황', '기타이용안내', '운영기관전화번호', '운영기관명', '관리기관전화번호', '관리기관명', '데이터기준일자', '제공기관코드', '제공기관명\\n'], ['맞춤형건강클리닉', '건강증진', '인천광역시 연수구 함박뫼로 13', '인천광역시 연수구 청학동 465-4', '37.41913159', '126.6711606', '치매검진+ 당뇨.고혈압 상담 및 검사+ 뇌경색.심뇌혈관질환+ 정신건강 상담', '9:00', '18:00', '일요일+ 공휴일', '30', '0', '5', '0', '0', '0', '검사전날 오후8시 전까지 식사마치고 검사당일 아침 금식', '032-749-8104', '맞춤형건강클리닉', '032-749-8122', '인천광역시 연수구 보건소', '2021-10-25', '3520000', '인천광역시 연수구\\n'], ['정신건강복지센터', '정신보건', '경상북도 청송군 청송읍 의료원길 19', '경상북도 청송군 청송읍 금곡리 1056-54', '36.431132', '129.051804', '중증정신질환자 관리+정신건강증진사업+아동청소년 정신건강증진사업+자살예방사업', '9:00', '17:00', '토+일+공휴일', '413.87', '0', '4', '1', '0', '0', '', '054-870-7362', '경상북도 청송군 보건의료원', '054-870-7361', '경상북도 청송군 보건의료원', '2022-12-09', '5160000', '경상북도 청송군\\n']]\n"
     ]
    }
   ],
   "source": [
    "csv_data = []\n",
    "with open('전국건강증진센터표준데이터_1.csv', encoding= 'cp949') as f:\n",
    "    for line in f:\n",
    "        csv_data.append(line.split(','))\n",
    "print(csv_data[:3])"
   ]
  },
  {
   "cell_type": "code",
   "execution_count": 5,
   "id": "09f2c041",
   "metadata": {
    "scrolled": false
   },
   "outputs": [
    {
     "name": "stdout",
     "output_type": "stream",
     "text": [
      "center:  292\n"
     ]
    }
   ],
   "source": [
    "center_list = []\n",
    "\n",
    "for e in csv_data[1:]:\n",
    "    #print(e[0].split())\n",
    "    if len(e[0])>0:\n",
    "        center_list.append(e[0].split()[0])\n",
    "    \n",
    "print('center: ',len(center_list))"
   ]
  },
  {
   "cell_type": "code",
   "execution_count": 6,
   "id": "bbfdc9e5",
   "metadata": {
    "scrolled": true
   },
   "outputs": [
    {
     "name": "stdout",
     "output_type": "stream",
     "text": [
      "총 의사 수:  292\n"
     ]
    }
   ],
   "source": [
    "doc_list =[]\n",
    "for e in csv_data[1:]:\n",
    "    if len(e[11])>0:\n",
    "        #print(e[-13].split())\n",
    "        doc_list.append(e[11].split()[0])\n",
    "print('총 의사 수: ',len(doc_list))"
   ]
  },
  {
   "cell_type": "code",
   "execution_count": 24,
   "id": "d6ffb69c",
   "metadata": {},
   "outputs": [
    {
     "ename": "SyntaxError",
     "evalue": "invalid syntax (2839051418.py, line 7)",
     "output_type": "error",
     "traceback": [
      "\u001b[1;36m  Cell \u001b[1;32mIn[24], line 7\u001b[1;36m\u001b[0m\n\u001b[1;33m    result += (double) n * (int)doc_list.count(n)\u001b[0m\n\u001b[1;37m                       ^\u001b[0m\n\u001b[1;31mSyntaxError\u001b[0m\u001b[1;31m:\u001b[0m invalid syntax\n"
     ]
    }
   ],
   "source": [
    "k_list =[]\n",
    "v_list=[]\n",
    "result = 0\n",
    "for n in set(doc_list):\n",
    "    k_list.append(n)\n",
    "    v_list.append(doc_list.count(n))\n",
    "    result += (double) n * (int)doc_list.count(n)\n",
    "\n",
    "doc_dict = dict(zip(k_list,v_list))\n",
    "print(doc_dict)\n",
    "print(result)\n"
   ]
  }
 ],
 "metadata": {
  "kernelspec": {
   "display_name": "Python 3 (ipykernel)",
   "language": "python",
   "name": "python3"
  },
  "language_info": {
   "codemirror_mode": {
    "name": "ipython",
    "version": 3
   },
   "file_extension": ".py",
   "mimetype": "text/x-python",
   "name": "python",
   "nbconvert_exporter": "python",
   "pygments_lexer": "ipython3",
   "version": "3.10.9"
  }
 },
 "nbformat": 4,
 "nbformat_minor": 5
}
