{
 "cells": [
  {
   "cell_type": "code",
   "execution_count": 2,
   "id": "54e6cbbe",
   "metadata": {},
   "outputs": [],
   "source": [
    "import numpy as np"
   ]
  },
  {
   "cell_type": "code",
   "execution_count": 3,
   "id": "70f84005",
   "metadata": {},
   "outputs": [],
   "source": [
    "def fact(n):\n",
    "    ret = 1\n",
    "    while n>1:\n",
    "        ret *= n\n",
    "        n -= 1\n",
    "    return ret\n",
    "\n",
    "def fact_r(n):\n",
    "    ret =1 \n",
    "    if n==2:\n",
    "        return n\n",
    "    return fact_r(n-1)*n\n",
    "\n",
    "def perm_f(n, r):\n",
    "    return fact(n)/fact(n-r)\n",
    "\n",
    "def combi_f(n, r):\n",
    "    return fact(n)/(fact(n-r)*fact(r))\n",
    "\n",
    "def count_with_replacement_order(pool, sel_count):  # all\n",
    "    if sel_count == 1:\n",
    "        return len(pool), [[x] for x in pool]\n",
    "    a, b = count_with_replacement_order(pool, sel_count-1)\n",
    "    r = []\n",
    "    for x in pool:\n",
    "        for b_i in b:\n",
    "            r.append(b_i+[x])\n",
    "    return len(r), r    \n",
    "\n",
    "def perm_pool(pool, r):\n",
    "    if r == 1:\n",
    "        return len(pool), [[x] for x in pool]\n",
    "    ret = []\n",
    "    for x in pool:\n",
    "        pool_copy = [y for y in pool]\n",
    "        pool_copy.remove(x)\n",
    "        a, b = perm_pool(pool_copy, r-1)\n",
    "        for b_i in b:\n",
    "            ret.append(b_i+[x])\n",
    "    return len(ret), ret\n",
    "\n",
    "def combi_pool(pool, r):\n",
    "    a , b = perm_pool(pool, r)\n",
    "    r = []\n",
    "    for b_i in b:\n",
    "        r.append(set(b_i))\n",
    "    f = []\n",
    "    for r_i in r:\n",
    "        if r_i not in f:\n",
    "            f.append(r_i)\n",
    "    return len(f), f"
   ]
  },
  {
   "cell_type": "code",
   "execution_count": 1,
   "id": "22c4f851",
   "metadata": {},
   "outputs": [],
   "source": [
    "# 주사위를 3번 던져 나올수 있는 모든 경우의 수  : 6**3\n",
    "# _6_  _6_  _6_\n",
    "# -- with replacement\n",
    "\n",
    "# 1에서 부터 6까지 숫자가 적힌 공이 든 박스에서 3개의 공을 꺼낼 때\n",
    "# 나올 수 있는 모든 경우의 수 : 6 * 5 * 4\n",
    "# -- without replacement\n",
    "# _6_ _5_ _4_\n",
    "\n",
    "# 1에서부터 6까지 숫자가 적힌 공이 든 박스에서 3개의 공을 꺼내면서\n",
    "# 꺼낸공을 다시 집어넣고, 섞어서 뽑았을 때 나올수 있는 모든 경우의 수:  6**3\n",
    "# -- with replacement"
   ]
  },
  {
   "cell_type": "code",
   "execution_count": 3,
   "id": "6dd78e90",
   "metadata": {},
   "outputs": [],
   "source": [
    "# permutation (순열) : (a, b, c), (b, c, a)  --> 순서의 개념, 둘은 다른것.\n",
    "\n",
    "# 1에서 부터 6까지 숫자가 적힌 공이 든 박스에서 2개의 공을 꺼낼 때\n",
    "# 나올 수 있는 모든 경우의 수 : 6 * 5 \n",
    "# -- without replacement\n",
    "\n",
    "# n = 6\n",
    "# r = 2\n",
    "\n",
    "# n!/(n-r)!"
   ]
  },
  {
   "cell_type": "code",
   "execution_count": null,
   "id": "b9b584d9",
   "metadata": {},
   "outputs": [],
   "source": [
    "# comination (조합) : (a, b, c), (b, c, a)  --> 순서의 개념 없음, 둘은 같은것.\n",
    "\n",
    "# 1에서 부터 6까지 숫자가 적힌 공이 든 박스에서 3개의 공을 꺼낼 때\n",
    "# '다른구성'으로 나올 수 있는 모든 경우의 수 : 6 * 5 * 4\n",
    "# -- without replacement\n",
    "\n",
    "# permutation(순역)에서 구성이 같은 것을 제외 --> 조합\n",
    "# n = 6\n",
    "# r = 2\n",
    "\n",
    "# combi = permutation(n,r)/r!"
   ]
  },
  {
   "cell_type": "code",
   "execution_count": 4,
   "id": "880075f1",
   "metadata": {},
   "outputs": [
    {
     "data": {
      "text/plain": [
       "20.0"
      ]
     },
     "execution_count": 4,
     "metadata": {},
     "output_type": "execute_result"
    }
   ],
   "source": [
    "# 재귀함수: 자기 자신을 부르는(사용하는) 함수\n",
    "#      - 탈출조건이 중요\n",
    "def fact_r(n):\n",
    "    if n==2:\n",
    "        return n\n",
    "    return fact_r(n-1)*n\n",
    "\n",
    "# 6! = 6*5*4*3*2*1 = 6*5!\n",
    "def fact_np(n):\n",
    "    return np.arange(2,n+1).prod()\n",
    "#     return np.multiply.reduce(np.arange(2,n+1))\n",
    "\n",
    "def perm_np(n,r):\n",
    "    return fact_np(n)/fact_np(n-r)\n",
    "\n",
    "def combi_np(n,r):\n",
    "    return perm_np(n, r)/fact_np(r)\n",
    "\n",
    "def perm(n, r):\n",
    "    return fact_r(n)/ fact_r(n-r)\n",
    "\n",
    "assert perm(6,2) == 30.0\n",
    "# assert fact_np(6) == 120\n",
    "assert fact_np(6) == fact_r(6)\n",
    "\n",
    "def combi(n,r):\n",
    "    return perm(n, r) /fact_r(r)\n",
    "\n",
    "assert combi(6,2) == 15.0\n",
    "assert perm(6,2) == perm_np(6,2)\n",
    "combi(6,3)"
   ]
  },
  {
   "cell_type": "code",
   "execution_count": 5,
   "id": "0bdc9879",
   "metadata": {},
   "outputs": [
    {
     "data": {
      "text/plain": [
       "(20,\n",
       " [{'a', 'b', 'c'},\n",
       "  {'a', 'b', 'd'},\n",
       "  {'a', 'b', 'e'},\n",
       "  {'a', 'b', 'f'},\n",
       "  {'a', 'c', 'd'},\n",
       "  {'a', 'c', 'e'},\n",
       "  {'a', 'c', 'f'},\n",
       "  {'a', 'd', 'e'},\n",
       "  {'a', 'd', 'f'},\n",
       "  {'a', 'e', 'f'},\n",
       "  {'b', 'c', 'd'},\n",
       "  {'b', 'c', 'e'},\n",
       "  {'b', 'c', 'f'},\n",
       "  {'b', 'd', 'e'},\n",
       "  {'b', 'd', 'f'},\n",
       "  {'b', 'e', 'f'},\n",
       "  {'c', 'd', 'e'},\n",
       "  {'c', 'd', 'f'},\n",
       "  {'c', 'e', 'f'},\n",
       "  {'d', 'e', 'f'}])"
      ]
     },
     "execution_count": 5,
     "metadata": {},
     "output_type": "execute_result"
    }
   ],
   "source": [
    "# count_with_replacement_order(list('abcdef'), 3)\n",
    "# perm_pool(list('abcdef'), 3)\n",
    "combi_pool(list('abcdef'), 3)"
   ]
  }
 ],
 "metadata": {
  "kernelspec": {
   "display_name": "Python 3 (ipykernel)",
   "language": "python",
   "name": "python3"
  },
  "language_info": {
   "codemirror_mode": {
    "name": "ipython",
    "version": 3
   },
   "file_extension": ".py",
   "mimetype": "text/x-python",
   "name": "python",
   "nbconvert_exporter": "python",
   "pygments_lexer": "ipython3",
   "version": "3.10.9"
  }
 },
 "nbformat": 4,
 "nbformat_minor": 5
}
