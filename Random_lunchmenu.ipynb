{
 "cells": [
  {
   "cell_type": "code",
   "execution_count": 1,
   "id": "ba8b89f3",
   "metadata": {},
   "outputs": [
    {
     "name": "stdout",
     "output_type": "stream",
     "text": [
      "Enter menu item 1:짜장면\n",
      "Enter menu item 2:차돌된장\n",
      "Enter menu item 3:대패삽겹살\n",
      "Enter menu item 4:막걸리 파전\n",
      "Enter menu item 5:햄버거\n",
      "Today's lunch menu is: 차돌된장\n"
     ]
    }
   ],
   "source": [
    "import random\n",
    "\n",
    "lunch_menu = []\n",
    "\n",
    "for i in range(5):\n",
    "    lunch_menu.append(input(\"Enter menu item {}:\".format(i + 1)))\n",
    "\n",
    "selected_menu = random.choice(lunch_menu)\n",
    "\n",
    "print(\"Today's lunch menu is: {}\".format(selected_menu))"
   ]
  },
  {
   "cell_type": "code",
   "execution_count": 3,
   "id": "83f01779",
   "metadata": {},
   "outputs": [
    {
     "name": "stdout",
     "output_type": "stream",
     "text": [
      "Enter the number of menu items: 5\n",
      "Enter menu item 1:짜장면\n",
      "Enter menu item 2:햄버거\n",
      "Enter menu item 3:돈까스\n",
      "Enter menu item 4:차돌된장\n",
      "Enter menu item 5:우동\n",
      "Today's lunch is:  차돌된장\n"
     ]
    }
   ],
   "source": [
    "import random\n",
    "\n",
    "num_of_menu = int(input(\"Enter the number of menu items: \"))\n",
    "lunch_menu = []\n",
    "\n",
    "for i in range(num_of_menu):\n",
    "    lunch_menu.append(input(\"Enter menu item {}:\".format(i + 1)))\n",
    "\n",
    "chosen_menu = random.choice(lunch_menu)\n",
    "print(\"Today's lunch is: \", chosen_menu)\n"
   ]
  }
 ],
 "metadata": {
  "kernelspec": {
   "display_name": "Python 3 (ipykernel)",
   "language": "python",
   "name": "python3"
  },
  "language_info": {
   "codemirror_mode": {
    "name": "ipython",
    "version": 3
   },
   "file_extension": ".py",
   "mimetype": "text/x-python",
   "name": "python",
   "nbconvert_exporter": "python",
   "pygments_lexer": "ipython3",
   "version": "3.10.9"
  }
 },
 "nbformat": 4,
 "nbformat_minor": 5
}
