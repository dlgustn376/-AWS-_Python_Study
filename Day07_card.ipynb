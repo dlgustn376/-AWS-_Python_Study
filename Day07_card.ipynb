{
 "cells": [
  {
   "cell_type": "code",
   "execution_count": 1,
   "id": "465e32b0",
   "metadata": {},
   "outputs": [],
   "source": [
    "import random\n",
    "\n",
    "lista = [1,2,3,4,5,6]\n",
    "random.shuffle(lista)"
   ]
  },
  {
   "cell_type": "code",
   "execution_count": 2,
   "id": "ec0bf1a5",
   "metadata": {},
   "outputs": [
    {
     "name": "stdout",
     "output_type": "stream",
     "text": [
      "['clover', 'diamond', 'heart', 'spade']\n",
      "['Ace', '2', '3', '4', '5', '6', '7', '8', '9', '10', 'Jack', 'Queen', 'King']\n"
     ]
    }
   ],
   "source": [
    "suits =['clover','diamond','heart','spade']\n",
    "\n",
    "#rank = ['Ace''2'...'10','Jack', 'Queen', 'King']\n",
    "\n",
    "rank = [str(i) for i in range(2,11)]\n",
    "rank =['Ace'] + rank + ['Jack', 'Queen', 'King']\n",
    "print(suits)\n",
    "print(rank)\n",
    "\n"
   ]
  },
  {
   "cell_type": "code",
   "execution_count": 3,
   "id": "8e795e8e",
   "metadata": {},
   "outputs": [
    {
     "name": "stdout",
     "output_type": "stream",
     "text": [
      "{'clover-Ace': 1, 'clover-2': 2, 'clover-3': 3, 'clover-4': 4, 'clover-5': 5, 'clover-6': 6, 'clover-7': 7, 'clover-8': 8, 'clover-9': 9, 'clover-10': 10, 'clover-Jack': 10, 'clover-Queen': 10, 'clover-King': 10, 'diamond-Ace': 1, 'diamond-2': 2, 'diamond-3': 3, 'diamond-4': 4, 'diamond-5': 5, 'diamond-6': 6, 'diamond-7': 7, 'diamond-8': 8, 'diamond-9': 9, 'diamond-10': 10, 'diamond-Jack': 10, 'diamond-Queen': 10, 'diamond-King': 10, 'heart-Ace': 1, 'heart-2': 2, 'heart-3': 3, 'heart-4': 4, 'heart-5': 5, 'heart-6': 6, 'heart-7': 7, 'heart-8': 8, 'heart-9': 9, 'heart-10': 10, 'heart-Jack': 10, 'heart-Queen': 10, 'heart-King': 10, 'spade-Ace': 1, 'spade-2': 2, 'spade-3': 3, 'spade-4': 4, 'spade-5': 5, 'spade-6': 6, 'spade-7': 7, 'spade-8': 8, 'spade-9': 9, 'spade-10': 10, 'spade-Jack': 10, 'spade-Queen': 10, 'spade-King': 10}\n"
     ]
    }
   ],
   "source": [
    "Deck=[]                    #'Clover-Ace', Clover-'2',....\n",
    "\n",
    "for s in suits[0:]:\n",
    "    for r in rank[0:]:\n",
    "        Deck.append(s + '-' + r)\n",
    "\n",
    "score_list = [i+1 for i in range(10)]\n",
    "score_list = score_list + [10]*3\n",
    "score_list = score_list*4\n",
    "#print(Deck)\n",
    "#print(score_list)\n",
    "\n",
    "\n",
    "score_dict = dict(zip(Deck,score_list))\n",
    "print(score_dict)\n",
    "def dealer_pop(hand):\n",
    "    if score_hand(hand) < 17:\n",
    "         hand.append(Deck.pop())\n",
    "    return hand\n",
    "\n",
    "def score_hand(hand):\n",
    "    score = 0\n",
    "    for card in hand:\n",
    "        score += score_dict[card]\n",
    "    return score"
   ]
  },
  {
   "cell_type": "code",
   "execution_count": null,
   "id": "cdd3aefb",
   "metadata": {},
   "outputs": [],
   "source": [
    "random.shuffle(Deck)\n",
    "print(Deck)"
   ]
  },
  {
   "cell_type": "code",
   "execution_count": 5,
   "id": "3aca2988",
   "metadata": {},
   "outputs": [
    {
     "name": "stdout",
     "output_type": "stream",
     "text": [
      "Game Start\n",
      "\n",
      "Dealer Hands\n",
      "['heart-7', 'heart-5'] 12\n",
      "\n",
      "\n",
      "Player Hands\n",
      "['heart-2', 'heart-8'] 10\n",
      "Deal(1) or stop(0):1\n",
      "\n",
      "Player Hands\n",
      "['heart-2', 'heart-8', 'diamond-9'] 19\n",
      "Dealer Hands\n",
      "['heart-7', 'heart-5', 'clover-4'] 16\n"
     ]
    }
   ],
   "source": [
    "print('Game Start\\n')\n",
    "random.shuffle(Deck)\n",
    "print('Dealer Hands')\n",
    "\n",
    "dealer_hand = [Deck.pop() for _ in range(2)]\n",
    "print(dealer_hand, score_hand(dealer_hand))\n",
    "\n",
    "print('\\n\\nPlayer Hands')\n",
    "player_hand = [Deck.pop() for _ in range(2)]\n",
    "print(player_hand,score_hand(player_hand))\n",
    "\n",
    "\n",
    "\n",
    "if score_hand(player_hand) < 21:\n",
    "    ans = int(input('Deal(1) or stop(0):'))\n",
    "    if ans == 1:\n",
    "        player_hand.append(Deck.pop())\n",
    "        print('\\nPlayer Hands')\n",
    "        print(player_hand,score_hand(player_hand))\n",
    "        \n",
    "if score_hand(dealer_hand) < 21:\n",
    "    dealer_pop(dealer_hand)\n",
    "    print('Dealer Hands')\n",
    "    print(dealer_hand,score_hand(dealer_hand))\n",
    "\n",
    "\n",
    "\n",
    "# 승부 표시\n",
    "\n"
   ]
  }
 ],
 "metadata": {
  "kernelspec": {
   "display_name": "Python 3 (ipykernel)",
   "language": "python",
   "name": "python3"
  },
  "language_info": {
   "codemirror_mode": {
    "name": "ipython",
    "version": 3
   },
   "file_extension": ".py",
   "mimetype": "text/x-python",
   "name": "python",
   "nbconvert_exporter": "python",
   "pygments_lexer": "ipython3",
   "version": "3.10.9"
  }
 },
 "nbformat": 4,
 "nbformat_minor": 5
}
