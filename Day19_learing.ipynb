{
 "cells": [
  {
   "cell_type": "code",
   "execution_count": 74,
   "id": "5cc991ef",
   "metadata": {
    "scrolled": true
   },
   "outputs": [
    {
     "name": "stdout",
     "output_type": "stream",
     "text": [
      "(0, '강좌명')\n",
      "(1, '강사명')\n",
      "(2, '교육시작일자')\n",
      "(3, '교육종료일자')\n",
      "(4, '교육시작시각')\n",
      "(5, '교육종료시각')\n",
      "(6, '강좌내용')\n",
      "(7, '교육대상구분')\n",
      "(8, '교육방법구분')\n",
      "(9, '운영요일')\n",
      "(10, '교육장소')\n",
      "(11, '강좌정원수')\n",
      "(12, '수강료')\n",
      "(13, '교육장도로명주소')\n",
      "(14, '운영기관명')\n",
      "(15, '운영기관전화번호')\n",
      "(16, '접수시작일자')\n",
      "(17, '접수종료일자')\n",
      "(18, '접수방법구분')\n",
      "(19, '선정방법구분')\n",
      "(20, '홈페이지주소')\n",
      "(21, '직업능력개발훈련비지원강좌여부')\n",
      "(22, '학점은행제평가(학점)인정여부')\n",
      "(23, '평생학습계좌제평가인정여부')\n",
      "(24, '데이터기준일자')\n",
      "(25, '제공기관코드')\n",
      "(26, '제공기관명')\n",
      "강좌명                object\n",
      "강사명                object\n",
      "교육시작일자             object\n",
      "교육종료일자             object\n",
      "교육대상구분             object\n",
      "교육방법구분             object\n",
      "운영요일               object\n",
      "교육장소               object\n",
      "강좌정원수               int64\n",
      "수강료                 int64\n",
      "교육장도로명주소           object\n",
      "운영기관명              object\n",
      "접수시작일자             object\n",
      "접수종료일자             object\n",
      "접수방법구분             object\n",
      "선정방법구분             object\n",
      "홈페이지주소             object\n",
      "직업능력개발훈련비지원강좌여부    object\n",
      "학점은행제평가(학점)인정여부    object\n",
      "평생학습계좌제평가인정여부      object\n",
      "데이터기준일자            object\n",
      "제공기관코드             object\n",
      "제공기관명              object\n",
      "dtype: object\n"
     ]
    }
   ],
   "source": [
    "import numpy as np\n",
    "import pandas as pd\n",
    "\n",
    "\n",
    "pd_data = pd.read_csv('전국평생학습강좌표준데이터.csv', encoding='cp949')\n",
    "# print(pd_data.shape)\n",
    "# print(pd_data.dtypes)\n",
    "# print(pd_data.head(3))\n",
    "for e in enumerate(pd_data.columns):\n",
    "    print(e)\n",
    "dorp_list = ['교육시작시각','교육종료시각','강좌내용','운영기관전화번호']\n",
    "pd_data.drop(dorp_list, axis=1, inplace=True)\n",
    "print(pd_data.dtypes)"
   ]
  },
  {
   "cell_type": "code",
   "execution_count": 75,
   "id": "1e8b1efb",
   "metadata": {
    "scrolled": true
   },
   "outputs": [
    {
     "name": "stdout",
     "output_type": "stream",
     "text": [
      "강좌명                        object\n",
      "강사명                        object\n",
      "교육시작일자             datetime64[ns]\n",
      "교육종료일자             datetime64[ns]\n",
      "교육대상구분                   category\n",
      "교육방법구분                   category\n",
      "운영요일                     category\n",
      "교육장소                       object\n",
      "강좌정원수                       int64\n",
      "수강료                         int64\n",
      "교육장도로명주소                   object\n",
      "운영기관명                      object\n",
      "접수시작일자             datetime64[ns]\n",
      "접수종료일자             datetime64[ns]\n",
      "접수방법구분                   category\n",
      "선정방법구분                   category\n",
      "홈페이지주소                     object\n",
      "직업능력개발훈련비지원강좌여부          category\n",
      "학점은행제평가(학점)인정여부          category\n",
      "평생학습계좌제평가인정여부            category\n",
      "데이터기준일자            datetime64[ns]\n",
      "제공기관코드                   category\n",
      "제공기관명                      object\n",
      "dtype: object\n"
     ]
    }
   ],
   "source": [
    "for col_name in pd_data.columns:\n",
    "    if '일자' in col_name:\n",
    "        pd_data[col_name] = pd_data[col_name].astype(np.datetime64, copy=False)\n",
    "    elif ('구분' in col_name) or ('여부' in col_name) or ('코드' in col_name) or ('요일' in col_name):\n",
    "        pd_data[col_name] = pd_data[col_name].astype('category', copy=False)\n",
    "    \n",
    "print(pd_data.dtypes)"
   ]
  },
  {
   "cell_type": "code",
   "execution_count": 76,
   "id": "4d269c9c",
   "metadata": {},
   "outputs": [
    {
     "name": "stdout",
     "output_type": "stream",
     "text": [
      "       value_count NaN_count\n",
      "운영요일         22007      4528\n",
      "교육장소         23755      2780\n",
      "접수시작일자       21516      5019\n",
      "접수종료일자       21474      5061\n",
      "선정방법구분       22273      4262\n",
      "홈페이지주소       24221      2314\n"
     ]
    }
   ],
   "source": [
    "# - 항목(column)별 결측치/오류치/이상피 갯수 파악\n",
    "\n",
    "# pd_data.hasnans \n",
    "# pd_data['제공기관명'].hasnans\n",
    "# pd_data['제공기관명'].isna().value_counts()\n",
    "# 결측치가 있는지 없는지\n",
    "t = []\n",
    "for col_name in pd_data.columns:\n",
    "   \n",
    "    if pd_data[col_name].hasnans == True:\n",
    "#         print(col_name)\n",
    "        cnt_s = pd_data[col_name].isna().value_counts()\n",
    "        cnt = cnt_s.to_numpy()\n",
    "        t.append([col_name, cnt[0], cnt[1]])\n",
    "# print(t)\n",
    "t= np.array(t)\n",
    "missing_df = pd.DataFrame(t[:,1:],index = t[:,0], columns=['value_count', 'NaN_count'])\n",
    "# missing_df.index = missing_df['col_name']\n",
    "print(missing_df)"
   ]
  },
  {
   "cell_type": "markdown",
   "id": "4fd4c381",
   "metadata": {},
   "source": [
    "## 정제 요건 정의\n",
    "\n",
    "* 운영요일의 결측치를 어떻게 할 것인가?\n",
    "    - 운영요일별 카운트시 운영요일을 특정할 수 없으므로 삭제 조치를 하도록함.\n",
    "* 교육장소의 결측치를 어떻게 할 것인가?\n",
    "    - 만약, '홈페이지주소' 가 있을 경우, '온라인'으로 결측지를 대체, 홈페이지 주속가 없을 경우 삭제 조치\n",
    "    - '교육방법 구분'이 '온라인'으로 되어있을 경우, '온라인'으로 결측치를 대체 그렇지 않을 경우, 삭제\n",
    "* 접수시작일자, 접수종료일자 결측치를 어떨게 할 것인가?\n",
    "    - '교육방법 구분'이 '온라인'으로 되어있을 경우, '온라인'으로 결측치를 대체 그렇지 않을 경우, 삭제\n",
    "* 선정방법구분의 결측치를 어떻게 할 것인가?\n",
    "    - 선정방법구분 별 카운트시 선정방법구분을 특정할 수 없으므로 삭제 조치를 하도록함."
   ]
  },
  {
   "cell_type": "code",
   "execution_count": 77,
   "id": "1bcf56bf",
   "metadata": {},
   "outputs": [
    {
     "data": {
      "text/plain": [
       "목            2556\n",
       "화            2524\n",
       "수            2434\n",
       "월            1937\n",
       "금            1851\n",
       "             ... \n",
       "월, 목            1\n",
       "월+화+토           1\n",
       "월+화+수+금+토       1\n",
       "월+화+목+토         1\n",
       "화요일~금요일         1\n",
       "Name: 운영요일, Length: 218, dtype: int64"
      ]
     },
     "execution_count": 77,
     "metadata": {},
     "output_type": "execute_result"
    }
   ],
   "source": [
    "# f1 = pd_data['운영요일'].isna()\n",
    "# pd_data['운영요일'][f1]\n",
    "\n",
    "pd_data['운영요일'].value_counts()\n",
    "\n",
    "# 운영요일별 카운트시 운영요일을 특정할 수 없으므로\n",
    "# 삭제 조치를 하도록함."
   ]
  },
  {
   "cell_type": "code",
   "execution_count": 78,
   "id": "2e86fc05",
   "metadata": {},
   "outputs": [
    {
     "name": "stderr",
     "output_type": "stream",
     "text": [
      "C:\\Users\\ITPS\\AppData\\Local\\Temp\\ipykernel_11804\\1640146004.py:10: SettingWithCopyWarning: \n",
      "A value is trying to be set on a copy of a slice from a DataFrame\n",
      "\n",
      "See the caveats in the documentation: https://pandas.pydata.org/pandas-docs/stable/user_guide/indexing.html#returning-a-view-versus-a-copy\n",
      "  pd_data['교육장소'][filter2]='온라인'\n"
     ]
    },
    {
     "data": {
      "text/plain": [
       "False    24706\n",
       "True      1829\n",
       "Name: 교육장소, dtype: int64"
      ]
     },
     "execution_count": 78,
     "metadata": {},
     "output_type": "execute_result"
    }
   ],
   "source": [
    "# pd_data['교육장소'].value_counts()\n",
    "#'교육방법 구분'이 '온라인'으로 되어있을 경우, '온라인'으로 결측치를 대체 \n",
    "# 그렇지 않을 경우, 삭제\n",
    "pd_data['교육방법구분'].value_counts()\n",
    "filter1 = pd_data['교육장소'].isna()\n",
    "\n",
    "# print(pd_data['교육방법구분'][filter1].value_counts())\n",
    "\n",
    "filter2 = pd_data['교육방법구분']=='온라인'\n",
    "pd_data['교육장소'][filter2]='온라인'\n",
    "\n",
    "pd_data['교육장소'].isna().value_counts()"
   ]
  },
  {
   "cell_type": "code",
   "execution_count": 79,
   "id": "5156aea7",
   "metadata": {},
   "outputs": [],
   "source": [
    "# 범용으로 사용\n",
    "for i in range(pd_data.shape[0]):\n",
    "    row = pd_data.iloc[i, :]\n",
    "    if (row['교육장소']==np.NaN) and (row['교육방법구분']=='온라인'):\n",
    "        row['교육장소'] = '온라인'\n"
   ]
  },
  {
   "cell_type": "code",
   "execution_count": 70,
   "id": "df79c276",
   "metadata": {},
   "outputs": [
    {
     "data": {
      "text/plain": [
       "온라인                        4453\n",
       "광명시여성비전센터                   572\n",
       "평생학습관                       562\n",
       "광산구청소년수련관                   525\n",
       "아트센터달                       224\n",
       "                           ... \n",
       "연희동 아시아나 골프죤 or 연희동자치회관       1\n",
       "대신야학                          1\n",
       "북아현동주민센터 3층                   1\n",
       "홍은종합사회복지관 별관1층                1\n",
       "화성센트럴파크 도서관                   1\n",
       "Name: 교육장소, Length: 3163, dtype: int64"
      ]
     },
     "execution_count": 70,
     "metadata": {},
     "output_type": "execute_result"
    }
   ],
   "source": [
    "pd_data['교육장소'].value_counts()\n",
    "\n",
    "# 만약, '홈페이지주소' 가 있을 경우, '온라인'으로 결측지를 대체\n",
    "# 홈페이지 주속가 없을 경우 삭제 조치\n",
    "\n",
    "#'교육방법 구분'이 '온라인'으로 되어있을 경우, '온라인'으로 결측치를 대체 \n",
    "# 그렇지 않을 경우, 삭제\n",
    "\n",
    "f1 = pd_data['교육장소'].isna()\n",
    "f2 = pd_data['교육방법구분'].value_counts()\n",
    "# print(f2)\n",
    "# sub_data = pd_data[['교육방법구분','교육장소']]\n",
    "# g1 = sub_data.groupby('교육방법구분')\n",
    "pd_data_f = pd_data[f1].apply(lambda x: x)\n",
    "\n",
    "lista = list(pd_data_f.columns)\n",
    "\n",
    "for e in pd_data_f.colums:\n",
    "    if '온라인' in pd_data_f['교육방법구분']:\n",
    "        pd_data_f['교육방법구분'] = pd_data_f['교육방법구분'].replcace(np.NaN, '온라인')\n",
    "    else:\n",
    "        \n"
   ]
  },
  {
   "cell_type": "code",
   "execution_count": 46,
   "id": "28fd5a78",
   "metadata": {},
   "outputs": [
    {
     "data": {
      "text/plain": [
       "선착순         16861\n",
       "추첨           1219\n",
       "제한없음          516\n",
       "추첨+선착순        451\n",
       "인터넷 추첨        392\n",
       "            ...  \n",
       "방문접수후 면접        1\n",
       "방문심사            1\n",
       "읍면 추천           1\n",
       "군부대별 선정         1\n",
       "자체심사            1\n",
       "Name: 선정방법구분, Length: 72, dtype: int64"
      ]
     },
     "execution_count": 46,
     "metadata": {},
     "output_type": "execute_result"
    }
   ],
   "source": [
    "pd_data['선정방법구분'].value_counts()"
   ]
  }
 ],
 "metadata": {
  "kernelspec": {
   "display_name": "Python 3 (ipykernel)",
   "language": "python",
   "name": "python3"
  },
  "language_info": {
   "codemirror_mode": {
    "name": "ipython",
    "version": 3
   },
   "file_extension": ".py",
   "mimetype": "text/x-python",
   "name": "python",
   "nbconvert_exporter": "python",
   "pygments_lexer": "ipython3",
   "version": "3.10.9"
  }
 },
 "nbformat": 4,
 "nbformat_minor": 5
}
