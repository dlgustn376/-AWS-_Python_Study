{
 "cells": [
  {
   "cell_type": "markdown",
   "id": "2074841c",
   "metadata": {},
   "source": [
    "### UCI 전복\n",
    "\n",
    "https://archive.ics.uci.edu/ml/machine-learning-databases/abalone/abalone.data\n",
    "\n",
    "data url: https://archive.ics.uci.edu/ml/machine-learning-databases/abalone/abalone.data\n",
    "1. [함수] requests 패키지를 이용해 데이터 가져와서 ndarray로 변환\n",
    "\n",
    "2. [함수] 성별이 'M'인 데이터를 필터, Length와 Diameter 간 상관도를 반환\n",
    "\n",
    "3. __name__ 값이 __main__ 이면, 1, 2 함수를 실행, 2번 함수의 반환값을 프린트\n",
    "    \n",
    "    bonus : sqlite3 데이터베이스 생성\n",
    "    \n",
    "참고: https://docs.python.org/3/library/sqlite3.html\n",
    "\n",
    "테이블 DDL\n",
    "    create table abalone(\n",
    "        length number,\n",
    "        diameter number);"
   ]
  },
  {
   "cell_type": "code",
   "execution_count": 1,
   "id": "beea26c7",
   "metadata": {},
   "outputs": [],
   "source": [
    "import numpy as np\n",
    "import requests\n",
    "\n",
    "# 함수로 만들어 유지보수\n",
    "def fetch_uci_data(url):\n",
    "    d = requests.get(url)\n",
    "    t = []\n",
    "    for line in d.text.split('\\n'):\n",
    "        if len(line)!=0:\n",
    "            t.append(line.split(','))\n",
    "        \n",
    "#     len_check = set()\n",
    "#     for e in t:\n",
    "#         if(len(e)==1):\n",
    "#             print(e)\n",
    "#         len_check.add(len(e))\n",
    "#     print(len_check)\n",
    "    \n",
    "    return np.array(t)\n",
    "# 상관도\n",
    "def get_corr(d):\n",
    "    male_filter = d[:,0] == 'M'\n",
    "    male_samples = d[male_filter]\n",
    "    male_length = male_samples[:,1].astype(np.float64)\n",
    "    male_diameter = male_samples[:,2].astype(np.float64)\n",
    "    \n",
    "    return np.corrcoef(male_length, male_diameter) "
   ]
  },
  {
   "cell_type": "code",
   "execution_count": 2,
   "id": "83e46899",
   "metadata": {},
   "outputs": [
    {
     "name": "stdout",
     "output_type": "stream",
     "text": [
      "0.9819071375281404\n"
     ]
    }
   ],
   "source": [
    "url = 'https://archive.ics.uci.edu/ml/machine-learning-databases/abalone/abalone.data'\n",
    "\n",
    "if __name__ == '__main__':\n",
    "    np_data = fetch_uci_data(url)\n",
    "    corr_value = get_corr(np_data)\n",
    "    print(corr_value[0,1])"
   ]
  },
  {
   "cell_type": "code",
   "execution_count": 3,
   "id": "b3b288dc",
   "metadata": {},
   "outputs": [
    {
     "ename": "OperationalError",
     "evalue": "table abalone already exists",
     "output_type": "error",
     "traceback": [
      "\u001b[1;31m---------------------------------------------------------------------------\u001b[0m",
      "\u001b[1;31mOperationalError\u001b[0m                          Traceback (most recent call last)",
      "Cell \u001b[1;32mIn[3], line 4\u001b[0m\n\u001b[0;32m      2\u001b[0m con \u001b[38;5;241m=\u001b[39m sqlite3\u001b[38;5;241m.\u001b[39mconnect(\u001b[38;5;124m\"\u001b[39m\u001b[38;5;124mtest.db\u001b[39m\u001b[38;5;124m\"\u001b[39m)\n\u001b[0;32m      3\u001b[0m cur \u001b[38;5;241m=\u001b[39m con\u001b[38;5;241m.\u001b[39mcursor()\n\u001b[1;32m----> 4\u001b[0m \u001b[43mcur\u001b[49m\u001b[38;5;241;43m.\u001b[39;49m\u001b[43mexecute\u001b[49m\u001b[43m(\u001b[49m\u001b[38;5;124;43m\"\u001b[39;49m\u001b[38;5;124;43mCREATE TABLE abalone(length real, diameter real)\u001b[39;49m\u001b[38;5;124;43m\"\u001b[39;49m\u001b[43m)\u001b[49m\n\u001b[0;32m      5\u001b[0m cur\u001b[38;5;241m.\u001b[39mexecute(\u001b[38;5;124m\"\u001b[39m\u001b[38;5;124mINSERT INTO abalone(length, diameter) values(10.0, 20.0)\u001b[39m\u001b[38;5;124m\"\u001b[39m)\n\u001b[0;32m      6\u001b[0m con\u001b[38;5;241m.\u001b[39mcommit()\n",
      "\u001b[1;31mOperationalError\u001b[0m: table abalone already exists"
     ]
    }
   ],
   "source": [
    "import sqlite3  # local 시스템으로 파일로 가지고 있음.\n",
    "\n",
    "con = sqlite3.connect(\"test.db\")\n",
    "cur = con.cursor()\n",
    "cur.execute(\"CREATE TABLE abalone(length real, diameter real)\")\n",
    "cur.execute(\"INSERT INTO abalone(length, diameter) values(10.0, 20.0)\")\n",
    "con.commit()  # RAM -> ROM에 확실히 write하게 한다\n",
    "con.close()"
   ]
  },
  {
   "cell_type": "code",
   "execution_count": 5,
   "id": "1df1c2cf",
   "metadata": {},
   "outputs": [
    {
     "name": "stdout",
     "output_type": "stream",
     "text": [
      "[(10.0, 20.0)]\n"
     ]
    }
   ],
   "source": [
    "con = sqlite3.connect(\"test.db\")\n",
    "cur = con.cursor()\n",
    "res = cur.execute(\"SELECT * from abalone\")\n",
    "print(res.fetchall())\n",
    "con.close()"
   ]
  }
 ],
 "metadata": {
  "kernelspec": {
   "display_name": "Python 3 (ipykernel)",
   "language": "python",
   "name": "python3"
  },
  "language_info": {
   "codemirror_mode": {
    "name": "ipython",
    "version": 3
   },
   "file_extension": ".py",
   "mimetype": "text/x-python",
   "name": "python",
   "nbconvert_exporter": "python",
   "pygments_lexer": "ipython3",
   "version": "3.10.9"
  }
 },
 "nbformat": 4,
 "nbformat_minor": 5
}
