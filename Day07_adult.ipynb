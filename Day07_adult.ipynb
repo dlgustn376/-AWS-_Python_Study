{
 "cells": [
  {
   "cell_type": "code",
   "execution_count": 12,
   "id": "5d99083c",
   "metadata": {},
   "outputs": [],
   "source": [
    "import math\n",
    "\n",
    "# 평균\n",
    "def mean(xs):\n",
    "    return sum(xs)/len(xs)\n",
    "\n",
    "# 편차\n",
    "def dev(xs):\n",
    "    m = mean(xs)\n",
    "    return [x-m for x in xs]\n",
    "\n",
    "# 분산\n",
    "def var(xs):\n",
    "    n = len(xs)\n",
    "    d = dev(xs)\n",
    "    return sum([x*x for x in d])/(n-1)\n",
    "\n",
    "# 표준편차\n",
    "def stdev(xs):\n",
    "    return math.sqrt(var(xs))\n",
    "\n",
    "# 공분산\n",
    "def covar(list_1, list_2):\n",
    "    n=len(list_1)\n",
    "    list_1_dev = dev(list_1)\n",
    "    list_2_dev = dev(list_2)\n",
    "    return sum(x*y for x,y in zip(list_1_dev,list_2_dev))/(n-1)\n",
    "\n",
    "# 상관도 (-1 ~ 1)\n",
    "def corel(list_1, list_2):\n",
    "    return covar(list_1, list_2)/(stdev(list_1)*stdev(list_2))"
   ]
  },
  {
   "cell_type": "markdown",
   "id": "fe08cc72",
   "metadata": {},
   "source": [
    "### 상관도 분석: UCL Repo Adult 데이터\n",
    "\n",
    "* url: https://archive.ics.uci.edu/ml/machine-learning-databases/adult/adult.data\n",
    "* age / capital gain 상관도\n",
    "* hours-per-week / capital gain 상관도"
   ]
  },
  {
   "cell_type": "code",
   "execution_count": 13,
   "id": "1e04c7fc",
   "metadata": {},
   "outputs": [],
   "source": [
    "import requests\n",
    "\n",
    "x = requests.get('https://archive.ics.uci.edu/ml/machine-learning-databases/adult/adult.data')\n"
   ]
  },
  {
   "cell_type": "code",
   "execution_count": 24,
   "id": "5ff6b75d",
   "metadata": {},
   "outputs": [],
   "source": [
    "pass1 = x.text.split('\\n')\n",
    "#print(pass1[0].split(',')[0])  # age\n",
    "#print(pass1[0].split(',')[10]) # cap_gain\n",
    "#print(pass1[0].split(',')[12]) # hours_per_week\n",
    "\n",
    "age_list = []\n",
    "cap_gain_list = []\n",
    "hours_per_week_list = []\n",
    "\n",
    "for e in pass1:\n",
    "    try:\n",
    "        \n",
    "        t = e.split(',')\n",
    "        # 길이를 맞추기 위해 조건\n",
    "        if len(t) < 5:\n",
    "            continue\n",
    "        age_list.append(t[0])\n",
    "        cap_gain_list.append(t[10])\n",
    "        hours_per_week_list.append(t[12])\n",
    "    except:\n",
    "        print(e, type(e))\n"
   ]
  },
  {
   "cell_type": "code",
   "execution_count": 25,
   "id": "40b85de8",
   "metadata": {},
   "outputs": [
    {
     "name": "stdout",
     "output_type": "stream",
     "text": [
      "32561\n",
      "32561\n",
      "32561\n"
     ]
    }
   ],
   "source": [
    "print(len(age_list))\n",
    "print(len(cap_gain_list))\n",
    "print(len(hours_per_week_list))"
   ]
  },
  {
   "cell_type": "code",
   "execution_count": 29,
   "id": "3c219912",
   "metadata": {},
   "outputs": [
    {
     "name": "stdout",
     "output_type": "stream",
     "text": [
      "age vs. cap gain 0.077674498166006\n",
      "hours per week vs. cap gain 0.07840861539012314\n",
      "age vs. hours per week 0.07840861539012314\n"
     ]
    }
   ],
   "source": [
    "#print(age_list[:10])\n",
    "#print(cap_gain_list[:10])\n",
    "#print(hours_per_week_list[:10])\n",
    "\n",
    "age_list = [int(i) for i in age_list]\n",
    "cap_gain_list = [int(i) for i in cap_gain_list]\n",
    "hours_per_week_list = [int(i) for i in hours_per_week_list]\n",
    "\n",
    "#print(age_list[:10])\n",
    "#print(cap_gain_list[:10])\n",
    "#print(hours_per_week_list[:10])\n",
    "\n",
    "print('age vs. cap gain',corel(age_list,cap_gain_list))\n",
    "print('hours per week vs. cap gain',corel(hpw_list,cap_gain_list))\n",
    "print('age vs. hours per week',corel(hpw_list,cap_gain_list))"
   ]
  },
  {
   "cell_type": "code",
   "execution_count": 14,
   "id": "631dcca4",
   "metadata": {},
   "outputs": [
    {
     "name": "stdout",
     "output_type": "stream",
     "text": [
      "[['39', ' State-gov', ' 77516', ' Bachelors', ' 13', ' Never-married', ' Adm-clerical', ' Not-in-family', ' White', ' Male', ' 2174', ' 0', ' 40', ' United-States', ' <=50K'], ['50', ' Self-emp-not-inc', ' 83311', ' Bachelors', ' 13', ' Married-civ-spouse', ' Exec-managerial', ' Husband', ' White', ' Male', ' 0', ' 0', ' 13', ' United-States', ' <=50K'], ['38', ' Private', ' 215646', ' HS-grad', ' 9', ' Divorced', ' Handlers-cleaners', ' Not-in-family', ' White', ' Male', ' 0', ' 0', ' 40', ' United-States', ' <=50K']]\n"
     ]
    }
   ],
   "source": [
    "pass1 = x.text.split('\\n')\n",
    "#print(pass1[:2])\n",
    "pass2 = []\n",
    "for p in pass1:\n",
    "    pass2.append(p.split(','))\n",
    "print(pass2[:3])"
   ]
  },
  {
   "cell_type": "code",
   "execution_count": 15,
   "id": "9f46f6df",
   "metadata": {},
   "outputs": [
    {
     "name": "stdout",
     "output_type": "stream",
     "text": [
      "[['39', ' 2174', ' 40'], ['50', ' 0', ' 13'], ['38', ' 0', ' 40'], ['53', ' 0', ' 40'], ['28', ' 0', ' 40'], ['37', ' 0', ' 40'], ['49', ' 0', ' 16'], ['52', ' 0', ' 45'], ['31', ' 14084', ' 50'], ['42', ' 5178', ' 40'], ['37', ' 0', ' 80'], ['30', ' 0', ' 40'], ['23', ' 0', ' 30'], ['32', ' 0', ' 50'], ['40', ' 0', ' 40']]\n"
     ]
    }
   ],
   "source": [
    "pass3 = []\n",
    "for i in pass2:\n",
    "    try:\n",
    "        y= i[0].split()\n",
    "        y.append(i[10])\n",
    "        y.append(i[12])\n",
    "        pass3.append(y)\n",
    "    except:\n",
    "        pass\n",
    "    \n",
    "print(pass3[0:15])    \n"
   ]
  },
  {
   "cell_type": "code",
   "execution_count": 16,
   "id": "a7a28a6b",
   "metadata": {},
   "outputs": [
    {
     "name": "stdout",
     "output_type": "stream",
     "text": [
      "[[39, 2174, 40], [50, 0, 13], [38, 0, 40], [53, 0, 40], [28, 0, 40], [37, 0, 40], [49, 0, 16], [52, 0, 45], [31, 14084, 50], [42, 5178, 40], [37, 0, 80], [30, 0, 40], [23, 0, 30], [32, 0, 50], [40, 0, 40]]\n"
     ]
    }
   ],
   "source": [
    "for i in pass3:\n",
    "    for j, n in enumerate(i):\n",
    "        i[j] = int(n)\n",
    "        \n",
    "print(pass3[0:15])"
   ]
  },
  {
   "cell_type": "code",
   "execution_count": 17,
   "id": "781c08a7",
   "metadata": {},
   "outputs": [
    {
     "name": "stdout",
     "output_type": "stream",
     "text": [
      "[39, 50, 38]\n",
      "[2174, 0, 0]\n",
      "[40, 13, 40]\n"
     ]
    }
   ],
   "source": [
    "age_list= []\n",
    "cap_gain_list = []\n",
    "hpw_list=[]\n",
    "\n",
    "for i in pass3:\n",
    "    age_list.append(i[0])\n",
    "    cap_gain_list.append(i[1])\n",
    "    hpw_list.append(i[2])\n",
    "    \n",
    "print(age_list[:3])\n",
    "print(cap_gain_list[:3])\n",
    "print(hpw_list[:3])"
   ]
  },
  {
   "cell_type": "code",
   "execution_count": 30,
   "id": "f31c98ed",
   "metadata": {},
   "outputs": [
    {
     "name": "stdout",
     "output_type": "stream",
     "text": [
      "0.077674498166006\n",
      "0.07840861539012314\n",
      "0.06875570750956339\n"
     ]
    }
   ],
   "source": [
    "# 나이와 자산의 상관도\n",
    "print(corel(age_list,cap_gain_list))\n",
    "\n",
    "# 주당 시간과 자산의 상관도\n",
    "print(corel(hpw_list,cap_gain_list))\n",
    "\n",
    "# 나이와 주당시간과의 상관도\n",
    "print(corel(age_list,hpw_list))"
   ]
  }
 ],
 "metadata": {
  "kernelspec": {
   "display_name": "Python 3 (ipykernel)",
   "language": "python",
   "name": "python3"
  },
  "language_info": {
   "codemirror_mode": {
    "name": "ipython",
    "version": 3
   },
   "file_extension": ".py",
   "mimetype": "text/x-python",
   "name": "python",
   "nbconvert_exporter": "python",
   "pygments_lexer": "ipython3",
   "version": "3.10.9"
  }
 },
 "nbformat": 4,
 "nbformat_minor": 5
}
