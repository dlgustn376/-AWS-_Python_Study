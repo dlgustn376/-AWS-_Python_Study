{
 "cells": [
  {
   "cell_type": "markdown",
   "id": "5c9f7bdc",
   "metadata": {},
   "source": [
    "### 전국횡단보도표준데이터\n",
    "    \n",
    "    1. 횡단보도 연장, 녹생신호시간 : 상관도\n",
    "    2. 자전거 횡단도 겸용 비율(전체 대비), \n",
    "    3. 차로수별 자전거 횡단도 카운트/비율\n",
    "    4. 차로수별 보행자 신호등 유무 카운트 / 비율\n",
    "    5. 차로수별 음향신호기설치 유무 카운트 / 비율\n",
    "    \n",
    "### 화면 출력\n",
    "    1. 상관도 수치\n",
    "    2. 비율 수치\n",
    "    3. 카운트, 비율\n",
    "    4. 카운트, 비율\n",
    "    5. 카운트, 비율\n",
    "    "
   ]
  },
  {
   "cell_type": "code",
   "execution_count": 19,
   "id": "f8b5ff9e",
   "metadata": {},
   "outputs": [],
   "source": [
    "import numpy as np\n",
    "import matplotlib.pyplot as plt\n",
    "from scipy import stats\n",
    "\n",
    "np.set_printoptions(precision=5, suppress=True)\n",
    "\n",
    "def my_split(s):\n",
    "    block_start = False\n",
    "    start_index = 0\n",
    "    ret_list=[]\n",
    "    for i, c in enumerate(s):\n",
    "        if block_start==False:\n",
    "            if c==',':\n",
    "                ret_list.append(s[start_index:i])\n",
    "                start_index=i+1\n",
    "            elif c=='\"':\n",
    "                block_start=True\n",
    "                start_index = i\n",
    "        else:\n",
    "            if c=='\"':\n",
    "                block_start=False\n",
    "    if s[-1]!=',':\n",
    "        ret_list.append(s[start_index:])\n",
    "    return ret_list\n",
    "\n",
    "def split_len(data_list):\n",
    "    len_list=[]\n",
    "    for e in data_list:\n",
    "        len_list.append(len(e))\n",
    "    print(set(len_list))\n",
    "    if len(set(len_list))>1:\n",
    "        for i in set(len_list):\n",
    "            print(i, len_list.count(i))\n",
    "    return set(len_list)"
   ]
  },
  {
   "cell_type": "code",
   "execution_count": 71,
   "id": "fc2c8725",
   "metadata": {},
   "outputs": [
    {
     "name": "stdout",
     "output_type": "stream",
     "text": [
      "{28}\n",
      "(0, '시도명')\n",
      "(1, '시군구명')\n",
      "(2, '도로명')\n",
      "(3, '소재지도로명주소')\n",
      "(4, '소재지지번주소')\n",
      "(5, '횡단보도관리번호')\n",
      "(6, '횡단보도종류')\n",
      "(7, '자전거횡단도겸용여부')\n",
      "(8, '고원식적용여부')\n",
      "(9, '위도')\n",
      "(10, '경도')\n",
      "(11, '차로수')\n",
      "(12, '횡단보도폭')\n",
      "(13, '횡단보도연장')\n",
      "(14, '보행자신호등유무')\n",
      "(15, '보행자작동신호기유무')\n",
      "(16, '음향신호기설치여부')\n",
      "(17, '녹색신호시간')\n",
      "(18, '적색신호시간')\n",
      "(19, '교통섬유무')\n",
      "(20, '보도턱낮춤여부')\n",
      "(21, '점자블록유무')\n",
      "(22, '집중조명시설유무')\n",
      "(23, '관리기관명')\n",
      "(24, '관리기관전화번호')\n",
      "(25, '데이터기준일자')\n",
      "(26, '제공기관코드')\n",
      "(27, '제공기관명')\n"
     ]
    }
   ],
   "source": [
    "csv_data = []\n",
    "with open ('전국횡단보도표준데이터.csv') as f:\n",
    "    for line in f:\n",
    "        csv_data.append(my_split(line[:-1]))\n",
    "\n",
    "assert len(split_len(csv_data)) == 1\n",
    "\n",
    "np_data = np.array(csv_data)\n",
    "for e in enumerate(np_data[0]):\n",
    "    print(e)"
   ]
  },
  {
   "cell_type": "code",
   "execution_count": 115,
   "id": "6c7306bd",
   "metadata": {},
   "outputs": [
    {
     "name": "stdout",
     "output_type": "stream",
     "text": [
      "[86.46524 13.53476]\n"
     ]
    }
   ],
   "source": [
    "# 2. 자전거 횡단 겸용비율\n",
    "sub_data = np.array(np_data[1:,7])\n",
    "# print(sub_data)\n",
    "val,cnt = np.unique(sub_data, return_counts=True)\n",
    "# print(val)\n",
    "# print(cnt)\n",
    "\n",
    "filter1 = sub_data != ' '\n",
    "sub_data_f = sub_data[filter1]\n",
    "val, cnt = np.unique(sub_data_f, return_counts = True)\n",
    "# print(val, cnt)\n",
    "print((cnt * 100) / np.sum(cnt))"
   ]
  },
  {
   "cell_type": "code",
   "execution_count": 173,
   "id": "55cc2c72",
   "metadata": {},
   "outputs": [
    {
     "ename": "ValueError",
     "evalue": "not enough values to unpack (expected 2, got 1)",
     "output_type": "error",
     "traceback": [
      "\u001b[1;31m---------------------------------------------------------------------------\u001b[0m",
      "\u001b[1;31mValueError\u001b[0m                                Traceback (most recent call last)",
      "Cell \u001b[1;32mIn[173], line 14\u001b[0m\n\u001b[0;32m     11\u001b[0m sub_data_f \u001b[38;5;241m=\u001b[39m sub_data[filter1]\n\u001b[0;32m     13\u001b[0m pass1 \u001b[38;5;241m=\u001b[39m \u001b[38;5;28mdict\u001b[39m()\n\u001b[1;32m---> 14\u001b[0m \u001b[38;5;28;01mfor\u001b[39;00m yn, road \u001b[38;5;129;01min\u001b[39;00m sub_data_f:\n\u001b[0;32m     15\u001b[0m     yr \u001b[38;5;241m=\u001b[39m road\u001b[38;5;241m.\u001b[39msplit()[\u001b[38;5;241m0\u001b[39m]\n\u001b[0;32m     16\u001b[0m     \u001b[38;5;28;01mif\u001b[39;00m yn \u001b[38;5;129;01min\u001b[39;00m pass1\u001b[38;5;241m.\u001b[39mkeys():\n",
      "\u001b[1;31mValueError\u001b[0m: not enough values to unpack (expected 2, got 1)"
     ]
    }
   ],
   "source": [
    "# 3. 차로수별 자전거 횡단보도 카운트 / 비율\n",
    "\n",
    "sub_data = np.array(np_data[1:,[7,11]])\n",
    "# print(sub_data)\n",
    "\n",
    "# val,cnt = np.unique(sub_data, return_counts = True)\n",
    "# print(val)\n",
    "# print(cnt)\n",
    "\n",
    "filter1 = (sub_data != ' ') & (sub_data != '0')\n",
    "sub_data_f = sub_data[filter1]\n",
    "\n",
    "pass1 = dict()\n",
    "for yn, road in sub_data_f:\n",
    "    yr = road.split()[0]\n",
    "    if yn in pass1.keys():\n",
    "        pass1[yr].append(yn)\n",
    "    else:\n",
    "        pass1[yr] = [yn]\n",
    "print(pass1)\n",
    "\n",
    "# pass2 = []\n",
    "# for road in pass1:\n",
    "#     val, cnt = np.unique(pass1[road], return_counts=True)\n",
    "#     y,ratio = 0, 0\n",
    "#     if 'Y' in val:\n",
    "#         y = cnt[val == 'Y']\n",
    "#     ratio = y / np.sum(cnt)\n",
    "#     pass2.append((int(road), int(y), float(ratio)))\n",
    "# print(pass2)\n",
    "# np.set_printoptions(precision=3, suppress=True)\n",
    "\n",
    "# pass3 = sorted(pass2, key=lambda x : x[0])\n",
    "# pass3 = np.array(pass3)\n",
    "# print(pass3)\n",
    "    \n",
    "# val, cnt = np.unique(sub_data_f, return_counts = True)\n",
    "# print(val)\n",
    "# print(cnt)\n",
    "# print((cnt * 100) / np.sum(cnt))"
   ]
  },
  {
   "cell_type": "code",
   "execution_count": 142,
   "id": "1301c9cc",
   "metadata": {},
   "outputs": [
    {
     "name": "stdout",
     "output_type": "stream",
     "text": [
      "['N' 'Y' 'n' 'y']\n",
      "[58342 25643    94    11]\n",
      "[69.38043 30.49471  0.11178  0.01308]\n"
     ]
    }
   ],
   "source": [
    "# 4. 차로수별 보행자 신호등 유무 카운트/ 비율\n",
    "sub_data = np.array(np_data[1:,[7,14]])\n",
    "# print(sub_data)\n",
    "\n",
    "# val,cnt = np.unique(sub_data, return_counts = True)\n",
    "# print(val)\n",
    "# print(cnt)\n",
    "\n",
    "filter1 = (sub_data != ' ') & (sub_data != '0')\n",
    "sub_data_f = sub_data[filter1]\n",
    "\n",
    "val, cnt = np.unique(sub_data_f, return_counts = True)\n",
    "print(val)\n",
    "print(cnt)\n",
    "print((cnt * 100) / np.sum(cnt))"
   ]
  },
  {
   "cell_type": "code",
   "execution_count": 141,
   "id": "0e7c4d6b",
   "metadata": {},
   "outputs": [
    {
     "name": "stdout",
     "output_type": "stream",
     "text": [
      "['N' 'Y' 'n']\n",
      "[46163  8133   105]\n",
      "[84.8569  14.95009  0.19301]\n"
     ]
    }
   ],
   "source": [
    "# 5. 차로수별 음향신호기설치 유무 카운트 / 비율\n",
    "sub_data = np.array(np_data[1:,[7,16]])\n",
    "# print(sub_data)\n",
    "\n",
    "# val,cnt = np.unique(sub_data, return_counts = True)\n",
    "# print(val)\n",
    "# print(cnt)\n",
    "\n",
    "filter1 = (sub_data != ' ') & (sub_data != '0')\n",
    "sub_data_f = sub_data[filter1]\n",
    "\n",
    "val, cnt = np.unique(sub_data_f, return_counts = True)\n",
    "print(val)\n",
    "print(cnt)\n",
    "print((cnt * 100) / np.sum(cnt))"
   ]
  },
  {
   "cell_type": "code",
   "execution_count": 140,
   "id": "8b916272",
   "metadata": {},
   "outputs": [
    {
     "name": "stdout",
     "output_type": "stream",
     "text": [
      "[13.29805 13.51665]\n",
      "[26.30099 13.59862]\n",
      "[[1.      0.18972]\n",
      " [0.18972 1.     ]]\n"
     ]
    }
   ],
   "source": [
    "# 1.  횡단보도 연장, 녹색신호시간: 상관도\n",
    "sub_data = np_data[1:,[13,17]]\n",
    "filter1 = sub_data[:, 1] != ''\n",
    "sub_data = sub_data[filter1].astype(np.float64)\n",
    "\n",
    "print(np_mean)\n",
    "print(np_std)\n",
    "\n",
    "print(np.corrcoef(sub_data[:,0],sub_data[:,1]))"
   ]
  }
 ],
 "metadata": {
  "kernelspec": {
   "display_name": "Python 3 (ipykernel)",
   "language": "python",
   "name": "python3"
  },
  "language_info": {
   "codemirror_mode": {
    "name": "ipython",
    "version": 3
   },
   "file_extension": ".py",
   "mimetype": "text/x-python",
   "name": "python",
   "nbconvert_exporter": "python",
   "pygments_lexer": "ipython3",
   "version": "3.10.9"
  }
 },
 "nbformat": 4,
 "nbformat_minor": 5
}
