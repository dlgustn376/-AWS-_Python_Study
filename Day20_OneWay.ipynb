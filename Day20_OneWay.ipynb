{
 "cells": [
  {
   "cell_type": "markdown",
   "id": "69bec9b7",
   "metadata": {},
   "source": [
    "## 전국일반통행도로표준데이터\n",
    "- 데이터 전처리\n",
    "    시도명, 지정사유, 지정연도, 도로폭, 도로차로수, 보차분리여부\n",
    "    \n",
    "- 결측치(column 개별 기준)\n",
    "- 오류치 처리(unit의 차이)\n",
    "- 이상치 처리 (iqr 사용)\n",
    "- 전처리 내용 정리"
   ]
  },
  {
   "cell_type": "code",
   "execution_count": 54,
   "id": "1982949b",
   "metadata": {},
   "outputs": [
    {
     "name": "stdout",
     "output_type": "stream",
     "text": [
      "   시도명 지정사유  지정연도  도로폭  도로차로수 보차분리여부\n",
      "0  경기도  NaN   NaN  5.0    1.0      Y\n",
      "1  경기도  NaN   NaN  5.0    1.0      Y\n",
      "2  경기도  NaN   NaN  9.0    1.0      Y\n"
     ]
    }
   ],
   "source": [
    "import numpy as np\n",
    "import pandas as pd\n",
    "import matplotlib.pyplot as plt\n",
    "\n",
    "\n",
    "pd_rawdata = pd.read_csv('전국일방통행도로표준데이터.csv',encoding='cp949')\n",
    "\n",
    "columns_selection = ['시도명', '지정사유', '지정연도', '도로폭', '도로차로수', '보차분리여부']\n",
    "pd_data = pd_rawdata[columns_selection]\n",
    "del pd_rawdata\n",
    "print(pd_data[:3])"
   ]
  },
  {
   "cell_type": "code",
   "execution_count": 85,
   "id": "ad05e758",
   "metadata": {},
   "outputs": [
    {
     "name": "stdout",
     "output_type": "stream",
     "text": [
      "Index(['시도명', '지정사유', '지정연도', '도로폭', '도로차로수', '보차분리여부'], dtype='object')\n",
      "시도명       category\n",
      "지정사유        object\n",
      "지정연도       float64\n",
      "도로폭        float64\n",
      "도로차로수      float64\n",
      "보차분리여부    category\n",
      "dtype: object\n"
     ]
    }
   ],
   "source": [
    "# EDA : Exploratory Data Analysis\n",
    "print(pd_data.columns)\n",
    "print(pd_data.dtypes)\n",
    "\n",
    "# 결측치 1567개 사유가 다양하여서 판단하기 어려움. \n",
    "# print(pd_data['지정사유'].value_counts())\n",
    "# print(pd_data['지정사유'].isna().value_counts())\n",
    "\n",
    "# 결측치 있음 1609개 정확한 연도를 알 수 없음\n",
    "# print(pd_data['지정연도'].value_counts())\n",
    "# print(pd_data['지정연도'].isna().value_counts())\n",
    "\n",
    "# 결측치 없음\n",
    "# print(pd_data['도로폭'].value_counts())\n",
    "# print(pd_data['도로폭'].isna().value_counts())\n",
    "\n",
    "# 이상치 있음 결측치 1개\n",
    "# print(pd_data['도로차로수'].value_counts())\n",
    "# print(pd_data['도로차로수'].isna().value_counts())\n",
    "\n",
    "# 오류치 1개 있음\n",
    "# print(pd_data['보차분리여부'].value_counts())\n",
    "# print(pd_data['보차분리여부'].isna().value_counts())"
   ]
  },
  {
   "cell_type": "code",
   "execution_count": 55,
   "id": "4869e2ff",
   "metadata": {},
   "outputs": [
    {
     "name": "stdout",
     "output_type": "stream",
     "text": [
      "Index(['시도명', '지정사유', '지정연도', '도로폭', '도로차로수', '보차분리여부'], dtype='object')\n",
      "시도명       category\n",
      "지정사유        object\n",
      "지정연도       float64\n",
      "도로폭        float64\n",
      "도로차로수      float64\n",
      "보차분리여부    category\n",
      "dtype: object\n"
     ]
    }
   ],
   "source": [
    "pd_data['보차분리여부'] = pd_data['보차분리여부'].astype('category')\n",
    "pd_data['시도명'] = pd_data['시도명'].astype('category')\n",
    "\n",
    "print(pd_data.columns)\n",
    "print(pd_data.dtypes)"
   ]
  },
  {
   "cell_type": "code",
   "execution_count": 84,
   "id": "8e9fc325",
   "metadata": {},
   "outputs": [
    {
     "name": "stdout",
     "output_type": "stream",
     "text": [
      "시도명 False\n",
      "지정사유 False\n",
      "지정연도 False\n",
      "도로폭 False\n",
      "도로차로수 False\n",
      "보차분리여부 False\n"
     ]
    }
   ],
   "source": [
    "# 결측지 확인\n",
    "# print(pd_data.shape)\n",
    "# print(pd_data.describe(include='all'))\n",
    "\n",
    "for e in pd_data:\n",
    "    print(e, pd_data[e].hasnans)\n",
    "    if pd_data[e].hasnans==True:\n",
    "        print(pd_data[e].isna().value_counts())"
   ]
  },
  {
   "cell_type": "code",
   "execution_count": 99,
   "id": "e3ba95b2",
   "metadata": {},
   "outputs": [
    {
     "name": "stdout",
     "output_type": "stream",
     "text": [
      "False    2159\n",
      "Name: 지정사유, dtype: int64\n",
      "False    2159\n",
      "Name: 지정사유, dtype: int64\n",
      "0       사유없음\n",
      "1       사유없음\n",
      "2       사유없음\n",
      "3       사유없음\n",
      "4       사유없음\n",
      "        ... \n",
      "2154    통행원활\n",
      "2155    통행원활\n",
      "2156    통행원활\n",
      "2157    통행원활\n",
      "2158    사유없음\n",
      "Name: 지정사유, Length: 2159, dtype: object\n"
     ]
    }
   ],
   "source": [
    "# 지정사유 사유가 없는 것이 많음\n",
    "# np.NaN 는 사유없음으로 함.\n",
    "# pd_data.replace({'CCTV설치여부':'Y','CCTV설치대수': np.NaN}, 1, inplace=True)\n",
    "# print(pd_data.dtypes)\n",
    "# print(pd_data['지정사유'])\n",
    "\n",
    "print(pd_data['지정사유'].isna().value_counts())\n",
    "\n",
    "filter_nan = pd_data['지정사유'] == np.NaN\n",
    "pd_data.loc[filter_nan, '지정사유'] = pd_data.loc[filter_nan, '지정사유'].replace(np.NaN,'사유없음')\n",
    "\n",
    "# pd_data.replace({'지정사유': np.NaN}, '사유없음', inplace=True)\n",
    "print(pd_data['지정사유'].isna().value_counts())\n",
    "\n",
    "print(pd_data['지정사유'])"
   ]
  },
  {
   "cell_type": "code",
   "execution_count": 58,
   "id": "f944cca4",
   "metadata": {},
   "outputs": [
    {
     "name": "stdout",
     "output_type": "stream",
     "text": [
      "False    2159\n",
      "Name: 지정연도, dtype: int64\n"
     ]
    }
   ],
   "source": [
    "# 지정연도를 알수 없는 것이 많음\n",
    "# np.NaN 는 --> 0\n",
    "\n",
    "pd_data.replace({'지정연도': np.NaN}, 0, inplace=True)\n",
    "print(pd_data['지정연도'].isna().value_counts())"
   ]
  },
  {
   "cell_type": "code",
   "execution_count": 83,
   "id": "95d08897",
   "metadata": {},
   "outputs": [
    {
     "name": "stdout",
     "output_type": "stream",
     "text": [
      "False    2159\n",
      "Name: 도로차로수, dtype: int64\n"
     ]
    }
   ],
   "source": [
    "# 도로차로수의 오류치를 평균치로 대체함.\n",
    "# 1661인덱스가 60.0으로의 이상치가 나와 평균치로 대체하였다.\n",
    "\n",
    "filter1 = pd_data['도로차로수']<30.0\n",
    "df1 = pd_data['도로차로수'][filter1].mean()\n",
    "# print(df1)\n",
    "\n",
    "pd_data.replace({'도로차로수':60.0},df1, inplace=True)\n",
    "pd_data.replace({'도로차로수':np.NaN}, df1, inplace=True)\n",
    "\n",
    "print(pd_data['도로차로수'].isna().value_counts())"
   ]
  },
  {
   "cell_type": "code",
   "execution_count": 97,
   "id": "fd68bcde",
   "metadata": {},
   "outputs": [
    {
     "name": "stdout",
     "output_type": "stream",
     "text": [
      "N    1658\n",
      "Y     501\n",
      "Name: 보차분리여부, dtype: int64\n"
     ]
    }
   ],
   "source": [
    "# 보파분리여부의 빈칸이 있음.\n",
    "# 네이버 지도로 해당 주소을 확인한 결과 보차분리가 되어 있지 않아 \n",
    "# 빈 값을 --> 'N'\n",
    "pd_data.replace({'보차분리여부': ' '},'N', inplace=True)\n",
    "print(pd_data['보차분리여부'].value_counts())"
   ]
  },
  {
   "cell_type": "code",
   "execution_count": 91,
   "id": "31cc2eb0",
   "metadata": {},
   "outputs": [
    {
     "data": {
      "text/plain": [
       "<matplotlib.collections.PathCollection at 0x1fdd8b3a5c0>"
      ]
     },
     "execution_count": 91,
     "metadata": {},
     "output_type": "execute_result"
    },
    {
     "data": {
      "image/png": "[encoded data removed]",
      "text/plain": [
       "<Figure size 640x480 with 1 Axes>"
      ]
     },
     "metadata": {},
     "output_type": "display_data"
    }
   ],
   "source": [
    "x = pd_data['도로차로수']\n",
    "y = pd_data['도로폭']\n",
    "\n",
    "np.corrcoef(x,y)\n",
    "_,axe = plt.subplots()\n",
    "axe.scatter(x,y)"
   ]
  },
  {
   "cell_type": "markdown",
   "id": "a3a8a000",
   "metadata": {},
   "source": [
    "## 전국일반통행도로표준데이터\n",
    "- 데이터 전처리\n",
    "    시도명, 지정사유, 지정연도, 도로폭, 도로차로수, 보차분리여부\n",
    "    \n",
    "- 결측치(column 개별 기준)\n",
    "- 오류치 처리(unit의 차이)\n",
    "- 이상치 처리 (iqr 사용)\n",
    "- 전처리 내용 정리"
   ]
  },
  {
   "cell_type": "markdown",
   "id": "94c5b05a",
   "metadata": {},
   "source": [
    "### 시도명\n",
    "* dtype : categoty\n",
    "* value:\n",
    "* 결측치 없음\n",
    "\n",
    "### 지정사유\n",
    "* dtype : object\n",
    "* 결측치 없음\n",
    "\n",
    "### 지정연도\n",
    "* dtype : category\n",
    "* value : 'Y', 'N'\n",
    "* 결측치: 없음\n",
    "\n",
    "### 도로폭\n",
    "* dtype: np.int64\n",
    "* min / max: 0 /_\n",
    "* 결측치 (개)\n",
    "    CCTV 설치여부 'Y' --> 1\n",
    "    CCTV 설치여부 'N' --> 0\n",
    "\n",
    "### 도로차로수\n",
    "* dtype : np.float64\n",
    "* min / max : \n",
    "* 오류치 (   개, 처리후 오류치 없음)\n",
    "    숫자~숫자 형태의 문자열 --> 평균치 np.float64 값으로 대체\n",
    "* 결측치 (   개, 처리후 결측치 없음\n",
    "    전체 평균값으로 대체\n",
    "\n",
    "### 보차분리여부\n",
    "* dtype :\n",
    "* value:\n",
    "* 결측치: 없음"
   ]
  }
 ],
 "metadata": {
  "kernelspec": {
   "display_name": "Python 3 (ipykernel)",
   "language": "python",
   "name": "python3"
  },
  "language_info": {
   "codemirror_mode": {
    "name": "ipython",
    "version": 3
   },
   "file_extension": ".py",
   "mimetype": "text/x-python",
   "name": "python",
   "nbconvert_exporter": "python",
   "pygments_lexer": "ipython3",
   "version": "3.10.9"
  }
 },
 "nbformat": 4,
 "nbformat_minor": 5
}
