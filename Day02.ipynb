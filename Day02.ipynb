{
 "cells": [
  {
   "cell_type": "code",
   "execution_count": 1,
   "id": "eceb0ccb",
   "metadata": {},
   "outputs": [
    {
     "name": "stdout",
     "output_type": "stream",
     "text": [
      "myfunction\n"
     ]
    }
   ],
   "source": [
    "# 함수\n",
    "def function_name():\n",
    "    print('myfunction')\n",
    "\n",
    "function_name()"
   ]
  },
  {
   "cell_type": "code",
   "execution_count": 33,
   "id": "18513997",
   "metadata": {},
   "outputs": [
    {
     "name": "stdout",
     "output_type": "stream",
     "text": [
      "fn7 Start\n",
      "abc def\n"
     ]
    }
   ],
   "source": [
    "# function argument\n",
    "def myfn1():\n",
    "    print('myfn1')\n",
    "    \n",
    "def myfn2(arg1):\n",
    "    print(arg1)\n",
    "\n",
    "def myfn3(arg1 = 'a', arg2 = 'b'): # default 값\n",
    "    print(arg1, arg2)\n",
    "\n",
    "def myfn4(*arg1):   #매개변수가 여러개를 입력한 경우 tuple로 나옴.\n",
    "    for i in arg1:  #순환 구조 for문으로 출력 가능\n",
    "        print(i)\n",
    "\n",
    "def myfn5(arg1, *, arg2, arg3): # * 앞은 positional 뒤는 keyword 로 사용하겠다.\n",
    "    print(arg1, arg2, arg3)\n",
    "\n",
    "def myfn6(arg1, /, arg2, arg3):\n",
    "    print(arg1, arg2, arg3)    # / positional argument로 강제\n",
    "\n",
    "def myfn7(arg1, arg2):\n",
    "    print(arg1)\n",
    "    arg2('abc', 'def')       # 매개변수 몇개를 넘겨줄 것인지 강제하는 부분이 없어서 불명확하다.\n",
    "    \n",
    "#myfn2('abc')\n",
    "#myfn3(10,20) #positional argument\n",
    "#myfn3(arg2=10, arg1=20) #keyword argument\n",
    "#myfn3()\n",
    "#myfn4(1,2,3,4)\n",
    "#myfn2([1,2,3,4])\n",
    "\n",
    "# keyword를 강제로 사용하게 하는 방법 \n",
    "# 자료형을 지정하지 않기 떄문에 사용. \n",
    "# argument의 이름을 힌트로 해당하는 자료형태로 입력.\n",
    "#myfn5(arg1 = 'a',arg3 = 'b', arg2 = 'c') \n",
    "#myfn6('a','b','c')\n",
    "#myfn6('a',arg3 = 'b', arg2 = 'c') \n",
    "#myfn6(arg1 = 'a',arg3 = 'b', arg2 = 'c')\n",
    "myfn7('fn7 Start', myfn3) #함수의 이름을 하나의 객체로 보고 넘겨줌\n"
   ]
  },
  {
   "cell_type": "code",
   "execution_count": 37,
   "id": "b4a90ede",
   "metadata": {},
   "outputs": [
    {
     "name": "stdout",
     "output_type": "stream",
     "text": [
      "(10, 20)\n"
     ]
    }
   ],
   "source": [
    "#function return\n",
    "def myfn8():\n",
    "    print('myfn8')\n",
    "\n",
    "def myfn9():\n",
    "    return 10\n",
    "\n",
    "def myfn10():     # 여러개로 반환시 tuple로 반환됨\n",
    "    return 10, 20\n",
    "\n",
    "#ret_value = myfn8()\n",
    "#print(ret_value)    #반환값 없음\n",
    "\n",
    "#ret_value = myfn9()\n",
    "#print(ret_value)    #반환값 있음\n",
    "\n",
    "ret_value = myfn10()\n",
    "print(ret_value)    #반환값 있음\n"
   ]
  }
 ],
 "metadata": {
  "kernelspec": {
   "display_name": "Python 3 (ipykernel)",
   "language": "python",
   "name": "python3"
  },
  "language_info": {
   "codemirror_mode": {
    "name": "ipython",
    "version": 3
   },
   "file_extension": ".py",
   "mimetype": "text/x-python",
   "name": "python",
   "nbconvert_exporter": "python",
   "pygments_lexer": "ipython3",
   "version": "3.10.9"
  }
 },
 "nbformat": 4,
 "nbformat_minor": 5
}
