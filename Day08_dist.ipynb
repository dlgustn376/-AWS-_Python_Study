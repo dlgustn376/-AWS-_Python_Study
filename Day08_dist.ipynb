{
 "cells": [
  {
   "cell_type": "code",
   "execution_count": 1,
   "id": "a81ab928",
   "metadata": {},
   "outputs": [],
   "source": [
    "import numpy as np\n",
    "import math"
   ]
  },
  {
   "cell_type": "markdown",
   "id": "e167960d",
   "metadata": {},
   "source": [
    "# 두 점의 좌표 거리 구하기"
   ]
  },
  {
   "cell_type": "code",
   "execution_count": 2,
   "id": "ea67151a",
   "metadata": {},
   "outputs": [
    {
     "name": "stdout",
     "output_type": "stream",
     "text": [
      "15.132745950421556\n",
      "15.132745950421556\n",
      "15.132745950421556\n",
      "15.132745950421556\n"
     ]
    }
   ],
   "source": [
    "x1 = 3\n",
    "y1 = 10\n",
    "\n",
    "x2 = 5\n",
    "y2 = 25\n",
    "\n",
    "a= math.sqrt((x2-x1)**2 + (y2-y1)**2)\n",
    "print(a) #15.132745950421556\n",
    "\n",
    "#python list version\n",
    "def dist(p1,p2):  \n",
    "    #print('x:',(p1[0]-p2[0]), (p1[0]-p2[0])**2)\n",
    "    #print('y:',(p1[1]-p2[1]), (p1[1]-p2[1])**2)\n",
    "    return math.sqrt((p1[0]-p2[0])**2 + (p1[1]-p2[1])**2)\n",
    "def dist_np(p1,p2):\n",
    "    p = p2-p1\n",
    "    p = sum(p*p)\n",
    "    return math.sqrt(p)\n",
    "\n",
    "def dist_np2(p1,p2):\n",
    "    return math.sqrt(sum((p2-p1)**2))\n",
    "\n",
    "b = dist([x1,y1], [x2,y2])\n",
    "print(b) #15.132745950421556\n",
    "\n",
    "c = dist_np(np.array([x1,y1]), np.array([x2,y2]))\n",
    "print(c)\n",
    "\n",
    "d = dist_np2(np.array([x1,y1]), np.array([x2,y2]))\n",
    "print(d)"
   ]
  },
  {
   "cell_type": "markdown",
   "id": "6384ac2b",
   "metadata": {},
   "source": []
  }
 ],
 "metadata": {
  "kernelspec": {
   "display_name": "Python 3 (ipykernel)",
   "language": "python",
   "name": "python3"
  },
  "language_info": {
   "codemirror_mode": {
    "name": "ipython",
    "version": 3
   },
   "file_extension": ".py",
   "mimetype": "text/x-python",
   "name": "python",
   "nbconvert_exporter": "python",
   "pygments_lexer": "ipython3",
   "version": "3.10.9"
  }
 },
 "nbformat": 4,
 "nbformat_minor": 5
}
