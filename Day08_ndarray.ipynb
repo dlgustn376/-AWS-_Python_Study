{
 "cells": [
  {
   "cell_type": "code",
   "execution_count": 20,
   "id": "d009dfc8",
   "metadata": {},
   "outputs": [],
   "source": [
    "import numpy as np"
   ]
  },
  {
   "cell_type": "code",
   "execution_count": 2,
   "id": "24465182",
   "metadata": {},
   "outputs": [
    {
     "name": "stdout",
     "output_type": "stream",
     "text": [
      "Requirement already satisfied: numpy in c:\\users\\itps\\appdata\\local\\programs\\python\\python310\\lib\\site-packages (1.24.1)\n"
     ]
    }
   ],
   "source": [
    "#!pip install numpy"
   ]
  },
  {
   "cell_type": "code",
   "execution_count": 4,
   "id": "da556582",
   "metadata": {},
   "outputs": [
    {
     "name": "stdout",
     "output_type": "stream",
     "text": [
      "[1, 2, 3, 4, 5]\n",
      "[1 2 3 4 5]\n",
      "<class 'numpy.ndarray'>\n"
     ]
    }
   ],
   "source": [
    "a1 = np.array([1,2,3,4,5])\n",
    "#리스트 사이에 , 가 없다면 ndarray \n",
    "\n",
    "print([1,2,3,4,5])\n",
    "print(a1)\n",
    "print(type(a1))"
   ]
  },
  {
   "cell_type": "code",
   "execution_count": 5,
   "id": "133aaf89",
   "metadata": {},
   "outputs": [
    {
     "name": "stdout",
     "output_type": "stream",
     "text": [
      "[0 1 2 3 4 5 6 7 8 9]\n",
      "[ 3  6  9 12 15 18 21 24 27 30 33 36 39 42 45 48 51 54 57 60 63 66 69 72\n",
      " 75 78 81 84 87 90 93 96 99]\n",
      "[1.3 1.8 2.3 2.8 3.3 3.8 4.3 4.8 5.3 5.8 6.3 6.8 7.3 7.8 8.3 8.8 9.3 9.8]\n"
     ]
    }
   ],
   "source": [
    "a2 = np.arange(10)\n",
    "print(a2)\n",
    "\n",
    "# 변수 a3, 100 아래 3의 배수\n",
    "a3 = np.arange(3,100, 3)\n",
    "print(a3)\n",
    "\n",
    "# 1에서 부터 10아래 0.5씩 증가하는 숫자\n",
    "a4 = np.arange(1.3,10,0.5)\n",
    "print(a4)\n",
    "\n",
    "#lista = [i for i in range(1.3, 10, 0.5)]"
   ]
  },
  {
   "cell_type": "code",
   "execution_count": 14,
   "id": "65242ebe",
   "metadata": {},
   "outputs": [
    {
     "name": "stdout",
     "output_type": "stream",
     "text": [
      "[ 0.          0.71428571  1.42857143  2.14285714  2.85714286  3.57142857\n",
      "  4.28571429  5.          5.71428571  6.42857143  7.14285714  7.85714286\n",
      "  8.57142857  9.28571429 10.        ]\n"
     ]
    }
   ],
   "source": [
    "a4 = np.linspace(0, 10, 15) # 시작 끝 갯수(끝 숫자보다 크게 나눌수 있다.)\n",
    "print(a4)"
   ]
  },
  {
   "cell_type": "code",
   "execution_count": 21,
   "id": "2cceebbb",
   "metadata": {},
   "outputs": [
    {
     "name": "stdout",
     "output_type": "stream",
     "text": [
      "[0. 0. 0. 0. 0.]\n",
      "[1 1 1 1 1]\n"
     ]
    },
    {
     "data": {
      "text/plain": [
       "array([1., 1., 1., 1., 1.])"
      ]
     },
     "execution_count": 21,
     "metadata": {},
     "output_type": "execute_result"
    }
   ],
   "source": [
    "a5 = np.zeros(5)\n",
    "print(a5)\n",
    "\n",
    "a6 = np.ones(5, dtype=np.int64)\n",
    "print(a6)\n",
    "$ a6.astype(np.float64)"
   ]
  },
  {
   "cell_type": "code",
   "execution_count": 46,
   "id": "8c42429c",
   "metadata": {},
   "outputs": [
    {
     "name": "stdout",
     "output_type": "stream",
     "text": [
      "[10 15 20 25 30 35 40 45 50 55 60 65 70 75 80 85 90 95]\n",
      "60 95\n",
      "[25 30 35 40]\n",
      "[10 20 30 40 50 60 70 80 90]\n",
      "[15 25 45]\n"
     ]
    }
   ],
   "source": [
    "a10 = np.arange(10,100,5)\n",
    "print(a10)\n",
    "\n",
    "# 특정인덱스as\n",
    "print(a10[10], a10[-1])\n",
    "# 스타트, 스탑\n",
    "print(a10[3:7])\n",
    "# 스타트, 스탑, 스텝\n",
    "print(a10[::2])\n",
    "#1,3,7 인데스를 리스트에 담기\n",
    "print(a10[[1,3,7]])\n",
    "\n",
    "#list1 = [x for x in range(10,100,0.5)]\n",
    "#print(list1)"
   ]
  },
  {
   "cell_type": "code",
   "execution_count": 47,
   "id": "719e7029",
   "metadata": {},
   "outputs": [
    {
     "name": "stdout",
     "output_type": "stream",
     "text": [
      "[10 15 20 25 30 35 40 45 50 55 60 65 70 75 80 85 90 95]\n",
      "[15 25 35 45 55 65 75 85 95]\n",
      "[False  True False  True False  True False  True False  True False  True\n",
      " False  True False  True False  True]\n",
      "int32\n",
      "(18,)\n",
      "(18,)\n",
      "[15 25 35 45 55 65 75 85 95]\n"
     ]
    }
   ],
   "source": [
    "a10 = np.arange(10,100,5)\n",
    "print(a10)\n",
    "print(a10[a10%10 == 5])\n",
    "\n",
    "# 브로드케스팅의 ndarray가 있기때문에\n",
    "x = (a10%10 == 5)\n",
    "print(x)\n",
    "print(x.shape) #\n",
    "print(a10.shape)\n",
    "print(a10[x])"
   ]
  },
  {
   "cell_type": "code",
   "execution_count": 16,
   "id": "0516bd06",
   "metadata": {},
   "outputs": [
    {
     "name": "stdout",
     "output_type": "stream",
     "text": [
      "[1.  2.  3.5 4.2]\n",
      "['1' '2' 'abc' 'def']\n",
      "<U11\n",
      "float64\n",
      "1\n",
      "(4,)\n",
      "4\n",
      "8\n",
      "<memory at 0x0000019F41BF4280>\n"
     ]
    }
   ],
   "source": [
    "lista = [1, 2,3.5, 4.2] \n",
    "a7 = np.array(lista)\n",
    "    \n",
    "print(a7)\n",
    "\n",
    "listb = [1, 2 ,'abc','def'] # 데이터 타입을 통일\n",
    "all = np.array(listb);\n",
    "print(all)\n",
    "\n",
    "print(all.dtype)\n",
    "print(a7.dtype)\n",
    "print(a7.ndim) # 몇 차원 배열인지?\n",
    "print(a7.shape) # 모양을 어떻게 되는지? 1, 2차원 형태 투플로 shape을 준다\n",
    "print(a7.size) # 1차원일때는 숫자랑 똑같음(배열안에 있는 엘리먼트의 개수)\n",
    "\n",
    "# 잘 사용안함.\n",
    "print(a7.itemsize) #몇 바이트?\n",
    "print(a7.data) # 메모리 위치"
   ]
  },
  {
   "cell_type": "code",
   "execution_count": 64,
   "id": "5b8165f5",
   "metadata": {},
   "outputs": [
    {
     "name": "stdout",
     "output_type": "stream",
     "text": [
      "[0, 1, 2, 3, 4]\n",
      "[10, 11, 12, 13, 14]\n",
      "[0, 1, 2, 3, 4, 10, 11, 12, 13, 14]\n"
     ]
    }
   ],
   "source": [
    "lista = [x for x in range(5)]\n",
    "listb = [x for x in range(10,15)]\n",
    "\n",
    "print(lista)\n",
    "print(listb)\n",
    "\n",
    "print(lista + listb)\n",
    "#print(lista - listb)\n",
    "#print(lista * listb)\n",
    "#print(lista / listb)"
   ]
  },
  {
   "cell_type": "code",
   "execution_count": 60,
   "id": "881ef629",
   "metadata": {},
   "outputs": [
    {
     "name": "stdout",
     "output_type": "stream",
     "text": [
      "[0 1 2 3 4]\n",
      "[10 11 12 13 14]\n",
      "add: [10 12 14 16 18]\n",
      "[ 0  1  2  3  4 10 11 12 13 14]\n",
      "sub: [-10 -10 -10 -10 -10]\n",
      "mul: [ 0 11 24 39 56]\n",
      "div: [0.         0.09090909 0.16666667 0.23076923 0.28571429]\n"
     ]
    }
   ],
   "source": [
    "a1 = np.arange(5)\n",
    "a2 = np.arange(10,15)\n",
    "print(a1)\n",
    "print(a2)\n",
    "\n",
    "# 인덱스 별로 덧셈\n",
    "# 인덱스의 크기가 다르면 안됨(개수)\n",
    "print('add:',a1+a2)\n",
    "# 연결을 시키고 싶으면 튜플에 담아서 매개변수로 concatenate()에 줘야한다.\n",
    "print(np.concatenate((a1,a2)))\n",
    "print('sub:',a1-a2)\n",
    "print('mul:',a1*a2)\n",
    "print('div:',a1/a2)"
   ]
  }
 ],
 "metadata": {
  "kernelspec": {
   "display_name": "Python 3 (ipykernel)",
   "language": "python",
   "name": "python3"
  },
  "language_info": {
   "codemirror_mode": {
    "name": "ipython",
    "version": 3
   },
   "file_extension": ".py",
   "mimetype": "text/x-python",
   "name": "python",
   "nbconvert_exporter": "python",
   "pygments_lexer": "ipython3",
   "version": "3.10.9"
  }
 },
 "nbformat": 4,
 "nbformat_minor": 5
}
