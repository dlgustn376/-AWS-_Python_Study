{
 "cells": [
  {
   "cell_type": "code",
   "execution_count": 5,
   "id": "82e273fb",
   "metadata": {},
   "outputs": [
    {
     "name": "stdout",
     "output_type": "stream",
     "text": [
      "1등 당첨자 수: 0\n",
      "2등 당첨자 수: 0\n",
      "3등 당첨자 수: 85000000\n",
      "4등 당첨자 수: 198250000\n",
      "5등 당첨자 수: 170050000\n",
      "꽝 당첨자 수: 0\n"
     ]
    }
   ],
   "source": [
    "import random\n",
    "\n",
    "def lotto_game(num_tickets, num_games_per_ticket=1):\n",
    "    winnings = [0, 0, 0, 0, 0, 0]\n",
    "    numbers_drawn = random.sample(range(1, 46), 6)\n",
    "    bonus_number = random.randint(1, 46)\n",
    "    \n",
    "    for i in range(num_tickets):\n",
    "        ticket = [random.randint(1, 46) for j in range(6)]\n",
    "        for k in range(num_games_per_ticket):\n",
    "            matches = sum([1 for n in ticket if n in numbers_drawn])\n",
    "            if matches == 6:\n",
    "                winnings[0] += 1000000000\n",
    "            elif matches == 5 and bonus_number in ticket:\n",
    "                winnings[1] += 50000000\n",
    "            elif matches == 5:\n",
    "                winnings[2] += 500000\n",
    "            elif matches == 4:\n",
    "                winnings[3] += 50000\n",
    "            elif matches == 3:\n",
    "                winnings[4] += 5000\n",
    "            else:\n",
    "                winnings[5] += 0\n",
    "    \n",
    "    return winnings\n",
    "\n",
    "num_tickets = 234005\n",
    "num_games_per_ticket = 5\n",
    "\n",
    "winnings = lotto_game(num_tickets, num_games_per_ticket)\n",
    "print(\"1등 당첨자 수:\", winnings[0])\n",
    "print(\"2등 당첨자 수:\", winnings[1])\n",
    "print(\"3등 당첨자 수:\", winnings[2])\n",
    "print(\"4등 당첨자 수:\", winnings[3])\n",
    "print(\"5등 당첨자 수:\", winnings[4])\n",
    "print(\"꽝 당첨자 수:\", winnings[5])"
   ]
  }
 ],
 "metadata": {
  "kernelspec": {
   "display_name": "Python 3 (ipykernel)",
   "language": "python",
   "name": "python3"
  },
  "language_info": {
   "codemirror_mode": {
    "name": "ipython",
    "version": 3
   },
   "file_extension": ".py",
   "mimetype": "text/x-python",
   "name": "python",
   "nbconvert_exporter": "python",
   "pygments_lexer": "ipython3",
   "version": "3.10.9"
  }
 },
 "nbformat": 4,
 "nbformat_minor": 5
}
