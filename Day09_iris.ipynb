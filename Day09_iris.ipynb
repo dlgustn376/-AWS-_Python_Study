{
 "cells": [
  {
   "cell_type": "code",
   "execution_count": 1,
   "id": "4b98f0cf",
   "metadata": {},
   "outputs": [],
   "source": [
    "import requests\n",
    "import numpy as np\n",
    "\n",
    "x = requests.get('https://archive.ics.uci.edu/ml/machine-learning-databases/iris/iris.data')"
   ]
  },
  {
   "cell_type": "code",
   "execution_count": 4,
   "id": "055df285",
   "metadata": {},
   "outputs": [],
   "source": [
    "raw_data=[]\n",
    "for line in x.text.split('\\n'):\n",
    "    raw_data.append(line.split(','))\n",
    "    \n",
    "for sample in raw_data:\n",
    "    for i, value in enumerate(sample[:4]):\n",
    "        try:\n",
    "            sample[i] =float(value)\n",
    "        except:\n",
    "            sample[i] = 0.0"
   ]
  },
  {
   "cell_type": "code",
   "execution_count": 5,
   "id": "faf4e61f",
   "metadata": {},
   "outputs": [
    {
     "name": "stdout",
     "output_type": "stream",
     "text": [
      "[[5.1, 3.5, 1.4, 0.2, 'Iris-setosa'], [4.9, 3.0, 1.4, 0.2, 'Iris-setosa'], [4.7, 3.2, 1.3, 0.2, 'Iris-setosa']]\n"
     ]
    }
   ],
   "source": [
    "print(raw_data[:3])"
   ]
  },
  {
   "cell_type": "markdown",
   "id": "80b6ed4c",
   "metadata": {},
   "source": [
    "## 문자열 -> 숫자\n",
    "\n",
    "-- Iris Setosa  --> 0\n",
    "\n",
    "-- Iris Versicolour  --> 1\n",
    "\n",
    "-- Iris Vigineica  --> 2\n",
    "\n",
    "np_data - np.array(raw_data)\n"
   ]
  },
  {
   "cell_type": "code",
   "execution_count": 9,
   "id": "a9d989fd",
   "metadata": {},
   "outputs": [],
   "source": [
    "for sample in raw_data:\n",
    "    if len(sample)< 2:\n",
    "        continue\n",
    "    if 'setosa' in  sample[-1]:\n",
    "        sample[-1] = 0.0\n",
    "    elif 'versicolor' in sample[-1]:\n",
    "        sample[-1] = 1.0\n",
    "    elif 'virginica' in sample[-1]:\n",
    "        sample[-1] = 2.0     "
   ]
  },
  {
   "cell_type": "code",
   "execution_count": 10,
   "id": "b36fed12",
   "metadata": {},
   "outputs": [
    {
     "name": "stdout",
     "output_type": "stream",
     "text": [
      "[5.1, 3.5, 1.4, 0.2, 0.0]\n",
      "[6.4, 3.2, 4.5, 1.5, 1.0]\n",
      "[5.8, 2.7, 5.1, 1.9, 2.0]\n"
     ]
    }
   ],
   "source": [
    "print(raw_data[0])\n",
    "print(raw_data[51])\n",
    "print(raw_data[101])"
   ]
  },
  {
   "cell_type": "code",
   "execution_count": 11,
   "id": "48bb8286",
   "metadata": {},
   "outputs": [
    {
     "name": "stdout",
     "output_type": "stream",
     "text": [
      "[[5.9, 3.0, 5.1, 1.8, 2.0], [0.0], [0.0]]\n",
      "152\n"
     ]
    }
   ],
   "source": [
    "print(raw_data[-3:])\n",
    "print(len(raw_data))\n",
    "raw_data = raw_data[:150]"
   ]
  },
  {
   "cell_type": "code",
   "execution_count": 12,
   "id": "3892f026",
   "metadata": {},
   "outputs": [
    {
     "name": "stdout",
     "output_type": "stream",
     "text": [
      "150\n"
     ]
    }
   ],
   "source": [
    "print(len(raw_data))"
   ]
  },
  {
   "cell_type": "code",
   "execution_count": 14,
   "id": "d4384d05",
   "metadata": {},
   "outputs": [
    {
     "data": {
      "text/plain": [
       "array([[5.1, 3.5, 1.4, 0.2, 0. ],\n",
       "       [4.9, 3. , 1.4, 0.2, 0. ],\n",
       "       [4.7, 3.2, 1.3, 0.2, 0. ]])"
      ]
     },
     "execution_count": 14,
     "metadata": {},
     "output_type": "execute_result"
    }
   ],
   "source": [
    "np_data = np.array(raw_data)\n",
    "np_data.shape\n",
    "np_data[:3]"
   ]
  },
  {
   "cell_type": "markdown",
   "id": "3f496e36",
   "metadata": {},
   "source": [
    "### 기본 통계 값\n",
    "\n",
    "* 전체(150샘플) 평균, 표준편차 - sepal length, sepal width, petal length, petal width\n",
    "\n",
    "* 품종별(50개씩) 평균, 표준편차\n",
    "\n",
    "* 평균 np.mean()\n",
    "\n",
    "* 표준편타 np.std()"
   ]
  },
  {
   "cell_type": "code",
   "execution_count": 51,
   "id": "710c3415",
   "metadata": {},
   "outputs": [
    {
     "name": "stdout",
     "output_type": "stream",
     "text": [
      "sepal_length :5.843333333333335, sepal_width: 3.0540000000000007, petal_length : 3.7586666666666693, petal_width: 1.1986666666666672\n",
      "sepal_length :0.8253012917851409, sepal_width: 0.4321465800705435, petal_length : 1.7585291834055201, petal_width: 0.760612618588172\n"
     ]
    }
   ],
   "source": [
    "np_mean = np.mean(np_data,axis=0)\n",
    "print('sepal_length :{}, sepal_width: {}, petal_length : {}, petal_width: {}'.format(np_mean[0],np_mean[1],np_mean[2],np_mean[3]))\n",
    "np_std = np.std(np_data,axis=0)\n",
    "print('sepal_length :{}, sepal_width: {}, petal_length : {}, petal_width: {}'.format(np_std[0],np_std[1],np_std[2],np_std[3]))"
   ]
  },
  {
   "cell_type": "code",
   "execution_count": 57,
   "id": "a202abdb",
   "metadata": {},
   "outputs": [
    {
     "name": "stdout",
     "output_type": "stream",
     "text": [
      "[[ 1.         -0.10936925  0.87175416  0.81795363  0.78256123]\n",
      " [-0.10936925  1.         -0.4205161  -0.35654409 -0.4194462 ]\n",
      " [ 0.87175416 -0.4205161   1.          0.9627571   0.94904254]\n",
      " [ 0.81795363 -0.35654409  0.9627571   1.          0.95646382]\n",
      " [ 0.78256123 -0.4194462   0.94904254  0.95646382  1.        ]]\n"
     ]
    }
   ],
   "source": [
    "print(np.corrcoef(np_data.T)) #상관도"
   ]
  },
  {
   "cell_type": "code",
   "execution_count": 47,
   "id": "b067bf44",
   "metadata": {},
   "outputs": [
    {
     "name": "stdout",
     "output_type": "stream",
     "text": [
      "4.3\n",
      "2.0\n",
      "1.0\n",
      "0.1\n"
     ]
    }
   ],
   "source": [
    "sepal_length_min = np.min(np_data[:,0])\n",
    "print(sepal_length_min)\n",
    "sepal_width_min = np.min(np_data[:,1])\n",
    "print(sepal_width_min)\n",
    "petal_length_min = np.min(np_data[:,2])\n",
    "print(petal_length_min)\n",
    "petal_width_min = np.min(np_data[:,3])\n",
    "print(petal_width_min)"
   ]
  },
  {
   "cell_type": "code",
   "execution_count": 48,
   "id": "071330fb",
   "metadata": {},
   "outputs": [
    {
     "name": "stdout",
     "output_type": "stream",
     "text": [
      "7.9\n",
      "4.4\n",
      "1.0\n",
      "2.5\n"
     ]
    }
   ],
   "source": [
    "sepal_length_max = np.max(np_data[:,0])\n",
    "print(sepal_length_max)\n",
    "sepal_width_max = np.max(np_data[:,1])\n",
    "print(sepal_width_max)\n",
    "petal_length_max = np.max(np_data[:,2])\n",
    "print(petal_length_min)\n",
    "petal_width_max = np.max(np_data[:,3])\n",
    "print(petal_width_max)"
   ]
  },
  {
   "cell_type": "code",
   "execution_count": 61,
   "id": "e57a1b51",
   "metadata": {},
   "outputs": [
    {
     "name": "stdout",
     "output_type": "stream",
     "text": [
      "[5.006 3.418 1.464 0.244 0.   ]\n",
      "[0.34894699 0.37719491 0.17176728 0.10613199 0.        ]\n",
      "[5.936 2.77  4.26  1.326 1.   ]\n",
      "[0.51098337 0.31064449 0.46518813 0.19576517 0.        ]\n",
      "[6.588 2.974 5.552 2.026 2.   ]\n",
      "[0.62948868 0.31925538 0.54634787 0.27188968 0.        ]\n"
     ]
    }
   ],
   "source": [
    "filter_setosa = np_data[:,-1]==0.0\n",
    "filter_versicolor = np_data[:,-1]==1.0\n",
    "filter_virginica = np_data[:,-1]==2.0\n",
    "\n",
    "print(np.mean(np_data[filter_setosa], axis=0))\n",
    "print(np.std(np_data[filter_setosa], axis=0))\n",
    "\n",
    "print(np.mean(np_data[filter_versicolor], axis=0))\n",
    "print(np.std(np_data[filter_versicolor], axis=0))\n",
    "\n",
    "print(np.mean(np_data[filter_virginica], axis=0))\n",
    "print(np.std(np_data[filter_virginica], axis=0))"
   ]
  }
 ],
 "metadata": {
  "kernelspec": {
   "display_name": "Python 3 (ipykernel)",
   "language": "python",
   "name": "python3"
  },
  "language_info": {
   "codemirror_mode": {
    "name": "ipython",
    "version": 3
   },
   "file_extension": ".py",
   "mimetype": "text/x-python",
   "name": "python",
   "nbconvert_exporter": "python",
   "pygments_lexer": "ipython3",
   "version": "3.10.9"
  }
 },
 "nbformat": 4,
 "nbformat_minor": 5
}
